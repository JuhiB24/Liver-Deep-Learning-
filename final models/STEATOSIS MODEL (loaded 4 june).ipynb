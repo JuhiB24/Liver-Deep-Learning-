{
 "cells": [
  {
   "cell_type": "code",
   "execution_count": 1,
   "id": "8f2fd7cb",
   "metadata": {},
   "outputs": [],
   "source": [
    "import os\n",
    "import shutil\n",
    "from tensorflow.keras.preprocessing.image import ImageDataGenerator\n",
    "import matplotlib.pyplot as plt\n",
    "from tensorflow.keras.applications import ResNet50\n",
    "from tensorflow.keras.layers import GlobalAveragePooling2D, Dense\n",
    "from tensorflow.keras.models import Model\n",
    "from tensorflow.keras.optimizers import Adam\n",
    "from tensorflow.keras.preprocessing import image\n",
    "import numpy as np\n",
    "from PIL import Image"
   ]
  },
  {
   "cell_type": "code",
   "execution_count": 2,
   "id": "1c3dfebf",
   "metadata": {},
   "outputs": [
    {
     "ename": "TypeError",
     "evalue": "weight_decay is not a valid argument, kwargs should be empty  for `optimizer_experimental.Optimizer`.",
     "output_type": "error",
     "traceback": [
      "\u001b[1;31m---------------------------------------------------------------------------\u001b[0m",
      "\u001b[1;31mTypeError\u001b[0m                                 Traceback (most recent call last)",
      "\u001b[1;32m<ipython-input-2-0e5c84ee6c6e>\u001b[0m in \u001b[0;36m<module>\u001b[1;34m\u001b[0m\n\u001b[0;32m      1\u001b[0m \u001b[1;32mfrom\u001b[0m \u001b[0mtensorflow\u001b[0m\u001b[1;33m.\u001b[0m\u001b[0mkeras\u001b[0m\u001b[1;33m.\u001b[0m\u001b[0mmodels\u001b[0m \u001b[1;32mimport\u001b[0m \u001b[0mload_model\u001b[0m\u001b[1;33m\u001b[0m\u001b[1;33m\u001b[0m\u001b[0m\n\u001b[1;32m----> 2\u001b[1;33m \u001b[0mmodel\u001b[0m \u001b[1;33m=\u001b[0m \u001b[0mload_model\u001b[0m\u001b[1;33m(\u001b[0m\u001b[1;34m'D:/DATASET/Models/model_steatosis.h5'\u001b[0m\u001b[1;33m)\u001b[0m\u001b[1;33m\u001b[0m\u001b[1;33m\u001b[0m\u001b[0m\n\u001b[0m",
      "\u001b[1;32m~\\anaconda3\\lib\\site-packages\\keras\\utils\\traceback_utils.py\u001b[0m in \u001b[0;36merror_handler\u001b[1;34m(*args, **kwargs)\u001b[0m\n\u001b[0;32m     65\u001b[0m     \u001b[1;32mexcept\u001b[0m \u001b[0mException\u001b[0m \u001b[1;32mas\u001b[0m \u001b[0me\u001b[0m\u001b[1;33m:\u001b[0m  \u001b[1;31m# pylint: disable=broad-except\u001b[0m\u001b[1;33m\u001b[0m\u001b[1;33m\u001b[0m\u001b[0m\n\u001b[0;32m     66\u001b[0m       \u001b[0mfiltered_tb\u001b[0m \u001b[1;33m=\u001b[0m \u001b[0m_process_traceback_frames\u001b[0m\u001b[1;33m(\u001b[0m\u001b[0me\u001b[0m\u001b[1;33m.\u001b[0m\u001b[0m__traceback__\u001b[0m\u001b[1;33m)\u001b[0m\u001b[1;33m\u001b[0m\u001b[1;33m\u001b[0m\u001b[0m\n\u001b[1;32m---> 67\u001b[1;33m       \u001b[1;32mraise\u001b[0m \u001b[0me\u001b[0m\u001b[1;33m.\u001b[0m\u001b[0mwith_traceback\u001b[0m\u001b[1;33m(\u001b[0m\u001b[0mfiltered_tb\u001b[0m\u001b[1;33m)\u001b[0m \u001b[1;32mfrom\u001b[0m \u001b[1;32mNone\u001b[0m\u001b[1;33m\u001b[0m\u001b[1;33m\u001b[0m\u001b[0m\n\u001b[0m\u001b[0;32m     68\u001b[0m     \u001b[1;32mfinally\u001b[0m\u001b[1;33m:\u001b[0m\u001b[1;33m\u001b[0m\u001b[1;33m\u001b[0m\u001b[0m\n\u001b[0;32m     69\u001b[0m       \u001b[1;32mdel\u001b[0m \u001b[0mfiltered_tb\u001b[0m\u001b[1;33m\u001b[0m\u001b[1;33m\u001b[0m\u001b[0m\n",
      "\u001b[1;32m~\\anaconda3\\lib\\site-packages\\keras\\optimizer_experimental\\optimizer.py\u001b[0m in \u001b[0;36m_process_kwargs\u001b[1;34m(self, kwargs)\u001b[0m\n\u001b[0;32m     84\u001b[0m             \", please check the docstring for valid arguments.\", k)\n\u001b[0;32m     85\u001b[0m       \u001b[1;32melse\u001b[0m\u001b[1;33m:\u001b[0m\u001b[1;33m\u001b[0m\u001b[1;33m\u001b[0m\u001b[0m\n\u001b[1;32m---> 86\u001b[1;33m         raise TypeError(f\"{k} is not a valid argument, kwargs should be empty \"\n\u001b[0m\u001b[0;32m     87\u001b[0m                         \" for `optimizer_experimental.Optimizer`.\")\n\u001b[0;32m     88\u001b[0m \u001b[1;33m\u001b[0m\u001b[0m\n",
      "\u001b[1;31mTypeError\u001b[0m: weight_decay is not a valid argument, kwargs should be empty  for `optimizer_experimental.Optimizer`."
     ]
    }
   ],
   "source": [
    "from tensorflow.keras.models import load_model\n",
    "model = load_model('D:/DATASET/Models/model_steatosis.h5')"
   ]
  },
  {
   "cell_type": "code",
   "execution_count": null,
   "id": "807bab42",
   "metadata": {},
   "outputs": [],
   "source": [
    "for layer in model.layers:\n",
    "    print(layer.name)"
   ]
  },
  {
   "cell_type": "code",
   "execution_count": null,
   "id": "a48feb2f",
   "metadata": {},
   "outputs": [],
   "source": []
  },
  {
   "cell_type": "code",
   "execution_count": null,
   "id": "1470a535",
   "metadata": {},
   "outputs": [],
   "source": [
    "def predict_new_image(image_path, model_path='D:/DATASET/Models/model_steatosis.h5'):\n",
    "    \"\"\" Load an image, preprocess it, and use a trained model to predict the steatosis level. \"\"\"\n",
    "\n",
    "    # Load and preprocess the image\n",
    "    img = image.load_img(image_path, target_size=(299, 299))\n",
    "    img_array = image.img_to_array(img)\n",
    "    img_array = np.expand_dims(img_array, axis=0)  # Create a batch\n",
    "    img_array /= 255.0  # Normalize the image\n",
    "\n",
    "    # Predict the steatosis level\n",
    "    probabilities = model.predict(img_array)\n",
    "    predicted_class = np.argmax(probabilities)\n",
    "\n",
    "    # Show the image and the prediction\n",
    "    plt.imshow(img)\n",
    "    plt.title(f'Predicted Steatosis Level: {predicted_class}')\n",
    "    plt.axis('off')\n",
    "    plt.show()\n",
    "\n",
    "    return predicted_class"
   ]
  },
  {
   "cell_type": "code",
   "execution_count": null,
   "id": "a6a9314c",
   "metadata": {},
   "outputs": [],
   "source": [
    "def extract_and_display_image(image_path, feature_model):\n",
    "    img = Image.open(image_path)\n",
    "    img_resized = img.resize((299, 299), Image.ANTIALIAS)\n",
    "    img_array = np.array(img_resized) / 255.0\n",
    "    img_array = img_array[np.newaxis, ...]\n",
    "\n",
    "    # Display the original image\n",
    "    plt.imshow(img)\n",
    "    plt.title(\"Original Image\")\n",
    "    plt.axis('off')\n",
    "    plt.show()\n",
    "\n",
    "    # Get the feature maps\n",
    "    feature_maps = feature_model.predict(img_array)[0]\n",
    "    return feature_maps"
   ]
  },
  {
   "cell_type": "code",
   "execution_count": null,
   "id": "1f1d5ba2",
   "metadata": {},
   "outputs": [],
   "source": [
    "def visualize_feature_maps(feature_maps, num_features=15):\n",
    "    # Display the first 'num_features' feature maps\n",
    "    fig, axes = plt.subplots(nrows=int(np.sqrt(num_features)), ncols=int(np.sqrt(num_features)), figsize=(10, 10))\n",
    "    for i, ax in enumerate(axes.flat):\n",
    "        if i < num_features:\n",
    "            ax.imshow(feature_maps[:, :, i], cmap='viridis')\n",
    "            ax.axis('off')\n",
    "    plt.show()"
   ]
  },
  {
   "cell_type": "code",
   "execution_count": null,
   "id": "70bd3798",
   "metadata": {},
   "outputs": [],
   "source": [
    "# Create a model for feature map extraction\n",
    "feature_model = Model(inputs=model.input, outputs=model.get_layer('conv5_block3_3_conv').output)"
   ]
  },
  {
   "cell_type": "code",
   "execution_count": null,
   "id": "b16a94a1",
   "metadata": {},
   "outputs": [],
   "source": [
    "image_path = \"D:/DATASET/CNN/steatosis/train/2/23_184_101.png\"\n",
    "feature_maps = extract_and_display_image(image_path, feature_model)\n",
    "visualize_feature_maps(feature_maps)\n",
    "predicted_class = predict_new_image(image_path)"
   ]
  },
  {
   "cell_type": "code",
   "execution_count": null,
   "id": "4272ba21",
   "metadata": {},
   "outputs": [],
   "source": []
  },
  {
   "cell_type": "code",
   "execution_count": null,
   "id": "212eb0f8",
   "metadata": {},
   "outputs": [],
   "source": []
  },
  {
   "cell_type": "code",
   "execution_count": null,
   "id": "c147cbfc",
   "metadata": {},
   "outputs": [],
   "source": []
  },
  {
   "cell_type": "code",
   "execution_count": null,
   "id": "81d7c3b6",
   "metadata": {},
   "outputs": [],
   "source": []
  },
  {
   "cell_type": "code",
   "execution_count": null,
   "id": "6358b4e3",
   "metadata": {},
   "outputs": [],
   "source": []
  },
  {
   "cell_type": "code",
   "execution_count": null,
   "id": "85b56e05",
   "metadata": {},
   "outputs": [],
   "source": [
    "# Assuming you have a test image \n",
    "image_path = 'D:/DATASET/CNN/steatosis/train/2/5_42_24.png'\n",
    "predicted_class = predict_new_image(image_path)"
   ]
  },
  {
   "cell_type": "code",
   "execution_count": 3,
   "id": "280732d3",
   "metadata": {},
   "outputs": [],
   "source": [
    "def crop_and_predict_large_image(image_path, model_path):\n",
    "    # Load the pre-trained model\n",
    "    model = load_model(model_path)\n",
    "    \n",
    "    # Load the image\n",
    "    img = Image.open(image_path)\n",
    "\n",
    "    # Define crop size and step size for the original desired crop dimensions\n",
    "    crop_width, crop_height = 185, 93\n",
    "    model_input_size = (299, 299)  # Model's expected input size\n",
    "\n",
    "    # Initialize a list to store scores and prepare for cropping\n",
    "    scores = []\n",
    "    num_rows = (img.height // crop_height)\n",
    "    num_cols = (img.width // crop_width)\n",
    "    fig, axs = plt.subplots(nrows=num_rows, ncols=num_cols, figsize=(20, 10))\n",
    "\n",
    "    # Crop the image and predict for each crop\n",
    "    for i in range(0, img.height - crop_height + 1, crop_height):\n",
    "        for j in range(0, img.width - crop_width + 1, crop_width):\n",
    "            crop = img.crop((j, i, j + crop_width, i + crop_height))\n",
    "            crop = crop.resize(model_input_size)  # Resize the crop to match the model's input size\n",
    "            crop_array = np.array(crop) / 255.0  # Normalize the image data\n",
    "            crop_array = np.expand_dims(crop_array, axis=0)  # Add batch dimension\n",
    "\n",
    "            # Predict the class and store the score\n",
    "            prediction = model.predict(crop_array)\n",
    "            predicted_class = np.argmax(prediction)\n",
    "            scores.append(predicted_class)\n",
    "\n",
    "            # Plot each crop\n",
    "            ax_idx = (i // crop_height, j // crop_width)\n",
    "            axs[ax_idx].imshow(crop)\n",
    "            axs[ax_idx].title.set_text(f'Score: {predicted_class}')\n",
    "            axs[ax_idx].axis('off')\n",
    "\n",
    "    # Calculate the average score of all crops\n",
    "    average_score = np.mean(scores)\n",
    "\n",
    "    # Show the large image with the average score\n",
    "    plt.figure(figsize=(10, 5))\n",
    "    plt.imshow(img)\n",
    "    plt.title(f'Large Image with Average Score: {average_score:.2f}')\n",
    "    plt.axis('off')\n",
    "    plt.show()\n",
    "    print(f'Average Steatosis Score for the image: {average_score:.2f}')\n",
    "\n",
    "    return average_score"
   ]
  },
  {
   "cell_type": "code",
   "execution_count": 5,
   "id": "4635df4c",
   "metadata": {},
   "outputs": [
    {
     "name": "stdout",
     "output_type": "stream",
     "text": [
      "1/1 [==============================] - 1s 1s/step\n"
     ]
    },
    {
     "ename": "IndexError",
     "evalue": "too many indices for array: array is 1-dimensional, but 2 were indexed",
     "output_type": "error",
     "traceback": [
      "\u001b[1;31m---------------------------------------------------------------------------\u001b[0m",
      "\u001b[1;31mIndexError\u001b[0m                                Traceback (most recent call last)",
      "\u001b[1;32m<ipython-input-5-589589bc0fb1>\u001b[0m in \u001b[0;36m<module>\u001b[1;34m\u001b[0m\n\u001b[0;32m      1\u001b[0m \u001b[0mmodel_path\u001b[0m \u001b[1;33m=\u001b[0m \u001b[1;34m'D:/DATASET/Models/model_steatosis.h5'\u001b[0m\u001b[1;33m\u001b[0m\u001b[1;33m\u001b[0m\u001b[0m\n\u001b[0;32m      2\u001b[0m \u001b[0mimage_path\u001b[0m \u001b[1;33m=\u001b[0m \u001b[1;34m\"D:/DATASET/CNN/steatosis/train/2/23_184_101.png\"\u001b[0m\u001b[1;33m\u001b[0m\u001b[1;33m\u001b[0m\u001b[0m\n\u001b[1;32m----> 3\u001b[1;33m \u001b[0maverage_steatosis_score\u001b[0m \u001b[1;33m=\u001b[0m \u001b[0mcrop_and_predict_large_image\u001b[0m\u001b[1;33m(\u001b[0m\u001b[0mimage_path\u001b[0m\u001b[1;33m,\u001b[0m \u001b[0mmodel_path\u001b[0m\u001b[1;33m)\u001b[0m\u001b[1;33m\u001b[0m\u001b[1;33m\u001b[0m\u001b[0m\n\u001b[0m",
      "\u001b[1;32m<ipython-input-3-18d369fb5432>\u001b[0m in \u001b[0;36mcrop_and_predict_large_image\u001b[1;34m(image_path, model_path)\u001b[0m\n\u001b[0;32m     31\u001b[0m             \u001b[1;31m# Plot each crop\u001b[0m\u001b[1;33m\u001b[0m\u001b[1;33m\u001b[0m\u001b[1;33m\u001b[0m\u001b[0m\n\u001b[0;32m     32\u001b[0m             \u001b[0max_idx\u001b[0m \u001b[1;33m=\u001b[0m \u001b[1;33m(\u001b[0m\u001b[0mi\u001b[0m \u001b[1;33m//\u001b[0m \u001b[0mcrop_height\u001b[0m\u001b[1;33m,\u001b[0m \u001b[0mj\u001b[0m \u001b[1;33m//\u001b[0m \u001b[0mcrop_width\u001b[0m\u001b[1;33m)\u001b[0m\u001b[1;33m\u001b[0m\u001b[1;33m\u001b[0m\u001b[0m\n\u001b[1;32m---> 33\u001b[1;33m             \u001b[0maxs\u001b[0m\u001b[1;33m[\u001b[0m\u001b[0max_idx\u001b[0m\u001b[1;33m]\u001b[0m\u001b[1;33m.\u001b[0m\u001b[0mimshow\u001b[0m\u001b[1;33m(\u001b[0m\u001b[0mcrop\u001b[0m\u001b[1;33m)\u001b[0m\u001b[1;33m\u001b[0m\u001b[1;33m\u001b[0m\u001b[0m\n\u001b[0m\u001b[0;32m     34\u001b[0m             \u001b[0maxs\u001b[0m\u001b[1;33m[\u001b[0m\u001b[0max_idx\u001b[0m\u001b[1;33m]\u001b[0m\u001b[1;33m.\u001b[0m\u001b[0mtitle\u001b[0m\u001b[1;33m.\u001b[0m\u001b[0mset_text\u001b[0m\u001b[1;33m(\u001b[0m\u001b[1;34mf'Score: {predicted_class}'\u001b[0m\u001b[1;33m)\u001b[0m\u001b[1;33m\u001b[0m\u001b[1;33m\u001b[0m\u001b[0m\n\u001b[0;32m     35\u001b[0m             \u001b[0maxs\u001b[0m\u001b[1;33m[\u001b[0m\u001b[0max_idx\u001b[0m\u001b[1;33m]\u001b[0m\u001b[1;33m.\u001b[0m\u001b[0maxis\u001b[0m\u001b[1;33m(\u001b[0m\u001b[1;34m'off'\u001b[0m\u001b[1;33m)\u001b[0m\u001b[1;33m\u001b[0m\u001b[1;33m\u001b[0m\u001b[0m\n",
      "\u001b[1;31mIndexError\u001b[0m: too many indices for array: array is 1-dimensional, but 2 were indexed"
     ]
    },
    {
     "data": {
      "image/png": "[encoded data removed]",
      "text/plain": [
       "<Figure size 1440x720 with 3 Axes>"
      ]
     },
     "metadata": {
      "needs_background": "light"
     },
     "output_type": "display_data"
    }
   ],
   "source": [
    "model_path = 'D:/DATASET/Models/model_steatosis.h5'\n",
    "image_path = \"D:/DATASET/CNN/steatosis/train/2/23_184_101.png\"\n",
    "average_steatosis_score = crop_and_predict_large_image(image_path, model_path)"
   ]
  },
  {
   "cell_type": "code",
   "execution_count": null,
   "id": "22fcf232",
   "metadata": {},
   "outputs": [],
   "source": []
  },
  {
   "cell_type": "code",
   "execution_count": null,
   "id": "9068b642",
   "metadata": {},
   "outputs": [],
   "source": []
  },
  {
   "cell_type": "code",
   "execution_count": null,
   "id": "e1957edf",
   "metadata": {},
   "outputs": [],
   "source": []
  },
  {
   "cell_type": "code",
   "execution_count": null,
   "id": "d574c247",
   "metadata": {},
   "outputs": [],
   "source": []
  }
 ],
 "metadata": {
  "kernelspec": {
   "display_name": "Python 3",
   "language": "python",
   "name": "python3"
  },
  "language_info": {
   "codemirror_mode": {
    "name": "ipython",
    "version": 3
   },
   "file_extension": ".py",
   "mimetype": "text/x-python",
   "name": "python",
   "nbconvert_exporter": "python",
   "pygments_lexer": "ipython3",
   "version": "3.8.8"
  }
 },
 "nbformat": 4,
 "nbformat_minor": 5
}
