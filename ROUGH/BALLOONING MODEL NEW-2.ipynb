{
 "cells": [
  {
   "cell_type": "code",
   "execution_count": 1,
   "id": "a6c28626",
   "metadata": {},
   "outputs": [],
   "source": [
    "import numpy as np\n",
    "import matplotlib.pyplot as plt\n",
    "from sklearn.utils import shuffle\n",
    "from sklearn.model_selection import train_test_split\n",
    "from skimage.color import rgb2gray\n",
    "from skimage.filters import gaussian\n",
    "from tensorflow.keras.preprocessing.image import ImageDataGenerator\n",
    "from tensorflow.keras.applications import ResNet50\n",
    "from tensorflow.keras.layers import Dense, GlobalAveragePooling2D\n",
    "from tensorflow.keras.models import Model\n",
    "from tensorflow.keras.optimizers import Adam\n",
    "\n",
    "# Define paths to your dataset\n",
    "train_data_dir = 'D:/DATASET/CNN/ballooning/train'\n",
    "batch_size = 32"
   ]
  },
  {
   "cell_type": "code",
   "execution_count": 2,
   "id": "edce8232",
   "metadata": {},
   "outputs": [
    {
     "name": "stdout",
     "output_type": "stream",
     "text": [
      "Found 7973 images belonging to 2 classes.\n"
     ]
    }
   ],
   "source": [
    "# Data loading and preprocessing\n",
    "train_datagen = ImageDataGenerator(rescale=1./255,\n",
    "                                   preprocessing_function=lambda x: gaussian(rgb2gray(x), sigma=1))\n",
    "\n",
    "train_generator = train_datagen.flow_from_directory(\n",
    "    train_data_dir,\n",
    "    target_size=(224, 224),\n",
    "    batch_size=batch_size,\n",
    "    class_mode='binary',\n",
    "    shuffle=True)"
   ]
  },
  {
   "cell_type": "code",
   "execution_count": 3,
   "id": "d069af23",
   "metadata": {},
   "outputs": [
    {
     "ename": "NameError",
     "evalue": "name 'class_weight' is not defined",
     "output_type": "error",
     "traceback": [
      "\u001b[1;31m---------------------------------------------------------------------------\u001b[0m",
      "\u001b[1;31mNameError\u001b[0m                                 Traceback (most recent call last)",
      "\u001b[1;32m<ipython-input-3-cc9fd0c20f77>\u001b[0m in \u001b[0;36m<module>\u001b[1;34m\u001b[0m\n\u001b[0;32m      1\u001b[0m \u001b[1;31m# Calculate class weights for balancing\u001b[0m\u001b[1;33m\u001b[0m\u001b[1;33m\u001b[0m\u001b[1;33m\u001b[0m\u001b[0m\n\u001b[1;32m----> 2\u001b[1;33m class_weights = class_weight.compute_class_weight(\n\u001b[0m\u001b[0;32m      3\u001b[0m     \u001b[1;34m'balanced'\u001b[0m\u001b[1;33m,\u001b[0m\u001b[1;33m\u001b[0m\u001b[1;33m\u001b[0m\u001b[0m\n\u001b[0;32m      4\u001b[0m     \u001b[0mnp\u001b[0m\u001b[1;33m.\u001b[0m\u001b[0munique\u001b[0m\u001b[1;33m(\u001b[0m\u001b[0mtrain_generator\u001b[0m\u001b[1;33m.\u001b[0m\u001b[0mclasses\u001b[0m\u001b[1;33m)\u001b[0m\u001b[1;33m,\u001b[0m\u001b[1;33m\u001b[0m\u001b[1;33m\u001b[0m\u001b[0m\n\u001b[0;32m      5\u001b[0m     train_generator.classes)\n",
      "\u001b[1;31mNameError\u001b[0m: name 'class_weight' is not defined"
     ]
    }
   ],
   "source": [
    "# Calculate class weights for balancing\n",
    "class_weights = class_weight.compute_class_weight(\n",
    "    'balanced',\n",
    "    np.unique(train_generator.classes),\n",
    "    train_generator.classes)"
   ]
  },
  {
   "cell_type": "code",
   "execution_count": null,
   "id": "142bbb7a",
   "metadata": {},
   "outputs": [],
   "source": [
    "# Define oversampling and downsampling ratios\n",
    "oversampling_ratio = 6700 / 1273  # Class 1 / Class 0\n",
    "downsampling_ratio = 1 / oversampling_ratio\n",
    "\n",
    "# Balance the dataset\n",
    "train_generator = shuffle(train_generator)  # Shuffle to ensure randomness\n",
    "class_0_count = np.sum(train_generator.classes == 0)\n",
    "class_1_count = np.sum(train_generator.classes == 1)"
   ]
  },
  {
   "cell_type": "code",
   "execution_count": null,
   "id": "740ca96a",
   "metadata": {},
   "outputs": [],
   "source": [
    "import os\n",
    "import shutil\n",
    "\n",
    "# Define paths for balanced dataset\n",
    "balanced_train_dir = 'D:/DATASET/CNN/ballooning/balanced_train'\n",
    "class_0_dir = os.path.join(balanced_train_dir, '0')\n",
    "class_1_dir = os.path.join(balanced_train_dir, '1')\n",
    "\n",
    "# Create directories if they don't exist\n",
    "os.makedirs(class_0_dir, exist_ok=True)\n",
    "os.makedirs(class_1_dir, exist_ok=True)\n",
    "\n",
    "# Move images to corresponding directories\n",
    "for i, (image, label) in enumerate(train_generator):\n",
    "    if label == 0:\n",
    "        shutil.copy(train_generator.filepaths[i], os.path.join(class_0_dir, f'image_{i}.jpg'))\n",
    "    else:\n",
    "        shutil.copy(train_generator.filepaths[i], os.path.join(class_1_dir, f'image_{i}.jpg'))\n",
    "    \n",
    "    if i + 1 == len(train_generator):\n",
    "        break"
   ]
  },
  {
   "cell_type": "code",
   "execution_count": null,
   "id": "a870cec8",
   "metadata": {},
   "outputs": [],
   "source": []
  },
  {
   "cell_type": "code",
   "execution_count": null,
   "id": "5d35ceb4",
   "metadata": {},
   "outputs": [],
   "source": [
    "if class_0_count < class_1_count:\n",
    "    train_generator = train_datagen.flow_from_directory(\n",
    "        train_data_dir,\n",
    "        target_size=(224, 224),\n",
    "        batch_size=batch_size,\n",
    "        class_mode='binary',\n",
    "        shuffle=True,\n",
    "        subset='indices',\n",
    "        seed=42,\n",
    "        classes=['0'],\n",
    "        interpolation='nearest')\n",
    "    oversample_generator = train_datagen.flow_from_directory(\n",
    "        train_data_dir,\n",
    "        target_size=(224, 224),\n",
    "        batch_size=int(batch_size * oversampling_ratio),\n",
    "        class_mode='binary',\n",
    "        shuffle=True,\n",
    "        subset='indices',\n",
    "        seed=42,\n",
    "        classes=['1'],\n",
    "        interpolation='nearest')\n",
    "    train_generator = combine_generators(train_generator, oversample_generator, class_0_count, class_1_count)\n",
    "else:\n",
    "    train_generator = train_datagen.flow_from_directory(\n",
    "        train_data_dir,\n",
    "        target_size=(224, 224),\n",
    "        batch_size=batch_size,\n",
    "        class_mode='binary',\n",
    "        shuffle=True,\n",
    "        subset='indices',\n",
    "        seed=42,\n",
    "        classes=['1'],\n",
    "        interpolation='nearest')\n",
    "    downsample_generator = train_datagen.flow_from_directory(\n",
    "        train_data_dir,\n",
    "        target_size=(224, 224),\n",
    "        batch_size=int(batch_size * downsampling_ratio),\n",
    "        class_mode='binary',\n",
    "        shuffle=True,\n",
    "        subset='indices',\n",
    "        seed=42,\n",
    "        classes=['0'],\n",
    "        interpolation='nearest')\n",
    "    train_generator = combine_generators(downsample_generator, train_generator, class_0_count, class_1_count)"
   ]
  },
  {
   "cell_type": "code",
   "execution_count": null,
   "id": "09addc9d",
   "metadata": {},
   "outputs": [],
   "source": [
    "# Define the base model\n",
    "base_model = ResNet50(weights='imagenet', include_top=False)"
   ]
  },
  {
   "cell_type": "code",
   "execution_count": null,
   "id": "32ec411a",
   "metadata": {},
   "outputs": [],
   "source": [
    "# Add a global spatial average pooling layer\n",
    "x = base_model.output\n",
    "x = GlobalAveragePooling2D()(x)\n",
    "# Add a fully connected layer\n",
    "x = Dense(1024, activation='relu')(x)\n",
    "# Add a logistic layer\n",
    "predictions = Dense(1, activation='sigmoid')(x)"
   ]
  },
  {
   "cell_type": "code",
   "execution_count": null,
   "id": "877662ed",
   "metadata": {},
   "outputs": [],
   "source": [
    "# This is the model we will train\n",
    "model = Model(inputs=base_model.input, outputs=predictions)"
   ]
  },
  {
   "cell_type": "code",
   "execution_count": null,
   "id": "837874a6",
   "metadata": {},
   "outputs": [],
   "source": [
    "# Freeze all layers in the base model\n",
    "for layer in base_model.layers:\n",
    "    layer.trainable = False"
   ]
  },
  {
   "cell_type": "code",
   "execution_count": null,
   "id": "3d780674",
   "metadata": {},
   "outputs": [],
   "source": [
    "# Compile the model\n",
    "model.compile(optimizer=Adam(lr=0.001), loss='binary_crossentropy', metrics=['accuracy'])"
   ]
  },
  {
   "cell_type": "code",
   "execution_count": null,
   "id": "f32abead",
   "metadata": {},
   "outputs": [],
   "source": [
    "# Train the model\n",
    "history = model.fit(train_generator,\n",
    "                    steps_per_epoch=len(train_generator),\n",
    "                    epochs=10,\n",
    "                    class_weight=class_weights)"
   ]
  },
  {
   "cell_type": "code",
   "execution_count": null,
   "id": "df6cb64e",
   "metadata": {},
   "outputs": [],
   "source": [
    "# Plot training accuracy and loss\n",
    "plt.plot(history.history['accuracy'])\n",
    "plt.plot(history.history['loss'])\n",
    "plt.title('Model Training')\n",
    "plt.xlabel('Epoch')\n",
    "plt.legend(['Accuracy', 'Loss'], loc='upper right')\n",
    "plt.show()"
   ]
  },
  {
   "cell_type": "code",
   "execution_count": null,
   "id": "59cabb95",
   "metadata": {},
   "outputs": [],
   "source": []
  },
  {
   "cell_type": "code",
   "execution_count": null,
   "id": "f3c573be",
   "metadata": {},
   "outputs": [],
   "source": []
  },
  {
   "cell_type": "code",
   "execution_count": null,
   "id": "e58a498d",
   "metadata": {},
   "outputs": [],
   "source": []
  },
  {
   "cell_type": "code",
   "execution_count": null,
   "id": "72e62770",
   "metadata": {},
   "outputs": [],
   "source": []
  }
 ],
 "metadata": {
  "kernelspec": {
   "display_name": "Python 3",
   "language": "python",
   "name": "python3"
  },
  "language_info": {
   "codemirror_mode": {
    "name": "ipython",
    "version": 3
   },
   "file_extension": ".py",
   "mimetype": "text/x-python",
   "name": "python",
   "nbconvert_exporter": "python",
   "pygments_lexer": "ipython3",
   "version": "3.8.8"
  }
 },
 "nbformat": 4,
 "nbformat_minor": 5
}
