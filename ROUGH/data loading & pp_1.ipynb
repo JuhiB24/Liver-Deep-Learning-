{
 "cells": [
  {
   "cell_type": "code",
   "execution_count": 3,
   "id": "750dde51",
   "metadata": {},
   "outputs": [
    {
     "ename": "error",
     "evalue": "OpenCV(4.9.0) D:\\a\\opencv-python\\opencv-python\\opencv\\modules\\imgproc\\src\\resize.cpp:4152: error: (-215:Assertion failed) !ssize.empty() in function 'cv::resize'\n",
     "output_type": "error",
     "traceback": [
      "\u001b[1;31m---------------------------------------------------------------------------\u001b[0m",
      "\u001b[1;31merror\u001b[0m                                     Traceback (most recent call last)",
      "\u001b[1;32m<ipython-input-3-3ec2d7c3d3e2>\u001b[0m in \u001b[0;36m<module>\u001b[1;34m\u001b[0m\n\u001b[0;32m     28\u001b[0m     \u001b[1;32mreturn\u001b[0m \u001b[0mX\u001b[0m\u001b[1;33m,\u001b[0m \u001b[0my\u001b[0m\u001b[1;33m\u001b[0m\u001b[1;33m\u001b[0m\u001b[0m\n\u001b[0;32m     29\u001b[0m \u001b[1;33m\u001b[0m\u001b[0m\n\u001b[1;32m---> 30\u001b[1;33m \u001b[0mX_steatosis\u001b[0m\u001b[1;33m,\u001b[0m \u001b[0my_steatosis\u001b[0m \u001b[1;33m=\u001b[0m \u001b[0mload_data\u001b[0m\u001b[1;33m(\u001b[0m\u001b[1;34m\"D:/DATASET1/CNN/steatosis/train\"\u001b[0m\u001b[1;33m)\u001b[0m\u001b[1;33m\u001b[0m\u001b[1;33m\u001b[0m\u001b[0m\n\u001b[0m\u001b[0;32m     31\u001b[0m \u001b[0mX_inflammation\u001b[0m\u001b[1;33m,\u001b[0m \u001b[0my_inflammation\u001b[0m \u001b[1;33m=\u001b[0m \u001b[0mload_data\u001b[0m\u001b[1;33m(\u001b[0m\u001b[1;34m\"D:/DATASET1/CNN/inflammation/train\"\u001b[0m\u001b[1;33m)\u001b[0m\u001b[1;33m\u001b[0m\u001b[1;33m\u001b[0m\u001b[0m\n\u001b[0;32m     32\u001b[0m \u001b[0mX_ballooning\u001b[0m\u001b[1;33m,\u001b[0m \u001b[0my_ballooning\u001b[0m \u001b[1;33m=\u001b[0m \u001b[0mload_data\u001b[0m\u001b[1;33m(\u001b[0m\u001b[1;34m\"D:/DATASET1/CNN/ballooning/train\"\u001b[0m\u001b[1;33m)\u001b[0m\u001b[1;33m\u001b[0m\u001b[1;33m\u001b[0m\u001b[0m\n",
      "\u001b[1;32m<ipython-input-3-3ec2d7c3d3e2>\u001b[0m in \u001b[0;36mload_data\u001b[1;34m(hallmark)\u001b[0m\n\u001b[0;32m     20\u001b[0m         \u001b[1;32mfor\u001b[0m \u001b[0mimage\u001b[0m \u001b[1;32min\u001b[0m \u001b[0mimages\u001b[0m\u001b[1;33m:\u001b[0m\u001b[1;33m\u001b[0m\u001b[1;33m\u001b[0m\u001b[0m\n\u001b[0;32m     21\u001b[0m             \u001b[0mimg\u001b[0m \u001b[1;33m=\u001b[0m \u001b[0mcv2\u001b[0m\u001b[1;33m.\u001b[0m\u001b[0mimread\u001b[0m\u001b[1;33m(\u001b[0m\u001b[0mos\u001b[0m\u001b[1;33m.\u001b[0m\u001b[0mpath\u001b[0m\u001b[1;33m.\u001b[0m\u001b[0mjoin\u001b[0m\u001b[1;33m(\u001b[0m\u001b[0mpath\u001b[0m\u001b[1;33m,\u001b[0m \u001b[0mimage\u001b[0m\u001b[1;33m)\u001b[0m\u001b[1;33m,\u001b[0m \u001b[0mcv2\u001b[0m\u001b[1;33m.\u001b[0m\u001b[0mIMREAD_GRAYSCALE\u001b[0m\u001b[1;33m)\u001b[0m\u001b[1;33m\u001b[0m\u001b[1;33m\u001b[0m\u001b[0m\n\u001b[1;32m---> 22\u001b[1;33m             \u001b[0mimg\u001b[0m \u001b[1;33m=\u001b[0m \u001b[0mcv2\u001b[0m\u001b[1;33m.\u001b[0m\u001b[0mresize\u001b[0m\u001b[1;33m(\u001b[0m\u001b[0mimg\u001b[0m\u001b[1;33m,\u001b[0m \u001b[1;33m(\u001b[0m\u001b[1;36m150\u001b[0m\u001b[1;33m,\u001b[0m \u001b[1;36m150\u001b[0m\u001b[1;33m)\u001b[0m\u001b[1;33m)\u001b[0m\u001b[1;33m\u001b[0m\u001b[1;33m\u001b[0m\u001b[0m\n\u001b[0m\u001b[0;32m     23\u001b[0m             \u001b[0mX\u001b[0m\u001b[1;33m.\u001b[0m\u001b[0mappend\u001b[0m\u001b[1;33m(\u001b[0m\u001b[0mimg\u001b[0m\u001b[1;33m)\u001b[0m\u001b[1;33m\u001b[0m\u001b[1;33m\u001b[0m\u001b[0m\n\u001b[0;32m     24\u001b[0m             \u001b[0my\u001b[0m\u001b[1;33m.\u001b[0m\u001b[0mappend\u001b[0m\u001b[1;33m(\u001b[0m\u001b[0mlabel\u001b[0m\u001b[1;33m)\u001b[0m\u001b[1;33m\u001b[0m\u001b[1;33m\u001b[0m\u001b[0m\n",
      "\u001b[1;31merror\u001b[0m: OpenCV(4.9.0) D:\\a\\opencv-python\\opencv-python\\opencv\\modules\\imgproc\\src\\resize.cpp:4152: error: (-215:Assertion failed) !ssize.empty() in function 'cv::resize'\n"
     ]
    }
   ],
   "source": [
    "import os\n",
    "import numpy as np\n",
    "import cv2\n",
    "from sklearn.model_selection import train_test_split\n",
    "from keras.preprocessing.image import ImageDataGenerator\n",
    "from keras.utils import to_categorical\n",
    "from keras.applications import ResNet50\n",
    "from keras.models import Model\n",
    "from keras.layers import Dense, GlobalAveragePooling2D\n",
    "from keras.optimizers import Adam\n",
    "\n",
    "# Data loading and preprocessing for steatosis, inflammation, and ballooning\n",
    "def load_data(hallmark):\n",
    "    X = []\n",
    "    y = []\n",
    "    \n",
    "    for label in ['0', '1', '2', '3']:\n",
    "        path = f\"{hallmark}/{label}\"\n",
    "        images = os.listdir(path)\n",
    "        for image in images:\n",
    "            img = cv2.imread(os.path.join(path, image), cv2.IMREAD_GRAYSCALE)\n",
    "            img = cv2.resize(img, (150, 150))\n",
    "            X.append(img)\n",
    "            y.append(label)\n",
    "\n",
    "    X = np.array(X)\n",
    "    y = to_categorical(y, num_classes=4)\n",
    "    return X, y\n",
    "\n",
    "X_steatosis, y_steatosis = load_data(\"D:/DATASET1/CNN/steatosis/train\")\n",
    "X_inflammation, y_inflammation = load_data(\"D:/DATASET1/CNN/inflammation/train\")\n",
    "X_ballooning, y_ballooning = load_data(\"D:/DATASET1/CNN/ballooning/train\")"
   ]
  },
  {
   "cell_type": "code",
   "execution_count": null,
   "id": "560054ba",
   "metadata": {},
   "outputs": [],
   "source": [
    "# Split data into train and validation sets\n",
    "X_steatosis_train, X_steatosis_val, y_steatosis_train, y_steatosis_val = train_test_split(X_steatosis, y_steatosis, test_size=0.2, random_state=42)\n",
    "X_inflammation_train, X_inflammation_val, y_inflammation_train, y_inflammation_val = train_test_split(X_inflammation, y_inflammation, test_size=0.2, random_state=42)\n",
    "X_ballooning_train, X_ballooning_val, y_ballooning_train, y_ballooning_val = train_test_split(X_ballooning, y_ballooning, test_size=0.2, random_state=42)\n"
   ]
  },
  {
   "cell_type": "code",
   "execution_count": null,
   "id": "b4376034",
   "metadata": {},
   "outputs": [],
   "source": [
    "# Data augmentation and resizing for fibrosis\n",
    "fibrosis_datagen = ImageDataGenerator(rescale=1./255, rotation_range=40, width_shift_range=0.2, height_shift_range=0.2, shear_range=0.2, zoom_range=0.2, horizontal_flip=True, fill_mode='nearest')\n",
    "fibrosis_generator = fibrosis_datagen.flow_from_directory(\"D:/DATASET1/CNN/fibrosis/train\", target_size=(150, 150), batch_size=32, class_mode='categorical')"
   ]
  },
  {
   "cell_type": "code",
   "execution_count": null,
   "id": "a31c03a4",
   "metadata": {},
   "outputs": [],
   "source": [
    "# Model creation and training for steatosis, inflammation, and ballooning\n",
    "base_model = ResNet50(weights='imagenet', include_top=False, input_shape=(150, 150, 3))\n",
    "x = base_model.output\n",
    "x = GlobalAveragePooling2D()(x)\n",
    "x = Dense(1024, activation='relu')(x)\n",
    "predictions = Dense(4, activation='softmax')(x)"
   ]
  },
  {
   "cell_type": "code",
   "execution_count": null,
   "id": "e989ec62",
   "metadata": {},
   "outputs": [],
   "source": [
    "model_steatosis = Model(inputs=base_model.input, outputs=predictions)\n",
    "model_inflammation = Model(inputs=base_model.input, outputs=predictions)\n",
    "model_ballooning = Model(inputs=base_model.input, outputs=predictions)\n",
    "\n",
    "for layer in base_model.layers:\n",
    "    layer.trainable = False\n",
    "\n",
    "model_steatosis.compile(optimizer=Adam(), loss='categorical_crossentropy', metrics=['accuracy'])\n",
    "model_inflammation.compile(optimizer=Adam(), loss='categorical_crossentropy', metrics=['accuracy'])\n",
    "model_ballooning.compile(optimizer=Adam(), loss='categorical_crossentropy', metrics=['accuracy'])\n",
    "\n",
    "model_steatosis.fit(X_steatosis_train, y_steatosis_train, validation_data=(X_steatosis_val, y_steatosis_val), epochs=10, batch_size=32)\n",
    "model_inflammation.fit(X_inflammation_train, y_inflammation_train, validation_data=(X_inflammation_val, y_inflammation_val), epochs=10, batch_size=32)\n",
    "model_ballooning.fit(X_ballooning_train, y_ballooning_train, validation_data=(X_ballooning_val, y_ballooning_val), epochs=10, batch_size=32)\n"
   ]
  },
  {
   "cell_type": "code",
   "execution_count": null,
   "id": "2e23b340",
   "metadata": {},
   "outputs": [],
   "source": [
    "# Model creation and training for fibrosis\n",
    "fibrosis_model = ResNet50(weights='imagenet', include_top=False, input_shape=(150, 150, 3))\n",
    "x = fibrosis_model.output\n",
    "x = GlobalAveragePooling2D()(x)\n",
    "x = Dense(1024, activation='relu')(x)\n",
    "predictions = Dense(5, activation='softmax')(x)\n",
    "\n",
    "model_fibrosis = Model(inputs=fibrosis_model.input, outputs=predictions)\n",
    "\n",
    "for layer in fibrosis_model.layers:\n",
    "    layer.trainable = False\n",
    "\n",
    "model_fibrosis.compile(optimizer=Adam(), loss='categorical_crossentropy', metrics=['accuracy'])\n",
    "model_fibrosis.fit(fibrosis_generator, epochs=10, steps_per_epoch=len(fibrosis_generator))\n"
   ]
  },
  {
   "cell_type": "code",
   "execution_count": null,
   "id": "87dbb1b4",
   "metadata": {},
   "outputs": [],
   "source": [
    "# Fine-tuning\n",
    "for layer in model_steatosis.layers[:100]:\n",
    "    layer.trainable = False\n",
    "for layer in model_inflammation.layers[:100]:\n",
    "    layer.trainable = False\n",
    "for layer in model_ballooning.layers[:100]:\n",
    "    layer.trainable = False\n",
    "for layer in model_fibrosis.layers[:100]:\n",
    "    layer.trainable = False\n",
    "\n",
    "model_steatosis.compile(optimizer=Adam(lr=0.0001), loss='categorical_crossentropy', metrics=['accuracy'])\n",
    "model_inflammation.compile(optimizer=Adam(lr=0.0001), loss='categorical_crossentropy', metrics=['accuracy'])\n",
    "model_ballooning.compile(optimizer=Adam(lr=0.0001), loss='categorical_crossentropy', metrics=['accuracy'])\n",
    "model_fibrosis.compile(optimizer=Adam(lr=0.0001), loss='categorical_crossentropy', metrics=['accuracy'])\n",
    "\n",
    "model_steatosis.fit(X_steatosis_train, y_steatosis_train, validation_data=(X_steatosis_val, y_steatosis_val), epochs=10, batch_size=32)\n",
    "model_inflammation.fit(X_inflammation_train, y_inflammation_train, validation_data=(X_inflammation_val, y_inflammation_val), epochs=10, batch_size=32)\n",
    "model_ballooning.fit(X_ballooning_train, y_ballooning_train, validation_data=(X_ballooning_val, y_ballooning_val), epochs=10, batch_size=32)\n",
    "model_fibrosis.fit(fibrosis_generator, epochs=10, steps_per_epoch=len(fibrosis_generator))\n"
   ]
  },
  {
   "cell_type": "code",
   "execution_count": null,
   "id": "5a203c77",
   "metadata": {},
   "outputs": [],
   "source": [
    "# Feature extraction for ANN\n",
    "features_steatosis_train = model_steatosis.predict(X_steatosis_train)\n",
    "features_steatosis_val = model_steatosis.predict(X_steatosis_val)\n",
    "\n",
    "features_inflammation_train = model_inflammation.predict(X_inflammation_train)\n",
    "features_inflammation_val = model_inflammation.predict(X_inflammation_val)\n",
    "\n",
    "features_ballooning_train = model_ballooning.predict(X_ballooning_train)\n",
    "features_ballooning_val = model_ballooning.predict(X_ballooning_val)\n",
    "\n",
    "features_fibrosis_train = model_fibrosis.predict(fibrosis_generator)\n",
    "features_fibrosis_val = model_fibrosis.predict(fibrosis_generator)"
   ]
  }
 ],
 "metadata": {
  "kernelspec": {
   "display_name": "Python 3",
   "language": "python",
   "name": "python3"
  },
  "language_info": {
   "codemirror_mode": {
    "name": "ipython",
    "version": 3
   },
   "file_extension": ".py",
   "mimetype": "text/x-python",
   "name": "python",
   "nbconvert_exporter": "python",
   "pygments_lexer": "ipython3",
   "version": "3.8.8"
  }
 },
 "nbformat": 4,
 "nbformat_minor": 5
}
