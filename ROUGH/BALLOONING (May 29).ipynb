{
 "cells": [
  {
   "cell_type": "code",
   "execution_count": 1,
   "id": "d6d5bd91",
   "metadata": {},
   "outputs": [],
   "source": [
    "import numpy as np\n",
    "import matplotlib.pyplot as plt\n",
    "from tensorflow.keras.preprocessing.image import ImageDataGenerator\n",
    "from tensorflow.keras.applications import ResNet50\n",
    "from tensorflow.keras.layers import Dense, GlobalAveragePooling2D\n",
    "from tensorflow.keras.models import Model\n",
    "from tensorflow.keras.optimizers import Adam\n",
    "from sklearn.utils import resample\n",
    "import cv2\n",
    "from tensorflow.keras.preprocessing import image\n",
    "from tensorflow.keras.models import load_model\n",
    "from scipy.ndimage import gaussian_filter\n",
    "import os\n",
    "import shutil"
   ]
  },
  {
   "cell_type": "code",
   "execution_count": 2,
   "id": "fb4f8477",
   "metadata": {},
   "outputs": [],
   "source": [
    "# Define paths and parameters\n",
    "base_dir = \"D:/DATASET/CNN/ballooning/train\"\n",
    "val_dir = \"D:/DATASET/CNN/ballooning/val\"\n",
    "batch_size = 32"
   ]
  },
  {
   "cell_type": "code",
   "execution_count": 3,
   "id": "4a32936e",
   "metadata": {},
   "outputs": [],
   "source": [
    "# Create ImageDataGenerator for training with preprocessing function\n",
    "train_datagen = ImageDataGenerator(\n",
    "    rescale=1./255,\n",
    "    rotation_range=40,\n",
    "    width_shift_range=0.2,\n",
    "    height_shift_range=0.2,\n",
    "    shear_range=0.2,\n",
    "    zoom_range=0.2,\n",
    "    horizontal_flip=True,\n",
    "    fill_mode='nearest',\n",
    "    preprocessing_function=lambda x: np.mean(x, axis=2, keepdims=True)  # Convert to grayscale\n",
    ")"
   ]
  },
  {
   "cell_type": "code",
   "execution_count": 4,
   "id": "4093d06e",
   "metadata": {},
   "outputs": [
    {
     "name": "stdout",
     "output_type": "stream",
     "text": [
      "Found 27698 images belonging to 2 classes.\n"
     ]
    }
   ],
   "source": [
    "# Load and iterate training dataset\n",
    "train_generator = train_datagen.flow_from_directory(\n",
    "    base_dir,\n",
    "    target_size=(224, 224),\n",
    "    batch_size=batch_size,\n",
    "    class_mode='binary',\n",
    "    color_mode='rgb'\n",
    ")"
   ]
  },
  {
   "cell_type": "code",
   "execution_count": 5,
   "id": "f68bb6e0",
   "metadata": {},
   "outputs": [
    {
     "name": "stdout",
     "output_type": "stream",
     "text": [
      "Found 0 images belonging to 2 classes.\n"
     ]
    }
   ],
   "source": [
    "validation_generator = train_datagen.flow_from_directory(\n",
    "    val_dir,\n",
    "    target_size=(224, 224),\n",
    "    batch_size=32,\n",
    "    class_mode='binary',\n",
    "    subset='validation'  # Specify this is validation data\n",
    ")"
   ]
  },
  {
   "cell_type": "code",
   "execution_count": null,
   "id": "8566bd0e",
   "metadata": {},
   "outputs": [],
   "source": [
    "def save_balanced_dataset(source_dir, target_dir, batch_size=32):\n",
    "    \"\"\"\n",
    "    Balance and save the dataset by augmenting the minority class and saving the images to a new directory.\n",
    "\n",
    "    Parameters:\n",
    "    - source_dir: string, directory containing the original unbalanced dataset.\n",
    "    - target_dir: string, directory to save the balanced dataset.\n",
    "    - batch_size: int, size of the batch for processing images.\n",
    "    \"\"\"\n",
    "    # Define data generator with augmentation for the minority class\n",
    "    datagen = ImageDataGenerator(\n",
    "        rescale=1./255,\n",
    "        rotation_range=10,\n",
    "        width_shift_range=0.1,\n",
    "        height_shift_range=0.1,\n",
    "        shear_range=0.1,\n",
    "        zoom_range=0.1,\n",
    "        horizontal_flip=True,\n",
    "        fill_mode='nearest'\n",
    "    )\n",
    "    \n",
    "    # Load images in batches from source_dir and apply augmentation\n",
    "    generator = datagen.flow_from_directory(\n",
    "        source_dir,\n",
    "        target_size=(224, 224),  # Assuming ResNet input dimensions\n",
    "        batch_size=batch_size,\n",
    "        class_mode='binary',  # For binary classification\n",
    "        save_to_dir=target_dir,  # Directory to save augmented images\n",
    "        save_prefix='aug',  # Prefix for filenames of augmented images\n",
    "        save_format='jpeg'\n",
    "    )\n",
    "\n",
    "    # Determine how many batches are needed to balance the dataset\n",
    "    num_batches = 2000  # Adjust this number based on your specific dataset needs\n",
    "\n",
    "    # Generate and save the augmented images\n",
    "    for i in range(num_batches):\n",
    "        images, labels = next(generator)\n",
    "        print(f'Processed batch {i+1}/{num_batches}')"
   ]
  },
  {
   "cell_type": "code",
   "execution_count": null,
   "id": "ba2ddfc1",
   "metadata": {},
   "outputs": [],
   "source": [
    "# Set the paths\n",
    "source_directory = \"D:/DATASET/CNN/ballooning/train\"\n",
    "target_directory = \"D:/DATASET/CNN/ballooning/balanced_train\"\n",
    "\n",
    "# Create target directory if it does not exist\n",
    "if not os.path.exists(target_directory):\n",
    "    os.makedirs(target_directory)\n",
    "\n",
    "# Call the function to balance and save the dataset\n",
    "save_balanced_dataset(source_directory, target_directory)\n",
    "\n",
    "print(\"Dataset balancing complete and saved to:\", target_directory)"
   ]
  },
  {
   "cell_type": "code",
   "execution_count": null,
   "id": "7a6c0e5f",
   "metadata": {},
   "outputs": [],
   "source": [
    "# Load ResNet50 model pre-trained on ImageNet without the top layer\n",
    "base_model = ResNet50(weights='imagenet', include_top=False, input_shape=(224, 224, 3))"
   ]
  },
  {
   "cell_type": "code",
   "execution_count": null,
   "id": "167dd104",
   "metadata": {},
   "outputs": [],
   "source": [
    "# Freeze the layers of the base model\n",
    "for layer in base_model.layers:\n",
    "    layer.trainable = False"
   ]
  },
  {
   "cell_type": "code",
   "execution_count": null,
   "id": "fa97e5d4",
   "metadata": {},
   "outputs": [],
   "source": [
    "# Add custom layers on top of the base model\n",
    "x = GlobalAveragePooling2D()(base_model.output)\n",
    "x = Dense(1024, activation='relu')(x)\n",
    "predictions = Dense(1, activation='sigmoid')(x)  # Using sigmoid for binary classification"
   ]
  },
  {
   "cell_type": "code",
   "execution_count": null,
   "id": "2ed0bfc3",
   "metadata": {},
   "outputs": [],
   "source": [
    "# Create the complete model\n",
    "model = Model(inputs=base_model.input, outputs=predictions)"
   ]
  },
  {
   "cell_type": "code",
   "execution_count": null,
   "id": "c8960b58",
   "metadata": {},
   "outputs": [],
   "source": [
    "# Compile the model\n",
    "model.compile(optimizer=Adam(lr=0.0001), loss='binary_crossentropy', metrics=['accuracy'])"
   ]
  },
  {
   "cell_type": "code",
   "execution_count": null,
   "id": "60364f53",
   "metadata": {},
   "outputs": [],
   "source": [
    "# Train the model\n"
   ]
  },
  {
   "cell_type": "code",
   "execution_count": null,
   "id": "abc0297c",
   "metadata": {},
   "outputs": [],
   "source": [
    "# Plot the training and validation accuracy\n",
    "plt.plot(history.history['accuracy'], label='Train Accuracy')\n",
    "plt.plot(history.history['val_accuracy'], label='Validation Accuracy')\n",
    "plt.title('Model Accuracy')\n",
    "plt.ylabel('Accuracy')\n",
    "plt.xlabel('Epoch')\n",
    "plt.legend()\n",
    "plt.show()"
   ]
  },
  {
   "cell_type": "code",
   "execution_count": null,
   "id": "911b2983",
   "metadata": {},
   "outputs": [],
   "source": [
    "def preprocess_and_predict(img_path, model):\n",
    "    \"\"\"\n",
    "    Process an image file to predict hepatocyte ballooning using a trained model.\n",
    "\n",
    "    Parameters:\n",
    "    - img_path: string, path to the user's liver biopsy image.\n",
    "    - model: loaded TensorFlow model trained to detect hepatocyte ballooning.\n",
    "\n",
    "    Returns:\n",
    "    - prediction: int, predicted class (0 for no ballooning, 1 for ballooning present).\n",
    "    - prob: float, probability of the class prediction.\n",
    "    \"\"\"\n",
    "    # Load the image\n",
    "    img = image.load_img(img_path, target_size=(224, 224), color_mode='rgb')\n",
    "    img_array = image.img_to_array(img)\n",
    "\n",
    "    # Convert to grayscale\n",
    "    gray = np.dot(img_array[..., :3], [0.2989, 0.5870, 0.1140])\n",
    "    \n",
    "    # Apply Gaussian filter\n",
    "    filtered = gaussian_filter(gray, sigma=1)\n",
    "\n",
    "    # Normalize the image\n",
    "    filtered /= 255.0\n",
    "    \n",
    "    # Reshape for the model\n",
    "    filtered = np.expand_dims(filtered, axis=-1)  # Add channel dimension\n",
    "    filtered = np.repeat(filtered, 3, axis=-1)  # Make 3 channel for ResNet input\n",
    "    filtered = np.expand_dims(filtered, axis=0)  # Add batch dimension\n",
    "\n",
    "    # Predict using the model\n",
    "    predictions = model.predict(filtered)\n",
    "    predicted_class = np.argmax(predictions, axis=1)[0]\n",
    "    probability = np.max(predictions, axis=1)[0]\n",
    "\n",
    "    # Plot the processed image\n",
    "    plt.imshow(filtered[0], cmap='gray')\n",
    "    plt.title(f'Processed Image - Predicted Class: {predicted_class}, Probability: {probability:.2f}')\n",
    "    plt.show()\n",
    "\n",
    "    return predicted_class, probability"
   ]
  },
  {
   "cell_type": "code",
   "execution_count": null,
   "id": "d05dfcf8",
   "metadata": {},
   "outputs": [],
   "source": [
    "# Example of loading the model and using the function\n",
    "# model = load_model('path_to_your_trained_model.h5')"
   ]
  },
  {
   "cell_type": "code",
   "execution_count": null,
   "id": "240f2f18",
   "metadata": {},
   "outputs": [],
   "source": [
    "img_path = \"D:/DATASET/CNN/ballooning/val/1/97_5_43.png\"\n",
    "predicted_class, probability = preprocess_and_predict(img_path, model)\n",
    "print(f'Predicted Class: {predicted_class} (0: No Ballooning, 1: Ballooning Present), Probability: {probability:.2f}')"
   ]
  },
  {
   "cell_type": "code",
   "execution_count": null,
   "id": "bd228ff8",
   "metadata": {},
   "outputs": [],
   "source": []
  },
  {
   "cell_type": "code",
   "execution_count": null,
   "id": "bbe848ea",
   "metadata": {},
   "outputs": [],
   "source": []
  },
  {
   "cell_type": "code",
   "execution_count": null,
   "id": "21a1bffa",
   "metadata": {},
   "outputs": [],
   "source": []
  }
 ],
 "metadata": {
  "kernelspec": {
   "display_name": "Python 3",
   "language": "python",
   "name": "python3"
  },
  "language_info": {
   "codemirror_mode": {
    "name": "ipython",
    "version": 3
   },
   "file_extension": ".py",
   "mimetype": "text/x-python",
   "name": "python",
   "nbconvert_exporter": "python",
   "pygments_lexer": "ipython3",
   "version": "3.8.8"
  }
 },
 "nbformat": 4,
 "nbformat_minor": 5
}
