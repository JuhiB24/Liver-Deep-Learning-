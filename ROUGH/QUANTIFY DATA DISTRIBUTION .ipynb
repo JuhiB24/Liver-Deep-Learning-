{
 "cells": [
  {
   "cell_type": "code",
   "execution_count": 2,
   "id": "f1f8fc3c",
   "metadata": {},
   "outputs": [
    {
     "name": "stdout",
     "output_type": "stream",
     "text": [
      "Found 13199 images belonging to 2 classes.\n",
      "Found 381 images belonging to 2 classes.\n",
      "Found 5349 images belonging to 5 classes.\n",
      "Found 1278 images belonging to 5 classes.\n",
      "Found 11997 images belonging to 3 classes.\n",
      "Found 491 images belonging to 3 classes.\n",
      "Found 25700 images belonging to 4 classes.\n",
      "Found 7705 images belonging to 4 classes.\n",
      "Image distribution analysis completed. Results saved to D:/PATENT/disease_label_distribution_balanced.csv.\n"
     ]
    }
   ],
   "source": [
    "import os\n",
    "import pandas as pd\n",
    "from tensorflow.keras.preprocessing.image import ImageDataGenerator\n",
    "\n",
    "# Define the paths to your train and test directories\n",
    "cnn_root_dir = \"D:/DATASET/CNN\"  # Replace with the correct path\n",
    "\n",
    "# Initialize ImageDataGenerators for train and test datasets\n",
    "datagen = ImageDataGenerator(rescale=1.0/255.0)  # Normalization (if used in your model)\n",
    "\n",
    "def analyze_image_distribution(datagen, dataset_path):\n",
    "    \"\"\"\n",
    "    Analyzes image distribution using ImageDataGenerator and flow_from_directory.\n",
    "    \"\"\"\n",
    "    distribution_data = []\n",
    "\n",
    "    # Traverse through each disease directory (e.g., fibrosis, ballooning, etc.)\n",
    "    for disease in os.listdir(dataset_path):\n",
    "        disease_path = os.path.join(dataset_path, disease)\n",
    "\n",
    "        if os.path.isdir(disease_path):  # Ensure it's a valid directory\n",
    "            for split in ['balanced_train', 'test']:\n",
    "                split_path = os.path.join(disease_path, split)\n",
    "\n",
    "                if os.path.exists(split_path):  # Check if train/test directory exists\n",
    "                    # Use flow_from_directory to load images and count them\n",
    "                    generator = datagen.flow_from_directory(\n",
    "                        split_path,\n",
    "                        target_size=(299, 299),  # Use your model’s input size\n",
    "                        batch_size=32,  # Batch size doesn't matter for counting\n",
    "                        class_mode='categorical',  # 'categorical' for multi-class problems\n",
    "                        shuffle=False  # No need to shuffle for counting\n",
    "                    )\n",
    "\n",
    "                    # Collect data for each label\n",
    "                    for label, idx in generator.class_indices.items():\n",
    "                        count = (generator.labels == idx).sum()  # Count images for the label\n",
    "\n",
    "                        # Append the results to the data list\n",
    "                        distribution_data.append({\n",
    "                            \"Disease\": disease,\n",
    "                            \"Split\": split,\n",
    "                            \"Label\": label,\n",
    "                            \"Image_Count\": count\n",
    "                        })\n",
    "\n",
    "    # Convert the results into a DataFrame\n",
    "    df = pd.DataFrame(distribution_data)\n",
    "\n",
    "    # Save to CSV\n",
    "    csv_path = \"D:/PATENT/disease_label_distribution_balanced.csv\"\n",
    "    df.to_csv(csv_path, index=False)\n",
    "\n",
    "    print(f\"Image distribution analysis completed. Results saved to {csv_path}.\")\n",
    "\n",
    "# Run the analysis\n",
    "analyze_image_distribution(datagen, cnn_root_dir)\n"
   ]
  }
 ],
 "metadata": {
  "kernelspec": {
   "display_name": "Python 3",
   "language": "python",
   "name": "python3"
  },
  "language_info": {
   "codemirror_mode": {
    "name": "ipython",
    "version": 3
   },
   "file_extension": ".py",
   "mimetype": "text/x-python",
   "name": "python",
   "nbconvert_exporter": "python",
   "pygments_lexer": "ipython3",
   "version": "3.8.8"
  }
 },
 "nbformat": 4,
 "nbformat_minor": 5
}
