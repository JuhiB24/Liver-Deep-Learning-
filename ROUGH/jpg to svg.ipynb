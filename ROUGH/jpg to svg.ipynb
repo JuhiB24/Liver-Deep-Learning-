{
 "cells": [
  {
   "cell_type": "code",
   "execution_count": 1,
   "id": "9a0283f7",
   "metadata": {},
   "outputs": [
    {
     "name": "stdout",
     "output_type": "stream",
     "text": [
      "Converting JPEG to SVG\n",
      "JPEG Path: D:\\PATENT\\wsi\\WSI.jpg\n",
      "SVG Path: D:\\PATENT\\wsi\\WSI_converted.svg\n",
      "SVG file saved successfully at: D:\\PATENT\\wsi\\WSI_converted.svg\n"
     ]
    }
   ],
   "source": [
    "import subprocess\n",
    "import os\n",
    "\n",
    "def convert_jpg_to_svg(jpg_path, svg_path):\n",
    "    # Ensure the paths are absolute\n",
    "    jpg_path = os.path.abspath(jpg_path)\n",
    "    svg_path = os.path.abspath(svg_path)\n",
    "\n",
    "    print(f\"Converting JPEG to SVG\\nJPEG Path: {jpg_path}\\nSVG Path: {svg_path}\")\n",
    "\n",
    "    # Use Inkscape to convert JPEG to SVG\n",
    "    result = subprocess.run([\n",
    "        'inkscape',\n",
    "        jpg_path,\n",
    "        '--export-plain-svg',\n",
    "        '--export-filename', svg_path\n",
    "    ], check=True)\n",
    "\n",
    "    if result.returncode == 0:\n",
    "        print(f\"SVG file saved successfully at: {svg_path}\")\n",
    "    else:\n",
    "        print(\"Failed to convert JPEG to SVG.\")\n",
    "\n",
    "# Example usage\n",
    "jpg_path = 'D:/PATENT/wsi/WSI.jpg'  # Replace with your JPEG file path\n",
    "svg_path = 'D:/PATENT/wsi/WSI_converted.svg'  # Output path for the SVG file\n",
    "\n",
    "# Convert JPEG to SVG using Inkscape\n",
    "convert_jpg_to_svg(jpg_path, svg_path)\n"
   ]
  }
 ],
 "metadata": {
  "kernelspec": {
   "display_name": "Python 3",
   "language": "python",
   "name": "python3"
  },
  "language_info": {
   "codemirror_mode": {
    "name": "ipython",
    "version": 3
   },
   "file_extension": ".py",
   "mimetype": "text/x-python",
   "name": "python",
   "nbconvert_exporter": "python",
   "pygments_lexer": "ipython3",
   "version": "3.8.8"
  }
 },
 "nbformat": 4,
 "nbformat_minor": 5
}
