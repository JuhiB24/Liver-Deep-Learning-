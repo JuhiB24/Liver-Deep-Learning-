{
 "cells": [
  {
   "cell_type": "code",
   "execution_count": 2,
   "id": "0969471a",
   "metadata": {},
   "outputs": [
    {
     "name": "stdout",
     "output_type": "stream",
     "text": [
      "Found 5349 images belonging to 5 classes.\n",
      "Found 1278 images belonging to 5 classes.\n",
      "Found 9732 images belonging to 3 classes.\n",
      "Found 491 images belonging to 3 classes.\n",
      "Found 7973 images belonging to 2 classes.\n",
      "Found 381 images belonging to 2 classes.\n",
      "Found 38516 images belonging to 4 classes.\n",
      "Found 7705 images belonging to 4 classes.\n"
     ]
    }
   ],
   "source": [
    "import pandas as pd\n",
    "from tensorflow.keras.preprocessing.image import ImageDataGenerator\n",
    "\n",
    "# Set up the ImageDataGenerator for training and testing\n",
    "train_datagen = ImageDataGenerator(rescale=1./255)\n",
    "test_datagen = ImageDataGenerator(rescale=1./255)\n",
    "\n",
    "# Define paths to your dataset directories\n",
    "train_dir_fibrosis = 'D:/DATASET/CNN/fibrosis/train'\n",
    "test_dir_fibrosis = 'D:/DATASET/CNN/fibrosis/test'\n",
    "\n",
    "train_dir_inflammation = 'D:/DATASET/CNN/inflammation/train'\n",
    "test_dir_inflammation = 'D:/DATASET/CNN/inflammation/test'\n",
    "\n",
    "train_dir_ballooning = 'D:/DATASET/CNN/ballooning/train'\n",
    "test_dir_ballooning = 'D:/DATASET/CNN/ballooning/test'\n",
    "\n",
    "train_dir_steatosis = 'D:/DATASET/CNN/steatosis/train'\n",
    "test_dir_steatosis = 'D:/DATASET/CNN/steatosis/test'\n",
    "\n",
    "# Create the train and test generators for each disease\n",
    "train_generator_fibrosis = train_datagen.flow_from_directory(\n",
    "    train_dir_fibrosis, target_size=(299, 299), batch_size=32, class_mode='categorical')\n",
    "\n",
    "test_generator_fibrosis = test_datagen.flow_from_directory(\n",
    "    test_dir_fibrosis, target_size=(299, 299), batch_size=32, class_mode='categorical')\n",
    "\n",
    "train_generator_inflammation = train_datagen.flow_from_directory(\n",
    "    train_dir_inflammation, target_size=(299, 299), batch_size=32, class_mode='categorical')\n",
    "\n",
    "test_generator_inflammation = test_datagen.flow_from_directory(\n",
    "    test_dir_inflammation, target_size=(299, 299), batch_size=32, class_mode='categorical')\n",
    "\n",
    "train_generator_ballooning = train_datagen.flow_from_directory(\n",
    "    train_dir_ballooning, target_size=(299, 299), batch_size=32, class_mode='binary')\n",
    "\n",
    "test_generator_ballooning = test_datagen.flow_from_directory(\n",
    "    test_dir_ballooning, target_size=(299, 299), batch_size=32, class_mode='binary')\n",
    "\n",
    "train_generator_steatosis = train_datagen.flow_from_directory(\n",
    "    train_dir_steatosis, target_size=(299, 299), batch_size=32, class_mode='categorical')\n",
    "\n",
    "test_generator_steatosis = test_datagen.flow_from_directory(\n",
    "    test_dir_steatosis, target_size=(299, 299), batch_size=32, class_mode='categorical')"
   ]
  },
  {
   "cell_type": "code",
   "execution_count": 3,
   "id": "13f04a2a",
   "metadata": {},
   "outputs": [],
   "source": [
    "# Function to get class distribution from a generator\n",
    "def get_class_distribution(generator):\n",
    "    return generator.classes, generator.class_indices\n",
    "\n",
    "# Get the class distributions for each disease\n",
    "train_labels_fibrosis, train_class_indices_fibrosis = get_class_distribution(train_generator_fibrosis)\n",
    "test_labels_fibrosis, test_class_indices_fibrosis = get_class_distribution(test_generator_fibrosis)\n",
    "\n",
    "train_labels_inflammation, train_class_indices_inflammation = get_class_distribution(train_generator_inflammation)\n",
    "test_labels_inflammation, test_class_indices_inflammation = get_class_distribution(test_generator_inflammation)\n",
    "\n",
    "train_labels_ballooning, train_class_indices_ballooning = get_class_distribution(train_generator_ballooning)\n",
    "test_labels_ballooning, test_class_indices_ballooning = get_class_distribution(test_generator_ballooning)\n",
    "\n",
    "train_labels_steatosis, train_class_indices_steatosis = get_class_distribution(train_generator_steatosis)\n",
    "test_labels_steatosis, test_class_indices_steatosis = get_class_distribution(test_generator_steatosis)"
   ]
  },
  {
   "cell_type": "code",
   "execution_count": 4,
   "id": "23ee0ba2",
   "metadata": {},
   "outputs": [],
   "source": [
    "# Function to create a DataFrame with label counts for each disease\n",
    "def create_label_distribution_df(train_labels, test_labels, disease_name, class_indices):\n",
    "    train_counts = pd.Series(train_labels).value_counts()\n",
    "    test_counts = pd.Series(test_labels).value_counts()\n",
    "    \n",
    "    # Map the class indices back to labels\n",
    "    label_mapping = {v: k for k, v in class_indices.items()}\n",
    "    \n",
    "    # Create a DataFrame to store the counts\n",
    "    df = pd.DataFrame({\n",
    "        'Label': train_counts.index.map(label_mapping),\n",
    "        'Train Count': train_counts.values,\n",
    "        'Test Count': test_counts.reindex(train_counts.index, fill_value=0).values\n",
    "    })\n",
    "    df['Disease'] = disease_name\n",
    "    return df"
   ]
  },
  {
   "cell_type": "code",
   "execution_count": 5,
   "id": "fe295b9d",
   "metadata": {},
   "outputs": [],
   "source": [
    "# Create individual DataFrames for each disease\n",
    "fibrosis_df = create_label_distribution_df(train_labels_fibrosis, test_labels_fibrosis, 'Fibrosis', train_class_indices_fibrosis)\n",
    "inflammation_df = create_label_distribution_df(train_labels_inflammation, test_labels_inflammation, 'Inflammation', train_class_indices_inflammation)\n",
    "ballooning_df = create_label_distribution_df(train_labels_ballooning, test_labels_ballooning, 'Ballooning', train_class_indices_ballooning)\n",
    "steatosis_df = create_label_distribution_df(train_labels_steatosis, test_labels_steatosis, 'Steatosis', train_class_indices_steatosis)\n"
   ]
  },
  {
   "cell_type": "code",
   "execution_count": 6,
   "id": "d0029201",
   "metadata": {},
   "outputs": [],
   "source": [
    "# Concatenate all the DataFrames into a single DataFrame\n",
    "data_distribution_df = pd.concat([fibrosis_df, inflammation_df, ballooning_df, steatosis_df])"
   ]
  },
  {
   "cell_type": "code",
   "execution_count": 7,
   "id": "5ccaeabc",
   "metadata": {},
   "outputs": [],
   "source": [
    "# Export the DataFrame to a CSV file for use in R\n",
    "data_distribution_df.to_csv('D:/PATENT/disease_label_distribution.csv', index=False)\n",
    "\n",
    "# Display the DataFrame (Optional)\n",
    "# print(data_distribution_df)"
   ]
  },
  {
   "cell_type": "code",
   "execution_count": null,
   "id": "e8923aa1",
   "metadata": {},
   "outputs": [],
   "source": []
  },
  {
   "cell_type": "code",
   "execution_count": null,
   "id": "9a3671b9",
   "metadata": {},
   "outputs": [],
   "source": []
  },
  {
   "cell_type": "code",
   "execution_count": null,
   "id": "1c5cee44",
   "metadata": {},
   "outputs": [],
   "source": []
  },
  {
   "cell_type": "code",
   "execution_count": null,
   "id": "585c0a8a",
   "metadata": {},
   "outputs": [],
   "source": []
  },
  {
   "cell_type": "code",
   "execution_count": null,
   "id": "ac67f22c",
   "metadata": {},
   "outputs": [],
   "source": []
  },
  {
   "cell_type": "code",
   "execution_count": null,
   "id": "c8779dcd",
   "metadata": {},
   "outputs": [],
   "source": [
    "# Load models and history (replace with actual paths)\n",
    "fibrosis_model = load_model('D:/PATENT/Model_testing/fibrosis_modified_model25.h5')\n",
    "inflammation_model = load_model('D:/PATENT/Model_testing/inflam_modified25.h5')\n",
    "ballooning_model = load_model('D:/PATENT/Model_testing/model_modified_ballooning25.h5')\n",
    "steatosis_model = load_model('D:/PATENT/Model_testing/steatosis_modified15.h5')\n",
    "\n",
    "with open('D:/PATENT/Model_testing/fibrosis_modified_history25.json', 'r') as f:\n",
    "    fibrosis_history = json.load(f)\n",
    "    \n",
    "with open('D:/PATENT/Model_testing/inflam_modified_history25.json', 'r') as f:\n",
    "    inflammation_history = json.load(f)\n",
    "\n",
    "with open('D:/PATENT/Model_testing/ballooning_modified_history25.json', 'r') as f:\n",
    "    ballooning_history = json.load(f)\n",
    "\n",
    "with open('D:/PATENT/Model_testing/steatosis_modified_history15.json', 'r') as f:\n",
    "    steatosis_history = json.load(f)"
   ]
  },
  {
   "cell_type": "code",
   "execution_count": null,
   "id": "1a79556a",
   "metadata": {},
   "outputs": [],
   "source": []
  },
  {
   "cell_type": "code",
   "execution_count": null,
   "id": "8a1400e5",
   "metadata": {},
   "outputs": [],
   "source": [
    "# Function to extract data and labels from a generator\n",
    "def extract_data_from_generator(generator):\n",
    "    # Initialize lists to collect batches of images and labels\n",
    "    images = []\n",
    "    labels = []\n",
    "\n",
    "    # Iterate over the generator to extract batches\n",
    "    for i in range(len(generator)):\n",
    "        img_batch, label_batch = next(generator)\n",
    "        images.append(img_batch)\n",
    "        labels.append(label_batch)\n",
    "\n",
    "    # Concatenate all batches into a single array\n",
    "    images = np.concatenate(images)\n",
    "    labels = np.concatenate(labels)\n",
    "    return images, labels\n",
    "\n",
    "# Replace with actual training and testing data extraction using the function\n",
    "X_train_fibrosis, y_train_fibrosis = extract_data_from_generator(train_generator_fibrosis)\n",
    "X_test_fibrosis, y_test_fibrosis = extract_data_from_generator(test_generator_fibrosis)\n",
    "\n",
    "X_train_inflammation, y_train_inflammation = extract_data_from_generator(train_generator_inflammation)\n",
    "X_test_inflammation, y_test_inflammation = extract_data_from_generator(test_generator_inflammation)\n",
    "\n",
    "X_train_ballooning, y_train_ballooning = extract_data_from_generator(train_generator_ballooning)\n",
    "X_test_ballooning, y_test_ballooning = extract_data_from_generator(test_generator_ballooning)\n",
    "\n",
    "X_train_steatosis, y_train_steatosis = extract_data_from_generator(train_generator_steatosis)\n",
    "X_test_steatosis, y_test_steatosis = extract_data_from_generator(test_generator_steatosis)"
   ]
  },
  {
   "cell_type": "code",
   "execution_count": null,
   "id": "e8c1c607",
   "metadata": {},
   "outputs": [],
   "source": []
  },
  {
   "cell_type": "code",
   "execution_count": null,
   "id": "bd7fad7b",
   "metadata": {},
   "outputs": [],
   "source": []
  },
  {
   "cell_type": "code",
   "execution_count": null,
   "id": "6ed94e9e",
   "metadata": {},
   "outputs": [],
   "source": []
  },
  {
   "cell_type": "code",
   "execution_count": null,
   "id": "f2c6ce85",
   "metadata": {},
   "outputs": [],
   "source": []
  }
 ],
 "metadata": {
  "kernelspec": {
   "display_name": "Python 3",
   "language": "python",
   "name": "python3"
  },
  "language_info": {
   "codemirror_mode": {
    "name": "ipython",
    "version": 3
   },
   "file_extension": ".py",
   "mimetype": "text/x-python",
   "name": "python",
   "nbconvert_exporter": "python",
   "pygments_lexer": "ipython3",
   "version": "3.8.8"
  }
 },
 "nbformat": 4,
 "nbformat_minor": 5
}
