{
 "cells": [
  {
   "cell_type": "code",
   "execution_count": 1,
   "id": "27cdf5aa",
   "metadata": {},
   "outputs": [],
   "source": [
    "import tensorflow as tf\n",
    "\n",
    "model_fibrosis = tf.keras.models.load_model('D:/DATASET/Models/model_fibrosis.h5')\n",
    "model_inflammation = tf.keras.models.load_model('D:/DATASET/Models/model_inflammation.h5')\n",
    "model_steatosis = tf.keras.models.load_model('D:/DATASET/Models/model_steatosis.h5')\n",
    "model_ballooning = tf.keras.models.load_model('D:/DATASET/Models/model_ballooning.h5')\n"
   ]
  },
  {
   "cell_type": "code",
   "execution_count": 2,
   "id": "3cb0f21d",
   "metadata": {},
   "outputs": [
    {
     "data": {
      "text/plain": [
       "1"
      ]
     },
     "execution_count": 2,
     "metadata": {},
     "output_type": "execute_result"
    }
   ],
   "source": [
    "'''\n",
    "import os\n",
    "\n",
    "# Function to generate LaTeX code for ResNet50\n",
    "def generate_resnet50_latex(filename):\n",
    "    latex_code = r\"\"\"\n",
    "    \\documentclass{standalone}\n",
    "    \\usepackage{import}\n",
    "    \\subimport{../../}{init}\n",
    "    \\usetikzlibrary{positioning}\n",
    "    \\def\\ConvColor{rgb:yellow,5;red,2.5;white,5}\n",
    "    \\def\\ConvReluColor{rgb:yellow,5;red,5;white,5}\n",
    "    \\def\\PoolColor{rgb:red,1;black,3}\n",
    "    \\def\\UnpoolColor{rgb:blue,2;green,1;black,3}\n",
    "    \\def\\FcColor{rgb:blue,5;red,2.5;white,5}\n",
    "    \\def\\FcReluColor{rgb:blue,5;red,5;white,4}\n",
    "    \\def\\SoftmaxColor{rgb:magenta,5;black,7}\n",
    "\n",
    "    \\begin{document}\n",
    "    \\begin{tikzpicture}\n",
    "    \\pic[shift={(0,0,0)}] at (0,0,0) {RightBandedBox={name=input, xlabel={{\"3\",\"\"}}, zlabel=224, fill=\\ConvColor, bandfill=\\ConvReluColor, height=40, width=3, depth=40}};\n",
    "    \\pic[shift={(0,0,0)}] at (input-east) {RightBandedBox={name=conv1, xlabel={{\"64\",\"64\"}}, zlabel=224, fill=\\ConvColor, bandfill=\\ConvReluColor, height=40, width=4, depth=40}};\n",
    "    \\pic[shift={(0,0,0)}] at (conv1-east) {RightBandedBox={name=pool1, xlabel={{\"64\",\"\"}}, zlabel=112, fill=\\PoolColor, height=20, width=4, depth=20}};\n",
    "    \\pic[shift={(0,0,0)}] at (pool1-east) {RightBandedBox={name=conv2, xlabel={{\"256\",\"256\"}}, zlabel=56, fill=\\ConvColor, bandfill=\\ConvReluColor, height=14, width=10, depth=14}};\n",
    "    \\pic[shift={(0,0,0)}] at (conv2-east) {RightBandedBox={name=conv3, xlabel={{\"512\",\"512\"}}, zlabel=28, fill=\\ConvColor, bandfill=\\ConvReluColor, height=10, width=10, depth=10}};\n",
    "    \\pic[shift={(0,0,0)}] at (conv3-east) {RightBandedBox={name=conv4, xlabel={{\"1024\",\"1024\"}}, zlabel=14, fill=\\ConvColor, bandfill=\\ConvReluColor, height=7, width=10, depth=7}};\n",
    "    \\pic[shift={(0,0,0)}] at (conv4-east) {RightBandedBox={name=conv5, xlabel={{\"2048\",\"2048\"}}, zlabel=7, fill=\\ConvColor, bandfill=\\ConvReluColor, height=4, width=10, depth=4}};\n",
    "    \\pic[shift={(0,0,0)}] at (conv5-east) {RightBandedBox={name=pool2, xlabel={{\"2048\",\"\"}}, zlabel=1, fill=\\PoolColor, height=2, width=10, depth=2}};\n",
    "    \\pic[shift={(0,0,0)}] at (pool2-east) {RightBandedBox={name=fc, xlabel={{\"1000\",\"\"}}, zlabel=1, fill=\\FcColor, bandfill=\\FcReluColor, height=2, width=2, depth=2}};\n",
    "    \\pic[shift={(0,0,0)}] at (fc-east) {RightBandedBox={name=softmax, xlabel={{\"1000\",\"\"}}, zlabel=1, fill=\\SoftmaxColor, height=2, width=2, depth=2}};\n",
    "    \\draw [connection]  (input-east)        -- node {\\midarrow} (conv1-west);\n",
    "    \\draw [connection]  (conv1-east)        -- node {\\midarrow} (pool1-west);\n",
    "    \\draw [connection]  (pool1-east)        -- node {\\midarrow} (conv2-west);\n",
    "    \\draw [connection]  (conv2-east)        -- node {\\midarrow} (conv3-west);\n",
    "    \\draw [connection]  (conv3-east)        -- node {\\midarrow} (conv4-west);\n",
    "    \\draw [connection]  (conv4-east)        -- node {\\midarrow} (conv5-west);\n",
    "    \\draw [connection]  (conv5-east)        -- node {\\midarrow} (pool2-west);\n",
    "    \\draw [connection]  (pool2-east)        -- node {\\midarrow} (fc-west);\n",
    "    \\draw [connection]  (fc-east)           -- node {\\midarrow} (softmax-west);\n",
    "    \\end{tikzpicture}\n",
    "    \\end{document}\n",
    "    \"\"\"\n",
    "    with open(filename, 'w') as f:\n",
    "        f.write(latex_code)\n",
    "\n",
    "# Generate LaTeX file for ResNet50\n",
    "generate_resnet50_latex('D:/DATASET/PlotNeuralNet archi pics/resnet50.tex')\n",
    "\n",
    "# Compile LaTeX file to generate PDF\n",
    "os.system(\"D:/DATASET/PlotNeuralNet archi pics/pdflatex resnet50.tex\")\n",
    "\n",
    "'''"
   ]
  },
  {
   "cell_type": "code",
   "execution_count": 3,
   "id": "44e732c8",
   "metadata": {},
   "outputs": [],
   "source": [
    "'''\n",
    "\n",
    "import os\n",
    "\n",
    "def generate_latex_for_model(model, filename):\n",
    "    with open(filename, 'w') as f:\n",
    "        f.write(\"\\\\documentclass{article}\\n\")\n",
    "        f.write(\"\\\\usepackage{tikz}\\n\")\n",
    "        f.write(\"\\\\usepackage[utf8]{inputenc}\\n\")\n",
    "        f.write(\"\\\\usepackage{amsmath}\\n\")\n",
    "        f.write(\"\\\\usetikzlibrary{positioning}\\n\")\n",
    "        f.write(\"\\\\usepackage{standalone}\\n\")\n",
    "        f.write(\"\\\\usepackage{import}\\n\")\n",
    "        f.write(\"\\\\subimport{../../}{init}\\n\")\n",
    "        f.write(\"\\\\usetikzlibrary{3d}\\n\")\n",
    "        f.write(\"\\\\begin{document}\\n\")\n",
    "        f.write(\"\\\\begin{tikzpicture}\\n\")\n",
    "        f.write(\"\\\\node[canvas is zy plane at x=0] (temp) at (0,0) {};\\n\")\n",
    "        \n",
    "        for layer in model.layers:\n",
    "            layer_type = layer.__class__.__name__\n",
    "            if 'Conv2D' in layer_type:\n",
    "                f.write(\"\\\\Conv{64}{224}{224}{32}{32}{{conv1}}\")\n",
    "            elif 'Dense' in layer_type:\n",
    "                f.write(\"\\\\FcRelu{64}{100}{{fc1}}\")\n",
    "            elif 'MaxPooling2D' in layer_type or 'AveragePooling2D' in layer_type:\n",
    "                f.write(\"\\\\Pool{64}{224}{224}{{pool1}}\")\n",
    "            elif 'Flatten' in layer_type:\n",
    "                f.write(\"\\\\Flat{224*224*64}{{flat1}}\")\n",
    "        \n",
    "        f.write(\"\\\\end{tikzpicture}\\n\")\n",
    "        f.write(\"\\\\end{document}\\n\")\n",
    "\n",
    "generate_latex_for_model(model_fibrosis, 'D:/DATASET/Models/model_fibrosis.tex')\n",
    "generate_latex_for_model(model_inflammation, 'D:/DATASET/Models/model_inflammation.tex')\n",
    "generate_latex_for_model(model_steatosis, 'D:/DATASET/Models/model_steatosis.tex')\n",
    "generate_latex_for_model(model_ballooning, 'D:/DATASET/Models/model_ballooning.tex')\n",
    "'''"
   ]
  },
  {
   "cell_type": "code",
   "execution_count": 5,
   "id": "93babec6",
   "metadata": {},
   "outputs": [
    {
     "data": {
      "text/plain": [
       "1"
      ]
     },
     "execution_count": 5,
     "metadata": {},
     "output_type": "execute_result"
    }
   ],
   "source": [
    "'''\n",
    "# Compile LaTeX files\n",
    "os.system(\"pdflatex D:/DATASET/Models/model_fibrosis.tex\")\n",
    "os.system(\"pdflatex D:/DATASET/Models/model_inflammation.tex\")\n",
    "os.system(\"pdflatex D:/DATASET/Models/model_steatosis.tex\")\n",
    "os.system(\"pdflatex D:/DATASET/Models/model_ballooning.tex\")\n",
    "'''"
   ]
  },
  {
   "cell_type": "code",
   "execution_count": 7,
   "id": "dc776301",
   "metadata": {},
   "outputs": [
    {
     "data": {
      "text/plain": [
       "1"
      ]
     },
     "execution_count": 7,
     "metadata": {},
     "output_type": "execute_result"
    }
   ],
   "source": [
    "'''\n",
    "import os\n",
    "\n",
    "# Function to generate LaTeX code for ResNet50\n",
    "def generate_resnet50_latex(filename):\n",
    "    latex_code = r\"\"\"\n",
    "    \\documentclass{standalone}\n",
    "    \\usepackage{import}\n",
    "    \\subimport{../../}{init}\n",
    "    \\usetikzlibrary{positioning}\n",
    "    \\def\\ConvColor{rgb:yellow,5;red,2.5;white,5}\n",
    "    \\def\\ConvReluColor{rgb:yellow,5;red,5;white,5}\n",
    "    \\def\\PoolColor{rgb:red,1;black,3}\n",
    "    \\def\\UnpoolColor{rgb:blue,2;green,1;black,3}\n",
    "    \\def\\FcColor{rgb:blue,5;red,2.5;white,5}\n",
    "    \\def\\FcReluColor{rgb:blue,5;red,5;white,4}\n",
    "    \\def\\SoftmaxColor{rgb:magenta,5;black,7}\n",
    "\n",
    "    \\begin{document}\n",
    "    \\begin{tikzpicture}\n",
    "    \\pic[shift={(0,0,0)}] at (0,0,0) {RightBandedBox={name=input, xlabel={{\"3\",\"\"}}, zlabel=224, fill=\\ConvColor, bandfill=\\ConvReluColor, height=40, width=3, depth=40}};\n",
    "    \\pic[shift={(0,0,0)}] at (input-east) {RightBandedBox={name=conv1, xlabel={{\"64\",\"64\"}}, zlabel=224, fill=\\ConvColor, bandfill=\\ConvReluColor, height=40, width=4, depth=40}};\n",
    "    \\pic[shift={(0,0,0)}] at (conv1-east) {RightBandedBox={name=pool1, xlabel={{\"64\",\"\"}}, zlabel=112, fill=\\PoolColor, height=20, width=4, depth=20}};\n",
    "    \\pic[shift={(0,0,0)}] at (pool1-east) {RightBandedBox={name=conv2, xlabel={{\"256\",\"256\"}}, zlabel=56, fill=\\ConvColor, bandfill=\\ConvReluColor, height=14, width=10, depth=14}};\n",
    "    \\pic[shift={(0,0,0)}] at (conv2-east) {RightBandedBox={name=conv3, xlabel={{\"512\",\"512\"}}, zlabel=28, fill=\\ConvColor, bandfill=\\ConvReluColor, height=10, width=10, depth=10}};\n",
    "    \\pic[shift={(0,0,0)}] at (conv3-east) {RightBandedBox={name=conv4, xlabel={{\"1024\",\"1024\"}}, zlabel=14, fill=\\ConvColor, bandfill=\\ConvReluColor, height=7, width=10, depth=7}};\n",
    "    \\pic[shift={(0,0,0)}] at (conv4-east) {RightBandedBox={name=conv5, xlabel={{\"2048\",\"2048\"}}, zlabel=7, fill=\\ConvColor, bandfill=\\ConvReluColor, height=4, width=10, depth=4}};\n",
    "    \\pic[shift={(0,0,0)}] at (conv5-east) {RightBandedBox={name=pool2, xlabel={{\"2048\",\"\"}}, zlabel=1, fill=\\PoolColor, height=2, width=10, depth=2}};\n",
    "    \\pic[shift={(0,0,0)}] at (pool2-east) {RightBandedBox={name=fc, xlabel={{\"1000\",\"\"}}, zlabel=1, fill=\\FcColor, bandfill=\\FcReluColor, height=2, width=2, depth=2}};\n",
    "    \\pic[shift={(0,0,0)}] at (fc-east) {RightBandedBox={name=softmax, xlabel={{\"1000\",\"\"}}, zlabel=1, fill=\\SoftmaxColor, height=2, width=2, depth=2}};\n",
    "    \\draw [connection]  (input-east)        -- node {\\midarrow} (conv1-west);\n",
    "    \\draw [connection]  (conv1-east)        -- node {\\midarrow} (pool1-west);\n",
    "    \\draw [connection]  (pool1-east)        -- node {\\midarrow} (conv2-west);\n",
    "    \\draw [connection]  (conv2-east)        -- node {\\midarrow} (conv3-west);\n",
    "    \\draw [connection]  (conv3-east)        -- node {\\midarrow} (conv4-west);\n",
    "    \\draw [connection]  (conv4-east)        -- node {\\midarrow} (conv5-west);\n",
    "    \\draw [connection]  (conv5-east)        -- node {\\midarrow} (pool2-west);\n",
    "    \\draw [connection]  (pool2-east)        -- node {\\midarrow} (fc-west);\n",
    "    \\draw [connection]  (fc-east)           -- node {\\midarrow} (softmax-west);\n",
    "    \\end{tikzpicture}\n",
    "    \\end{document}\n",
    "    \"\"\"\n",
    "    with open(filename, 'w') as f:\n",
    "        f.write(latex_code)\n",
    "\n",
    "# Generate LaTeX file for ResNet50\n",
    "generate_resnet50_latex('D:/DATASET/Models/resnet50.tex')\n",
    "\n",
    "# Compile LaTeX file to generate PDF\n",
    "os.system(\"D:/DATASET/Models/pdflatex resnet50.tex\")\n",
    "'''"
   ]
  },
  {
   "cell_type": "code",
   "execution_count": null,
   "id": "0ec0ee04",
   "metadata": {},
   "outputs": [],
   "source": []
  },
  {
   "cell_type": "code",
   "execution_count": null,
   "id": "afe3cf3b",
   "metadata": {},
   "outputs": [],
   "source": []
  },
  {
   "cell_type": "code",
   "execution_count": null,
   "id": "88e67643",
   "metadata": {},
   "outputs": [],
   "source": []
  },
  {
   "cell_type": "code",
   "execution_count": null,
   "id": "f58c3666",
   "metadata": {},
   "outputs": [],
   "source": []
  },
  {
   "cell_type": "code",
   "execution_count": null,
   "id": "b55b85a0",
   "metadata": {},
   "outputs": [],
   "source": []
  },
  {
   "cell_type": "code",
   "execution_count": null,
   "id": "2c9cf732",
   "metadata": {},
   "outputs": [],
   "source": []
  },
  {
   "cell_type": "code",
   "execution_count": 8,
   "id": "b282906e",
   "metadata": {},
   "outputs": [],
   "source": [
    "import os\n",
    "\n",
    "def generate_latex_for_model(model, filename):\n",
    "    with open(filename, 'w') as f:\n",
    "        f.write(\"\\\\documentclass{standalone}\\n\")\n",
    "        f.write(\"\\\\usepackage{import}\\n\")\n",
    "        f.write(\"\\\\subimport{./}{init}\\n\")\n",
    "        f.write(\"\\\\usetikzlibrary{positioning}\\n\")\n",
    "        f.write(\"\\\\begin{document}\\n\")\n",
    "        f.write(\"\\\\begin{tikzpicture}\\n\")\n",
    "        \n",
    "        # Starting node\n",
    "        f.write(\"\\\\pic[shift={(0,0,0)}] at (0,0,0) {Box={name=input, xlabel={{\\\"input\\\",}}, zlabel=224, fill=\\\\ConvColor}};\\n\")\n",
    "        \n",
    "        for i, layer in enumerate(model.layers):\n",
    "            layer_type = layer.__class__.__name__\n",
    "            if 'Conv2D' in layer_type:\n",
    "                f.write(f\"\\\\pic[shift={{({i*2},0,0)}}] at (input-east) {{RightBandedBox={{name=conv{i}, xlabel={{\\\"{layer.filters}\\\",\\\"\\\"}}, zlabel=224, fill=\\\\ConvColor, bandfill=\\\\ConvReluColor, height=40, width=3, depth=40}}}};\\n\")\n",
    "            elif 'Dense' in layer_type:\n",
    "                f.write(f\"\\\\pic[shift={{({i*2},0,0)}}] at (conv{i-1}-east) {{RightBandedBox={{name=fc{i}, xlabel={{\\\"{layer.units}\\\",\\\"\\\"}}, zlabel=1, fill=\\\\FcColor, bandfill=\\\\FcReluColor, height=2, width=2, depth=2}}}};\\n\")\n",
    "            elif 'MaxPooling2D' in layer_type or 'AveragePooling2D' in layer_type:\n",
    "                f.write(f\"\\\\pic[shift={{({i*2},0,0)}}] at (conv{i-1}-east) {{RightBandedBox={{name=pool{i}, xlabel={{\\\"\\\",\\\"\\\"}}, zlabel=112, fill=\\\\PoolColor, height=20, width=4, depth=20}}}};\\n\")\n",
    "            elif 'Flatten' in layer_type:\n",
    "                f.write(f\"\\\\pic[shift={{({i*2},0,0)}}] at (pool{i-1}-east) {{RightBandedBox={{name=flat{i}, xlabel={{\\\"\\\",\\\"\\\"}}, zlabel=1, fill=\\\\FcColor, bandfill=\\\\FcReluColor, height=2, width=2, depth=2}}}};\\n\")\n",
    "        \n",
    "        # Ending node\n",
    "        f.write(\"\\\\pic[shift={(1,0,0)}] at (fc\" + str(len(model.layers) - 1) + \"-east) {Box={name=output, xlabel={{\\\"output\\\",}}, zlabel=1, fill=\\\\SoftmaxColor}};\\n\")\n",
    "        \n",
    "        f.write(\"\\\\end{tikzpicture}\\n\")\n",
    "        f.write(\"\\\\end{document}\\n\")\n"
   ]
  },
  {
   "cell_type": "code",
   "execution_count": 9,
   "id": "dddf62ed",
   "metadata": {},
   "outputs": [],
   "source": [
    "# Assuming model_fibrosis, model_inflammation, model_steatosis, model_ballooning are loaded tensorflow models\n",
    "\n",
    "generate_latex_for_model(model_fibrosis, 'PlotNeuralNet/model_fibrosis.tex')\n",
    "generate_latex_for_model(model_inflammation, 'PlotNeuralNet/model_inflammation.tex')\n",
    "generate_latex_for_model(model_steatosis, 'PlotNeuralNet/model_steatosis.tex')\n",
    "generate_latex_for_model(model_ballooning, 'PlotNeuralNet/model_ballooning.tex')"
   ]
  },
  {
   "cell_type": "code",
   "execution_count": 10,
   "id": "569acacc",
   "metadata": {},
   "outputs": [
    {
     "data": {
      "text/plain": [
       "1"
      ]
     },
     "execution_count": 10,
     "metadata": {},
     "output_type": "execute_result"
    }
   ],
   "source": [
    "# Compile the LaTeX files to PDF\n",
    "os.system(\"cd PlotNeuralNet && pdflatex model_fibrosis.tex\")\n",
    "os.system(\"cd PlotNeuralNet && pdflatex model_inflammation.tex\")\n",
    "os.system(\"cd PlotNeuralNet && pdflatex model_steatosis.tex\")\n",
    "os.system(\"cd PlotNeuralNet && pdflatex model_ballooning.tex\")"
   ]
  }
 ],
 "metadata": {
  "kernelspec": {
   "display_name": "Python 3",
   "language": "python",
   "name": "python3"
  },
  "language_info": {
   "codemirror_mode": {
    "name": "ipython",
    "version": 3
   },
   "file_extension": ".py",
   "mimetype": "text/x-python",
   "name": "python",
   "nbconvert_exporter": "python",
   "pygments_lexer": "ipython3",
   "version": "3.8.8"
  }
 },
 "nbformat": 4,
 "nbformat_minor": 5
}
