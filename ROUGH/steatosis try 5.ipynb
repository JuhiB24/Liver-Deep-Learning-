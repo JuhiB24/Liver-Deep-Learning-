{
 "cells": [
  {
   "cell_type": "code",
   "execution_count": 1,
   "id": "d0eea567",
   "metadata": {},
   "outputs": [],
   "source": [
    "import numpy as np\n",
    "import os\n",
    "import matplotlib.pyplot as plt\n",
    "from sklearn.model_selection import train_test_split\n",
    "from sklearn.utils import resample\n",
    "from keras.preprocessing.image import ImageDataGenerator\n",
    "from keras.applications import ResNet50\n",
    "from keras.models import Sequential\n",
    "from keras.layers import Dense, Flatten\n",
    "from keras.optimizers import Adam\n",
    "import shutil\n",
    "\n",
    "# Set the path to your dataset\n",
    "data_path = \"D:/DATASET/CNN/steatosis/trying1\"\n",
    "\n",
    "# Define constants\n",
    "IMG_SIZE = (299, 299)\n",
    "BATCH_SIZE = 32"
   ]
  },
  {
   "cell_type": "code",
   "execution_count": 2,
   "id": "bbb3fb9b",
   "metadata": {},
   "outputs": [
    {
     "name": "stdout",
     "output_type": "stream",
     "text": [
      "Found 38516 images belonging to 4 classes.\n"
     ]
    }
   ],
   "source": [
    "# Data augmentation\n",
    "datagen = ImageDataGenerator(\n",
    "    rescale=1./255,\n",
    "    rotation_range=20,\n",
    "    width_shift_range=0.1,\n",
    "    height_shift_range=0.1,\n",
    "    shear_range=0.2,\n",
    "    zoom_range=0.2,\n",
    "    horizontal_flip=True,\n",
    "    vertical_flip=True,\n",
    "    fill_mode='nearest'\n",
    ")\n",
    "\n",
    "# Load data using ImageDataGenerator with data augmentation\n",
    "train_generator = datagen.flow_from_directory(\n",
    "    data_path,\n",
    "    target_size=IMG_SIZE,\n",
    "    batch_size=BATCH_SIZE,\n",
    "    class_mode='categorical',\n",
    "    shuffle=True\n",
    ")"
   ]
  },
  {
   "cell_type": "code",
   "execution_count": 3,
   "id": "392360f4",
   "metadata": {},
   "outputs": [
    {
     "name": "stdout",
     "output_type": "stream",
     "text": [
      "Class distribution before resampling:\n",
      "{0: 3812, 1: 22752, 2: 11933, 3: 19}\n"
     ]
    },
    {
     "data": {
      "image/png": "[encoded data removed]",
      "text/plain": [
       "<Figure size 432x288 with 1 Axes>"
      ]
     },
     "metadata": {
      "needs_background": "light"
     },
     "output_type": "display_data"
    }
   ],
   "source": [
    "# Calculate class distribution\n",
    "class_distribution = train_generator.classes\n",
    "unique_classes, class_counts = np.unique(class_distribution, return_counts=True)\n",
    "print(\"Class distribution before resampling:\")\n",
    "print(dict(zip(unique_classes, class_counts)))\n",
    "\n",
    "# Plot class distribution\n",
    "plt.hist(class_distribution, bins=4)\n",
    "plt.xlabel('Class')\n",
    "plt.ylabel('Frequency')\n",
    "plt.title('Class Distribution before resampling')\n",
    "plt.xticks(np.arange(4), ['0', '1', '2', '3']) \n",
    "plt.show()"
   ]
  },
  {
   "cell_type": "code",
   "execution_count": 4,
   "id": "9520ac78",
   "metadata": {},
   "outputs": [
    {
     "name": "stdout",
     "output_type": "stream",
     "text": [
      "Class Distribution of Balanced Data:\n",
      "0: 4000\n",
      "1: 4000\n",
      "2: 4000\n",
      "3: 4000\n"
     ]
    },
    {
     "data": {
      "image/png": "[encoded data removed]",
      "text/plain": [
       "<Figure size 432x288 with 1 Axes>"
      ]
     },
     "metadata": {
      "needs_background": "light"
     },
     "output_type": "display_data"
    },
    {
     "data": {
      "text/plain": [
       "'\\n# Move the balanced data to the new directory\\nfor cls, samples in class_samples.items():\\n    class_dir = os.path.join(new_data_path, str(cls))\\n    os.makedirs(class_dir, exist_ok=True)\\n    for sample in samples:\\n        filename = os.path.basename(sample)\\n        shutil.move(sample, os.path.join(class_dir, filename))\\n'"
      ]
     },
     "execution_count": 4,
     "metadata": {},
     "output_type": "execute_result"
    }
   ],
   "source": [
    "# Define paths\n",
    "data_path = \"D:/DATASET/CNN/steatosis/trying1\"  # Update with your actual data path\n",
    "new_data_path = \"D:/DATASET/CNN/steatosis/balanced_dataset\"  # Update with your desired new data path\n",
    "\n",
    "# Create new directory if it doesn't exist\n",
    "os.makedirs(new_data_path, exist_ok=True)\n",
    "\n",
    "# Define desired number of samples for each class\n",
    "desired_samples = 4000\n",
    "\n",
    "# Load samples for each class\n",
    "class_samples = {}\n",
    "for i in range(4):\n",
    "    class_samples[i] = [os.path.join(data_path, str(i), file) for file in os.listdir(os.path.join(data_path, str(i)))]\n",
    "\n",
    "# Downsample classes 1 and 2 to 4000 samples each\n",
    "for i in [1, 2]:\n",
    "    class_samples[i] = resample(class_samples[i], replace=False, n_samples=desired_samples, random_state=42)\n",
    "\n",
    "# Oversample classes 0 and 3 to 4000 samples each\n",
    "class_samples[0] = resample(class_samples[0], replace=True, n_samples=desired_samples, random_state=42)\n",
    "class_samples[3] = resample(class_samples[3], replace=True, n_samples=desired_samples, random_state=42)\n",
    "\n",
    "# Combine all classes\n",
    "balanced_data = np.concatenate([class_samples[i] for i in range(4)])\n",
    "\n",
    "# Calculate and print class distribution of balanced data\n",
    "class_distribution = {str(i): len(class_samples[i]) for i in range(4)}\n",
    "print(\"Class Distribution of Balanced Data:\")\n",
    "for cls, count in class_distribution.items():\n",
    "    print(f\"{cls}: {count}\")\n",
    "\n",
    "# Plot class distribution\n",
    "plt.hist(balanced_data, bins=4)\n",
    "plt.xlabel('Class')\n",
    "plt.ylabel('Frequency')\n",
    "plt.title('Balanced Class Distribution')\n",
    "plt.xticks(np.arange(4), ['0', '1', '2', '3'])  # Add class labels to x-axis ticks\n",
    "plt.show()\n",
    "\n",
    "'''\n",
    "# Move the balanced data to the new directory\n",
    "for cls, samples in class_samples.items():\n",
    "    class_dir = os.path.join(new_data_path, str(cls))\n",
    "    os.makedirs(class_dir, exist_ok=True)\n",
    "    for sample in samples:\n",
    "        filename = os.path.basename(sample)\n",
    "        shutil.move(sample, os.path.join(class_dir, filename))\n",
    "'''"
   ]
  },
  {
   "cell_type": "code",
   "execution_count": null,
   "id": "481ceae0",
   "metadata": {},
   "outputs": [],
   "source": [
    "# Define the path to your dataset and the new directory\n",
    "data_path = \"D:/DATASET/CNN/steatosis/trying1\"\n",
    "new_data_path = \"D:/DATASET/CNN/steatosis/balanced_dataset\"\n",
    "\n",
    "# Create the new directory if it doesn't exist\n",
    "os.makedirs(new_data_path, exist_ok=True)\n",
    "\n",
    "# Define constants\n",
    "desired_samples = 2500  # The desired number of samples for each class\n",
    "\n",
    "# Load samples for each class\n",
    "class_samples = {}\n",
    "for i in range(4):\n",
    "    class_samples[i] = [os.path.join(data_path, str(i), file) for file in os.listdir(os.path.join(data_path, str(i)))]\n",
    "\n",
    "# Oversample class 3 to 2500 samples\n",
    "class_samples[3] = resample(class_samples[3], replace=True, n_samples=desired_samples - len(class_samples[3]), random_state=42)\n",
    "\n",
    "# Resample classes 0, 1, and 2 to 2500 samples each\n",
    "for i in range(3):\n",
    "    class_samples[i] = resample(class_samples[i], replace=True, n_samples=desired_samples, random_state=42)\n",
    "\n",
    "# Combine all classes\n",
    "balanced_data = np.concatenate([class_samples[i] for i in range(4)])\n",
    "\n",
    "# Calculate class distribution of balanced data\n",
    "class_distribution = {str(i): len(class_samples[i]) for i in range(4)}\n",
    "\n",
    "# Print class distribution\n",
    "print(\"Class Distribution of Balanced Data:\")\n",
    "for cls, count in class_distribution.items():\n",
    "    print(f\"{cls}: {count}\")\n",
    "\n",
    "# Plot class distribution\n",
    "plt.hist(balanced_data, bins=4)\n",
    "plt.xlabel('Class')\n",
    "plt.ylabel('Frequency')\n",
    "plt.title('Balanced Class Distribution')\n",
    "plt.xticks(np.arange(4), ['0', '1', '2', '3'])  # Add class labels to x-axis ticks\n",
    "plt.show()\n",
    "\n",
    "# Move the balanced data to the new directory\n",
    "for cls, samples in class_samples.items():\n",
    "    class_dir = os.path.join(new_data_path, str(cls))\n",
    "    os.makedirs(class_dir, exist_ok=True)\n",
    "    for sample in samples:\n",
    "        filename = os.path.basename(sample)\n",
    "        try:\n",
    "            shutil.move(sample, os.path.join(class_dir, filename))\n",
    "        except FileNotFoundError as e:\n",
    "            print(f\"Error moving file: {e}\")\n",
    "            "
   ]
  },
  {
   "cell_type": "code",
   "execution_count": null,
   "id": "62ed9401",
   "metadata": {},
   "outputs": [],
   "source": [
    "# Define the path to your dataset and the new directory\n",
    "data_path = \"D:/DATASET/CNN/steatosis/trying1\"\n",
    "new_data_path = \"D:/DATASET/CNN/steatosis/balanced_dataset\"\n",
    "\n",
    "# Create the new directory if it doesn't exist\n",
    "os.makedirs(new_data_path, exist_ok=True)\n",
    "\n",
    "# Define constants\n",
    "desired_samples = 2500  # The desired number of samples for each class\n",
    "\n",
    "# Load samples for each class\n",
    "class_samples = {}\n",
    "for i in range(4):\n",
    "    class_samples[i] = [os.path.join(data_path, str(i), file) for file in os.listdir(os.path.join(data_path, str(i)))]\n",
    "\n",
    "# Oversample class 3 to 2500 samples\n",
    "class_samples[3] = resample(class_samples[3], replace=True, n_samples=desired_samples - len(class_samples[3]), random_state=42)\n",
    "\n",
    "# Resample classes 0, 1, and 2 to 2500 samples each\n",
    "for i in range(3):\n",
    "    class_samples[i] = resample(class_samples[i], replace=True, n_samples=desired_samples, random_state=42)\n",
    "\n",
    "# Combine all classes\n",
    "balanced_data = np.concatenate([class_samples[i] for i in range(4)])\n",
    "\n",
    "# Calculate class distribution of balanced data\n",
    "class_distribution = {str(i): len(class_samples[i]) for i in range(4)}\n",
    "\n",
    "# Print class distribution\n",
    "print(\"Class Distribution of Balanced Data:\")\n",
    "for cls, count in class_distribution.items():\n",
    "    print(f\"{cls}: {count}\")\n",
    "\n",
    "# Plot class distribution\n",
    "plt.hist(balanced_data, bins=4)\n",
    "plt.xlabel('Class')\n",
    "plt.ylabel('Frequency')\n",
    "plt.title('Balanced Class Distribution')\n",
    "plt.xticks(np.arange(4), ['0', '1', '2', '3'])  # Add class labels to x-axis ticks\n",
    "plt.show()\n",
    "\n",
    "# Move the balanced data to the new directory\n",
    "for cls, samples in class_samples.items():\n",
    "    class_dir = os.path.join(new_data_path, str(cls))\n",
    "    os.makedirs(class_dir, exist_ok=True)\n",
    "    for sample in samples:\n",
    "        filename = os.path.basename(sample)\n",
    "        shutil.move(sample, os.path.join(class_dir, filename))\n"
   ]
  },
  {
   "cell_type": "code",
   "execution_count": null,
   "id": "7156fec5",
   "metadata": {},
   "outputs": [],
   "source": [
    "# Define constants\n",
    "desired_samples = 4000  # The desired number of samples for each class\n",
    "\n",
    "# Load samples for each class\n",
    "class_0_samples = [os.path.join(data_path, '0', file) for file in os.listdir(os.path.join(data_path, '0'))]\n",
    "class_1_samples = [os.path.join(data_path, '1', file) for file in os.listdir(os.path.join(data_path, '1'))]\n",
    "class_2_samples = [os.path.join(data_path, '2', file) for file in os.listdir(os.path.join(data_path, '2'))]\n",
    "class_3_samples = [os.path.join(data_path, '3', file) for file in os.listdir(os.path.join(data_path, '3'))]\n",
    "\n",
    "# Resample data for classes 0, 1, and 2\n",
    "class_0_samples = resample(class_0_samples, replace=False, n_samples=desired_samples, random_state=42)\n",
    "class_1_samples = resample(class_1_samples, replace=False, n_samples=desired_samples, random_state=42)\n",
    "class_2_samples = resample(class_2_samples, replace=False, n_samples=desired_samples, random_state=42)\n",
    "\n",
    "# Oversample class 3\n",
    "class_3_samples = resample(class_3_samples, replace=True, n_samples=desired_samples, random_state=42)\n",
    "\n",
    "# Combine all classes\n",
    "balanced_data = np.concatenate([class_0_samples, class_1_samples, class_2_samples, class_3_samples])\n",
    "\n",
    "# Calculate class distribution of balanced data\n",
    "class_distribution = {\n",
    "    '0': len(class_0_samples),\n",
    "    '1': len(class_1_samples),\n",
    "    '2': len(class_2_samples),\n",
    "    '3': len(class_3_samples)\n",
    "}\n",
    "\n",
    "# Print class distribution\n",
    "print(\"Class Distribution of Balanced Data:\")\n",
    "for cls, count in class_distribution.items():\n",
    "    print(f\"{cls}: {count}\")    \n",
    "\n",
    "# Plot class distribution\n",
    "plt.hist(balanced_data, bins=4)\n",
    "plt.xlabel('Class')\n",
    "plt.ylabel('Frequency')\n",
    "plt.title('Balanced Class Distribution')\n",
    "plt.xticks(np.arange(4), ['0', '1', '2', '3'])  # Add class labels to x-axis ticks\n",
    "plt.show()\n"
   ]
  },
  {
   "cell_type": "code",
   "execution_count": null,
   "id": "04bb5f1b",
   "metadata": {},
   "outputs": [],
   "source": []
  },
  {
   "cell_type": "code",
   "execution_count": null,
   "id": "b872e35f",
   "metadata": {},
   "outputs": [],
   "source": [
    "# Define the path to the new directory\n",
    "new_data_path = \"D:/DATASET/CNN/steatosis/balanced_dataset\"\n",
    "os.makedirs(new_data_path, exist_ok=True)\n",
    "\n",
    "# Move the balanced data to the new directory\n",
    "for sample in balanced_data:\n",
    "    class_label = os.path.basename(os.path.dirname(sample))\n",
    "    filename = os.path.basename(sample)\n",
    "    \n",
    "    # Create the directory for the class label if it doesn't exist\n",
    "    class_dir = os.path.join(new_data_path, class_label)\n",
    "    os.makedirs(class_dir, exist_ok=True)\n",
    "    \n",
    "    # Move the file to the new directory\n",
    "    shutil.move(sample, os.path.join(class_dir, filename))"
   ]
  },
  {
   "cell_type": "code",
   "execution_count": null,
   "id": "cc09b9dd",
   "metadata": {},
   "outputs": [],
   "source": []
  },
  {
   "cell_type": "code",
   "execution_count": null,
   "id": "1f0794b6",
   "metadata": {},
   "outputs": [],
   "source": [
    "# Load balanced data using ImageDataGenerator\n",
    "balanced_train_generator = datagen.flow_from_directory(\n",
    "    balanced_data_path,\n",
    "    target_size=IMG_SIZE,\n",
    "    batch_size=BATCH_SIZE,\n",
    "    class_mode='categorical',\n",
    "    shuffle=True\n",
    ")"
   ]
  },
  {
   "cell_type": "code",
   "execution_count": null,
   "id": "f9d111f7",
   "metadata": {},
   "outputs": [],
   "source": [
    "# Define the ResNet50 model\n",
    "resnet_model = ResNet50(weights='imagenet', include_top=False, input_shape=(299, 299, 3))\n",
    "\n",
    "# Add custom layers on top of ResNet50\n",
    "model = Sequential()\n",
    "model.add(resnet_model)\n",
    "model.add(Flatten())\n",
    "model.add(Dense(256, activation='relu'))\n",
    "model.add(Dense(4, activation='softmax'))"
   ]
  },
  {
   "cell_type": "code",
   "execution_count": null,
   "id": "c56892da",
   "metadata": {},
   "outputs": [],
   "source": [
    "# Compile the model\n",
    "model.compile(optimizer=Adam(lr=0.0001), loss='categorical_crossentropy', metrics=['accuracy'])\n",
    "\n",
    "# Train the model\n",
    "history = model.fit_generator(train_generator, epochs=5, steps_per_epoch=train_generator.samples // BATCH_SIZE)\n",
    "\n",
    "# Save the model\n",
    "model.save('model_steatosis.h5')"
   ]
  },
  {
   "cell_type": "code",
   "execution_count": null,
   "id": "d54942ee",
   "metadata": {},
   "outputs": [],
   "source": [
    "# Plot class distribution after balancing\n",
    "class_labels = ['NASH score 0', 'NASH score 1', 'NASH score 2', 'NASH score 3']\n",
    "class_distribution = [sum(train_generator.classes == i) for i in range(4)]\n",
    "plt.bar(class_labels, class_distribution)\n",
    "plt.title('Balanced Class Distribution')\n",
    "plt.xlabel('NASH Score')\n",
    "plt.ylabel('Number of Images')\n",
    "plt.show()\n",
    "\n",
    "# Plot training history\n",
    "plt.plot(history.history['accuracy'])\n",
    "plt.title('Model Accuracy')\n",
    "plt.xlabel('Epoch')\n",
    "plt.ylabel('Accuracy')\n",
    "plt.show()"
   ]
  },
  {
   "cell_type": "code",
   "execution_count": null,
   "id": "1c67b449",
   "metadata": {},
   "outputs": [],
   "source": [
    "# Evaluate the model\n",
    "loss, accuracy = model.evaluate_generator(train_generator)\n",
    "print(f\"Test Loss: {loss}, Test Accuracy: {accuracy}\")"
   ]
  },
  {
   "cell_type": "code",
   "execution_count": null,
   "id": "47905b33",
   "metadata": {},
   "outputs": [],
   "source": [
    "# Prediction function\n",
    "def predict_image(image_path):\n",
    "    img = plt.imread(image_path)\n",
    "    img = img / 255.0\n",
    "    img = np.expand_dims(img, axis=0)\n",
    "    prediction = model.predict(img)\n",
    "    predicted_class = np.argmax(prediction)\n",
    "    return predicted_class\n",
    "\n",
    "# Test prediction\n",
    "test_image_path = \"D:\\DATASET\\CNN\\steatosis\\train\\2\\5_11_49.png\"\n",
    "predicted_class = predict_image(test_image_path)\n",
    "print(\"Predicted class:\", predicted_class)\n"
   ]
  }
 ],
 "metadata": {
  "kernelspec": {
   "display_name": "Python 3",
   "language": "python",
   "name": "python3"
  },
  "language_info": {
   "codemirror_mode": {
    "name": "ipython",
    "version": 3
   },
   "file_extension": ".py",
   "mimetype": "text/x-python",
   "name": "python",
   "nbconvert_exporter": "python",
   "pygments_lexer": "ipython3",
   "version": "3.8.8"
  }
 },
 "nbformat": 4,
 "nbformat_minor": 5
}
