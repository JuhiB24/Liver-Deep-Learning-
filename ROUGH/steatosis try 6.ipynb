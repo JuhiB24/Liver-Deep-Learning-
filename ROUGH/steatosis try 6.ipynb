{
 "cells": [
  {
   "cell_type": "code",
   "execution_count": null,
   "id": "d4cd07ec",
   "metadata": {},
   "outputs": [],
   "source": [
    "import os\n",
    "import shutil\n",
    "import numpy as np\n",
    "import matplotlib.pyplot as plt\n",
    "from sklearn.utils import resample\n",
    "from tensorflow.keras.preprocessing.image import ImageDataGenerator\n",
    "\n",
    "# Define paths\n",
    "data_path = \"D:/DATASET/CNN/steatosis/trying\"  # Update with your actual data path\n",
    "balanced_data_path = \"D:/DATASET/CNN/steatosis/balanced_dataset\"  # Update with your desired balanced data path"
   ]
  },
  {
   "cell_type": "code",
   "execution_count": null,
   "id": "f51544c3",
   "metadata": {},
   "outputs": [],
   "source": [
    "# Create new directory if it doesn't exist\n",
    "os.makedirs(balanced_data_path, exist_ok=True)\n",
    "\n",
    "# Define desired number of samples for each class\n",
    "desired_samples = 4000\n",
    "\n",
    "# Load images for each class\n",
    "class_samples = {}\n",
    "for i in range(4):\n",
    "    class_samples[i] = [os.path.join(data_path, str(i), file) for file in os.listdir(os.path.join(data_path, str(i)))]"
   ]
  },
  {
   "cell_type": "code",
   "execution_count": null,
   "id": "94bcc1f8",
   "metadata": {},
   "outputs": [],
   "source": [
    "# Remove unwanted images from classes 1 and 2 (without lipid vacuoles)\n",
    "class_samples[1] = [img for img in class_samples[1] if \"lipid_vacuoles\" in img]\n",
    "class_samples[2] = [img for img in class_samples[2] if \"lipid_vacuoles\" in img]\n",
    "\n",
    "# Resample classes 0, 1, and 2 to 4000 samples each\n",
    "for i in [0, 1, 2]:\n",
    "    class_samples[i] = resample(class_samples[i], replace=True, n_samples=desired_samples, random_state=42)\n",
    "\n",
    "# Oversample class 3 to 4000 samples\n",
    "class_samples[3] = resample(class_samples[3], replace=True, n_samples=desired_samples, random_state=42)"
   ]
  },
  {
   "cell_type": "code",
   "execution_count": null,
   "id": "8f0f4e06",
   "metadata": {},
   "outputs": [],
   "source": [
    "# Data augmentation\n",
    "datagen = ImageDataGenerator(\n",
    "    rotation_range=20,\n",
    "    width_shift_range=0.2,\n",
    "    height_shift_range=0.2,\n",
    "    shear_range=0.2,\n",
    "    zoom_range=0.2,\n",
    "    horizontal_flip=True,\n",
    "    vertical_flip=True,\n",
    "    fill_mode='nearest'\n",
    ")"
   ]
  },
  {
   "cell_type": "code",
   "execution_count": null,
   "id": "9f589962",
   "metadata": {},
   "outputs": [],
   "source": [
    "# Generate augmented images for each class\n",
    "for i in range(4):\n",
    "    class_dir = os.path.join(balanced_data_path, str(i))\n",
    "    os.makedirs(class_dir, exist_ok=True)\n",
    "    for img_path in class_samples[i]:\n",
    "        img_name = os.path.basename(img_path)\n",
    "        img = plt.imread(img_path)\n",
    "        img = img.reshape((1,) + img.shape)\n",
    "        j = 0\n",
    "        for batch in datagen.flow(img, batch_size=1, save_to_dir=class_dir, save_prefix='aug', save_format='png'):\n",
    "            j += 1\n",
    "            if j >= 4:  # Generate 4 augmented images per original image\n",
    "                break\n",
    "                \n",
    "# Calculate and plot class distribution before and after resampling\n",
    "class_distribution_before = {str(i): len(class_samples[i]) for i in range(4)}\n",
    "class_distribution_after = {str(i): len(os.listdir(os.path.join(balanced_data_path, str(i)))) for i in range(4)}"
   ]
  },
  {
   "cell_type": "code",
   "execution_count": null,
   "id": "343a3d1f",
   "metadata": {},
   "outputs": [],
   "source": [
    "plt.figure(figsize=(10, 5))\n",
    "\n",
    "plt.subplot(1, 2, 1)\n",
    "plt.bar(class_distribution_before.keys(), class_distribution_before.values())\n",
    "plt.xlabel('Class')\n",
    "plt.ylabel('Number of Images')\n",
    "plt.title('Class Distribution Before Resampling')"
   ]
  },
  {
   "cell_type": "code",
   "execution_count": null,
   "id": "2b38285d",
   "metadata": {},
   "outputs": [],
   "source": [
    "plt.subplot(1, 2, 2)\n",
    "plt.bar(class_distribution_after.keys(), class_distribution_after.values())\n",
    "plt.xlabel('Class')\n",
    "plt.ylabel('Number of Images')\n",
    "plt.title('Class Distribution After Resampling')"
   ]
  },
  {
   "cell_type": "code",
   "execution_count": null,
   "id": "6510af7c",
   "metadata": {},
   "outputs": [],
   "source": [
    "plt.tight_layout()\n",
    "plt.show()"
   ]
  }
 ],
 "metadata": {
  "kernelspec": {
   "display_name": "Python 3",
   "language": "python",
   "name": "python3"
  },
  "language_info": {
   "codemirror_mode": {
    "name": "ipython",
    "version": 3
   },
   "file_extension": ".py",
   "mimetype": "text/x-python",
   "name": "python",
   "nbconvert_exporter": "python",
   "pygments_lexer": "ipython3",
   "version": "3.8.8"
  }
 },
 "nbformat": 4,
 "nbformat_minor": 5
}
