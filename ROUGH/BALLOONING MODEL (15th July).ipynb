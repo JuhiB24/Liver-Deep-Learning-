{
 "cells": [
  {
   "cell_type": "code",
   "execution_count": null,
   "id": "0bc7ec01",
   "metadata": {},
   "outputs": [],
   "source": [
    "import numpy as np\n",
    "import matplotlib.pyplot as plt\n",
    "from tensorflow.keras.applications import ResNet50\n",
    "from tensorflow.keras.layers import GlobalAveragePooling2D, Dense\n",
    "from tensorflow.keras.models import Model\n",
    "from tensorflow.keras.optimizers import Adam\n",
    "from tensorflow.keras.preprocessing.image import ImageDataGenerator\n",
    "from tensorflow.keras.utils import plot_model\n",
    "import tensorflow as tf\n",
    "from PIL import Image\n",
    "from tensorflow.keras.preprocessing import image\n",
    "import pandas as pd\n",
    "from tensorflow.keras.callbacks import EarlyStopping"
   ]
  },
  {
   "cell_type": "code",
   "execution_count": null,
   "id": "6d4f8b0c",
   "metadata": {},
   "outputs": [],
   "source": [
    "def preprocess_image(img):\n",
    "    \"\"\" Convert to grayscale, apply Gaussian blur to highlight features. \"\"\"\n",
    "    img = tf.image.rgb_to_grayscale(img)\n",
    "    img = tf.image.adjust_contrast(img, 2)\n",
    "    return img\n",
    "\n",
    "# Setup data generators\n",
    "train_datagen = ImageDataGenerator(\n",
    "    rescale=1./255,\n",
    "    preprocessing_function=preprocess_image,\n",
    "    rotation_range=10,\n",
    "    width_shift_range=0.1,\n",
    "    height_shift_range=0.1,\n",
    "    zoom_range=0.1,\n",
    "    horizontal_flip=True\n",
    ")\n",
    "\n",
    "train_generator = train_datagen.flow_from_directory(\n",
    "    'D:/DATASET/CNN/ballooning/train',\n",
    "    target_size=(299, 299),\n",
    "    batch_size=32,\n",
    "    class_mode='binary'\n",
    ")\n"
   ]
  },
  {
   "cell_type": "code",
   "execution_count": null,
   "id": "253955b2",
   "metadata": {},
   "outputs": [],
   "source": [
    "# Initialize the ResNet50 base model\n",
    "base_model = ResNet50(weights='imagenet', include_top=False, input_shape=(299, 299, 3))\n",
    "\n",
    "# Freeze layers\n",
    "for layer in base_model.layers:\n",
    "    layer.trainable = False\n",
    "\n",
    "# Add custom layers\n",
    "x = base_model.output\n",
    "x = GlobalAveragePooling2D()(x)\n",
    "predictions = Dense(1, activation='sigmoid')(x)\n",
    "model = Model(inputs=base_model.input, outputs=predictions)\n",
    "\n",
    "# Compile the model\n",
    "model.compile(optimizer=Adam(lr=0.0001), loss='binary_crossentropy', metrics=['accuracy'])\n"
   ]
  },
  {
   "cell_type": "code",
   "execution_count": null,
   "id": "39e41c1c",
   "metadata": {},
   "outputs": [],
   "source": [
    "# Create a model for feature map extraction\n",
    "feature_model = Model(inputs=base_model.input, outputs=base_model.get_layer('conv5_block3_out').output)"
   ]
  },
  {
   "cell_type": "code",
   "execution_count": null,
   "id": "11bec521",
   "metadata": {},
   "outputs": [],
   "source": [
    "history = model.fit(\n",
    "    train_generator,\n",
    "    steps_per_epoch=len(train_generator),\n",
    "    epochs=7,\n",
    "    validation_data=train_generator,\n",
    "    validation_steps=len(train_generator)\n",
    ")\n"
   ]
  },
  {
   "cell_type": "code",
   "execution_count": null,
   "id": "8b0e3912",
   "metadata": {},
   "outputs": [],
   "source": [
    "# Save the model\n",
    "model.save('D:/DATASET/Models 7/model_ballooning7.h5')"
   ]
  },
  {
   "cell_type": "code",
   "execution_count": null,
   "id": "d4c33f9c",
   "metadata": {},
   "outputs": [],
   "source": [
    "import json\n",
    "\n",
    "# Save the training history\n",
    "with open('D:/DATASET/Models 7/ballooning_history7.json', 'w') as file:\n",
    "    json.dump(history.history, file)"
   ]
  },
  {
   "cell_type": "code",
   "execution_count": null,
   "id": "c9b7b92f",
   "metadata": {},
   "outputs": [],
   "source": [
    "# Function to plot metrics\n",
    "def plot_metrics(history, title):\n",
    "    train_acc = history.history['accuracy']\n",
    "    val_acc = history.history['val_accuracy']\n",
    "    train_loss = history.history['loss']\n",
    "    val_loss = history.history['val_loss']\n",
    "\n",
    "    epochs = range(1, len(train_acc) + 1)\n",
    "\n",
    "    plt.figure(figsize=(12, 4))\n",
    "    plt.subplot(1, 2, 1)\n",
    "    plt.plot(epochs, train_acc, 'bo', label='Training accuracy')\n",
    "    plt.plot(epochs, val_acc, 'b', label='Validation accuracy')\n",
    "    plt.title(f'Training and validation accuracy - {title}')\n",
    "    plt.xlabel('Epochs')\n",
    "    plt.ylabel('Accuracy')\n",
    "    plt.legend()\n",
    "\n",
    "    plt.subplot(1, 2, 2)\n",
    "    plt.plot(epochs, train_loss, 'bo', label='Training loss')\n",
    "    plt.plot(epochs, val_loss, 'b', label='Validation loss')\n",
    "    plt.title(f'Training and validation loss - {title}')\n",
    "    plt.xlabel('Epochs')\n",
    "    plt.ylabel('Loss')\n",
    "    plt.legend()\n",
    "\n",
    "    plt.tight_layout()\n",
    "    plt.show()\n",
    "\n",
    "# Plot metrics for each model\n",
    "plot_metrics(history, 'Ballooning')\n",
    "\n",
    "# Print final metrics\n",
    "def print_final_metrics(history, title):\n",
    "    train_acc = history.history['accuracy'][-1]\n",
    "    val_acc = history.history['val_accuracy'][-1]\n",
    "    train_loss = history.history['loss'][-1]\n",
    "    val_loss = history.history['val_loss'][-1]\n",
    "\n",
    "    print(f\"{title} - Final Training Accuracy: {train_acc}\")\n",
    "    print(f\"{title} - Final Validation Accuracy: {val_acc}\")\n",
    "    print(f\"{title} - Final Training Loss: {train_loss}\")\n",
    "    print(f\"{title} - Final Validation Loss: {val_loss}\")\n",
    "\n",
    "print_final_metrics(history, 'Ballooning')"
   ]
  },
  {
   "cell_type": "code",
   "execution_count": null,
   "id": "9db01682",
   "metadata": {},
   "outputs": [],
   "source": []
  },
  {
   "cell_type": "code",
   "execution_count": null,
   "id": "60ab92c1",
   "metadata": {},
   "outputs": [],
   "source": []
  },
  {
   "cell_type": "code",
   "execution_count": null,
   "id": "412ec0d8",
   "metadata": {},
   "outputs": [],
   "source": []
  },
  {
   "cell_type": "code",
   "execution_count": null,
   "id": "5ab522dc",
   "metadata": {},
   "outputs": [],
   "source": []
  },
  {
   "cell_type": "code",
   "execution_count": null,
   "id": "6dacb054",
   "metadata": {},
   "outputs": [],
   "source": []
  },
  {
   "cell_type": "code",
   "execution_count": null,
   "id": "52916660",
   "metadata": {},
   "outputs": [],
   "source": []
  },
  {
   "cell_type": "code",
   "execution_count": null,
   "id": "f505b09a",
   "metadata": {},
   "outputs": [],
   "source": [
    "# Function to plot validation loss\n",
    "def plot_validation_loss(history, model_name):\n",
    "    plt.plot(history['val_loss'], label=f'{model_name} Validation Loss')\n",
    "    plt.title(f'{model_name} Validation Loss Curve')\n",
    "    plt.xlabel('Epochs')\n",
    "    plt.ylabel('Validation Loss')\n",
    "    plt.legend()\n",
    "    plt.show()"
   ]
  },
  {
   "cell_type": "code",
   "execution_count": null,
   "id": "854f29a1",
   "metadata": {},
   "outputs": [],
   "source": [
    "# Plot validation loss for ballooning model\n",
    "with open('D:/DATASET/Models/ballooning_history7.json', 'r') as file:\n",
    "    fibrosis_history = json.load(file)\n",
    "\n",
    "plot_validation_loss(fibrosis_history, 'Ballooning')"
   ]
  },
  {
   "cell_type": "code",
   "execution_count": null,
   "id": "e11a1815",
   "metadata": {},
   "outputs": [],
   "source": []
  },
  {
   "cell_type": "code",
   "execution_count": null,
   "id": "7c38f04a",
   "metadata": {},
   "outputs": [],
   "source": [
    "plt.figure(figsize=(12, 6))\n",
    "plt.subplot(1, 2, 1)\n",
    "plt.plot(history.history['accuracy'])\n",
    "plt.plot(history.history['val_accuracy'])\n",
    "plt.title('Model Accuracy')\n",
    "plt.ylabel('Accuracy')\n",
    "plt.xlabel('Epoch')\n",
    "plt.legend(['Train', 'Validation'], loc='upper left')\n",
    "\n",
    "plt.subplot(1, 2, 2)\n",
    "plt.plot(history.history['loss'])\n",
    "plt.plot(history.history['val_loss'])\n",
    "plt.title('Model Loss')\n",
    "plt.ylabel('Loss')\n",
    "plt.xlabel('Epoch')\n",
    "plt.legend(['Train', 'Validation'], loc='upper left')\n",
    "plt.show()\n"
   ]
  },
  {
   "cell_type": "code",
   "execution_count": null,
   "id": "8582adbb",
   "metadata": {},
   "outputs": [],
   "source": [
    "plot_model(model, to_file='D:/DATASET/ballooning_model_architecture.png', show_shapes=True)"
   ]
  },
  {
   "cell_type": "code",
   "execution_count": null,
   "id": "967af3ee",
   "metadata": {},
   "outputs": [],
   "source": [
    "for layer in model.layers:\n",
    "    print(layer.name)"
   ]
  },
  {
   "cell_type": "code",
   "execution_count": null,
   "id": "ef93f523",
   "metadata": {},
   "outputs": [],
   "source": [
    "# Create a model for feature map extraction\n",
    "feature_model = Model(inputs=base_model.input, outputs=base_model.get_layer('conv2_block1_out').output)"
   ]
  },
  {
   "cell_type": "code",
   "execution_count": null,
   "id": "c92ec766",
   "metadata": {},
   "outputs": [],
   "source": [
    "def extract_and_display_image(image_path, feature_model):\n",
    "    img = Image.open(image_path)\n",
    "    img_resized = img.resize((299, 299), Image.ANTIALIAS)\n",
    "    img_array = np.array(img_resized) / 255.0\n",
    "    img_array = img_array[np.newaxis, ...]\n",
    "\n",
    "    # Display the original image\n",
    "    plt.imshow(img)\n",
    "    plt.title(\"Original Image\")\n",
    "    plt.axis('off')\n",
    "    plt.show()\n",
    "\n",
    "    # Get the feature maps\n",
    "    feature_maps = feature_model.predict(img_array)[0]\n",
    "    return feature_maps"
   ]
  },
  {
   "cell_type": "code",
   "execution_count": null,
   "id": "ab4b04b0",
   "metadata": {},
   "outputs": [],
   "source": [
    "def visualize_feature_maps(feature_maps, num_features=15):\n",
    "    # Display the first 'num_features' feature maps\n",
    "    fig, axes = plt.subplots(nrows=int(np.sqrt(num_features)), ncols=int(np.sqrt(num_features)), figsize=(10, 10))\n",
    "    for i, ax in enumerate(axes.flat):\n",
    "        if i < num_features:\n",
    "            ax.imshow(feature_maps[:, :, i], cmap='viridis')\n",
    "            ax.axis('off')\n",
    "    plt.show()"
   ]
  },
  {
   "cell_type": "code",
   "execution_count": null,
   "id": "97e25018",
   "metadata": {},
   "outputs": [],
   "source": [
    "def predict_and_display(image_path, model):\n",
    "    img = image.load_img(image_path, target_size=(299, 299))\n",
    "    img_array = image.img_to_array(img)\n",
    "    img_array = np.expand_dims(img_array, axis=0)  # Create a batch\n",
    "    img_array /= 255.0  # Normalize the image\n",
    "    prediction = model.predict(img_array)\n",
    "\n",
    "    # Display the processed image\n",
    "    plt.imshow(img, cmap='gray')\n",
    "    plt.title(f'Predicted: {\"Ballooning Present\" if prediction[0][0] > 0.5 else \"Ballooning Absent\"}')\n",
    "    plt.show()\n",
    "\n",
    "    return prediction"
   ]
  },
  {
   "cell_type": "code",
   "execution_count": null,
   "id": "16ff3588",
   "metadata": {},
   "outputs": [],
   "source": []
  },
  {
   "cell_type": "code",
   "execution_count": null,
   "id": "7644fb2f",
   "metadata": {},
   "outputs": [],
   "source": [
    "from tensorflow.keras.preprocessing import image\n",
    "import numpy as np\n",
    "from PIL import Image\n",
    "\n",
    "image_path = \"D:/DATASET/CNN/ballooning/train/1/14_206_22.png\"\n",
    "feature_maps = extract_and_display_image(image_path, feature_model)\n",
    "visualize_feature_maps(feature_maps)\n",
    "predicted_class=predict_and_display(image_path, model)\n",
    "print(\"Probability of prediction= \",predicted_class)"
   ]
  },
  {
   "cell_type": "code",
   "execution_count": null,
   "id": "550b2d20",
   "metadata": {},
   "outputs": [],
   "source": []
  },
  {
   "cell_type": "code",
   "execution_count": null,
   "id": "29bf2b42",
   "metadata": {},
   "outputs": [],
   "source": []
  }
 ],
 "metadata": {
  "kernelspec": {
   "display_name": "Python 3",
   "language": "python",
   "name": "python3"
  },
  "language_info": {
   "codemirror_mode": {
    "name": "ipython",
    "version": 3
   },
   "file_extension": ".py",
   "mimetype": "text/x-python",
   "name": "python",
   "nbconvert_exporter": "python",
   "pygments_lexer": "ipython3",
   "version": "3.8.8"
  }
 },
 "nbformat": 4,
 "nbformat_minor": 5
}
