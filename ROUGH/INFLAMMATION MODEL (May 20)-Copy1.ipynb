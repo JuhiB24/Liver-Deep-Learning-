{
 "cells": [
  {
   "cell_type": "code",
   "execution_count": 1,
   "id": "3b579088",
   "metadata": {},
   "outputs": [
    {
     "data": {
      "image/png": "[encoded data removed]",
      "text/plain": [
       "<Figure size 432x288 with 1 Axes>"
      ]
     },
     "metadata": {
      "needs_background": "light"
     },
     "output_type": "display_data"
    },
    {
     "name": "stdout",
     "output_type": "stream",
     "text": [
      "Found 1414 images belonging to 1 classes.\n",
      "Found 1385 images belonging to 1 classes.\n"
     ]
    },
    {
     "data": {
      "image/png": "[encoded data removed]",
      "text/plain": [
       "<Figure size 432x288 with 1 Axes>"
      ]
     },
     "metadata": {
      "needs_background": "light"
     },
     "output_type": "display_data"
    }
   ],
   "source": [
    "import os\n",
    "import shutil\n",
    "import numpy as np\n",
    "from tensorflow.keras.preprocessing.image import ImageDataGenerator\n",
    "import matplotlib.pyplot as plt\n",
    "\n",
    "# Paths\n",
    "data_dir = 'D:/DATASET/CNN/inflammation/train'  # Original dataset directory\n",
    "balanced_data_dir = 'D:/DATASET/CNN/inflammation/balanced_train'  # Target directory for balanced dataset\n",
    "\n",
    "# Create balanced_data directory and subdirectories for each class\n",
    "os.makedirs(balanced_data_dir, exist_ok=True)\n",
    "classes = ['0', '1', '2']  # Inflammation labels: 0, 1, 2\n",
    "for cls in classes:\n",
    "    os.makedirs(os.path.join(balanced_data_dir, cls), exist_ok=True)\n",
    "\n",
    "def count_images_in_directory(directory):\n",
    "    \"\"\" Counts the images in each subdirectory of a given directory. \"\"\"\n",
    "    return {folder_name: len(os.listdir(os.path.join(directory, folder_name)))\n",
    "            for folder_name in os.listdir(directory) if os.path.isdir(os.path.join(directory, folder_name))}\n",
    "\n",
    "# Count and plot initial distribution\n",
    "initial_counts = count_images_in_directory(data_dir)\n",
    "\n",
    "def plot_distribution(data, title):\n",
    "    \"\"\" Plots the distribution of data classes. \"\"\"\n",
    "    classes = sorted(data.keys())\n",
    "    counts = [data[cls] for cls in classes]\n",
    "    plt.bar(classes, counts, color='blue')\n",
    "    plt.xlabel('Class Labels')\n",
    "    plt.ylabel('Number of Images')\n",
    "    plt.title(title)\n",
    "    plt.show()\n",
    "\n",
    "plot_distribution(initial_counts, 'Initial Distribution of Inflammation Levels')\n",
    "\n",
    "# We want to target 4000 images for each class\n",
    "target_samples = 4000\n",
    "\n",
    "# Data augmentation setup for oversampling\n",
    "datagen = ImageDataGenerator(\n",
    "    rotation_range=40,\n",
    "    width_shift_range=0.2,\n",
    "    height_shift_range=0.2,\n",
    "    shear_range=0.2,\n",
    "    zoom_range=0.2,\n",
    "    horizontal_flip=True,\n",
    "    fill_mode='nearest'\n",
    ")\n",
    "\n",
    "def resample_class_images(class_id, current_count):\n",
    "    \"\"\" Resamples images by class: oversampling or undersampling to target_samples. \"\"\"\n",
    "    class_dir = os.path.join(data_dir, class_id)\n",
    "    target_dir = os.path.join(balanced_data_dir, class_id)\n",
    "    images = os.listdir(class_dir)\n",
    "\n",
    "    if current_count > target_samples:  # Downsampling for class 0\n",
    "        selected_images = np.random.choice(images, target_samples, replace=False)\n",
    "    else:  # Oversampling for classes 1 and 2\n",
    "        selected_images = images  # Include all original images\n",
    "        # Augment data to reach target count\n",
    "        augmentation_count = target_samples - current_count\n",
    "        generator = datagen.flow_from_directory(\n",
    "            directory=data_dir,\n",
    "            classes=[class_id],\n",
    "            target_size=(299, 299),\n",
    "            batch_size=1,\n",
    "            save_to_dir=target_dir,\n",
    "            save_prefix='aug',\n",
    "            save_format='jpeg'\n",
    "        )\n",
    "        for _ in range(augmentation_count):\n",
    "            generator.next()\n",
    "\n",
    "    # Copy selected images to balanced_data\n",
    "    for img in selected_images:\n",
    "        shutil.copy(os.path.join(class_dir, img), os.path.join(target_dir, img))\n",
    "\n",
    "# Resample each class\n",
    "for class_id in classes:\n",
    "    current_count = initial_counts[class_id]\n",
    "    resample_class_images(class_id, current_count)\n",
    "\n",
    "# Count and plot balanced distribution\n",
    "balanced_counts = count_images_in_directory(balanced_data_dir)\n",
    "plot_distribution(balanced_counts, 'Balanced Distribution of Inflammation Levels')\n"
   ]
  },
  {
   "cell_type": "code",
   "execution_count": null,
   "id": "bdc8b6bc",
   "metadata": {},
   "outputs": [],
   "source": [
    "from tensorflow.keras.applications.resnet50 import ResNet50\n",
    "from tensorflow.keras.preprocessing.image import ImageDataGenerator\n",
    "from tensorflow.keras.layers import GlobalAveragePooling2D, Dense\n",
    "from tensorflow.keras.models import Model\n",
    "from tensorflow.keras.optimizers import Adam\n",
    "import numpy as np\n",
    "from PIL import Image\n",
    "from tensorflow.keras.utils import plot_model\n",
    "import matplotlib.pyplot as plt"
   ]
  },
  {
   "cell_type": "code",
   "execution_count": null,
   "id": "8b0ecf71",
   "metadata": {},
   "outputs": [],
   "source": [
    "# Initialize the base ResNet50 model\n",
    "base_model = ResNet50(weights='imagenet', include_top=False, input_shape=(299, 299, 3))"
   ]
  },
  {
   "cell_type": "code",
   "execution_count": null,
   "id": "779e37c7",
   "metadata": {},
   "outputs": [],
   "source": [
    "# Add custom layers\n",
    "x = base_model.output\n",
    "x = GlobalAveragePooling2D()(x)\n",
    "predictions = Dense(3, activation='softmax')(x)  # 3 classes for NASH scores 0, 1, 2"
   ]
  },
  {
   "cell_type": "code",
   "execution_count": null,
   "id": "3e5ae086",
   "metadata": {},
   "outputs": [],
   "source": [
    "# Create the final model\n",
    "model = Model(inputs=base_model.input, outputs=predictions)"
   ]
  },
  {
   "cell_type": "code",
   "execution_count": null,
   "id": "ed1cc1d0",
   "metadata": {},
   "outputs": [],
   "source": [
    "# Compile the model\n",
    "model.compile(optimizer=Adam(lr=0.0001), loss='categorical_crossentropy', metrics=['accuracy'])"
   ]
  },
  {
   "cell_type": "code",
   "execution_count": null,
   "id": "e86f5954",
   "metadata": {},
   "outputs": [],
   "source": [
    "# import pydot\n",
    "# print(pydot.Dot.create(pydot.Dot()))"
   ]
  },
  {
   "cell_type": "code",
   "execution_count": null,
   "id": "ac990bca",
   "metadata": {},
   "outputs": [],
   "source": [
    "# Visualize the model architecture\n",
    "plot_model(model, to_file='D:/DATASET/inflammation_model_architecture.png', show_shapes=True, show_layer_names=True)"
   ]
  },
  {
   "cell_type": "code",
   "execution_count": null,
   "id": "edb5a40c",
   "metadata": {},
   "outputs": [],
   "source": [
    "# Create a model for feature map extraction\n",
    "feature_model = Model(inputs=base_model.input, outputs=base_model.get_layer('conv5_block3_out').output)"
   ]
  },
  {
   "cell_type": "code",
   "execution_count": null,
   "id": "87214218",
   "metadata": {},
   "outputs": [],
   "source": [
    "def extract_and_display_image(image_path, feature_model):\n",
    "    img = Image.open(image_path)\n",
    "    img_resized = img.resize((299, 299), Image.ANTIALIAS)\n",
    "    img_array = np.array(img_resized) / 255.0\n",
    "    img_array = img_array[np.newaxis, ...]\n",
    "\n",
    "    # Display the original image\n",
    "    plt.imshow(img)\n",
    "    plt.title(\"Original Image\")\n",
    "    plt.axis('off')\n",
    "    plt.show()\n",
    "\n",
    "    # Get the feature maps\n",
    "    feature_maps = feature_model.predict(img_array)[0]\n",
    "    return feature_maps"
   ]
  },
  {
   "cell_type": "code",
   "execution_count": null,
   "id": "6916c729",
   "metadata": {},
   "outputs": [],
   "source": [
    "def visualize_feature_maps(feature_maps, num_features=15):\n",
    "    # Display the first 'num_features' feature maps\n",
    "    fig, axes = plt.subplots(nrows=int(np.sqrt(num_features)), ncols=int(np.sqrt(num_features)), figsize=(10, 10))\n",
    "    for i, ax in enumerate(axes.flat):\n",
    "        if i < num_features:\n",
    "            ax.imshow(feature_maps[:, :, i], cmap='viridis')\n",
    "            ax.axis('off')\n",
    "    plt.show()"
   ]
  },
  {
   "cell_type": "code",
   "execution_count": null,
   "id": "2b191776",
   "metadata": {},
   "outputs": [],
   "source": [
    "# Load images using ImageDataGenerator\n",
    "train_datagen = ImageDataGenerator(rescale=1./255, validation_split=0.2)"
   ]
  },
  {
   "cell_type": "code",
   "execution_count": null,
   "id": "67a876ff",
   "metadata": {},
   "outputs": [],
   "source": [
    "train_generator = train_datagen.flow_from_directory(\n",
    "    'D:/DATASET/CNN/inflammation/train',\n",
    "    target_size=(299, 299),\n",
    "    batch_size=32,\n",
    "    class_mode='categorical',\n",
    "    subset='training')\n",
    "\n",
    "validation_generator = train_datagen.flow_from_directory(\n",
    "    'D:/DATASET/CNN/inflammation/val',\n",
    "    target_size=(299, 299),\n",
    "    batch_size=32,\n",
    "    class_mode='categorical',\n",
    "    subset='validation')"
   ]
  },
  {
   "cell_type": "code",
   "execution_count": null,
   "id": "a55d4003",
   "metadata": {},
   "outputs": [],
   "source": [
    "# Train the model\n",
    "history = model.fit(\n",
    "    train_generator,\n",
    "    steps_per_epoch=train_generator.samples // train_generator.batch_size,\n",
    "    validation_data=validation_generator,\n",
    "    validation_steps=validation_generator.samples // validation_generator.batch_size,\n",
    "    epochs=10  \n",
    ")\n",
    "\n",
    "# Save the model\n",
    "model.save('D:/DATASET/Models/model_inflammation.h5')"
   ]
  },
  {
   "cell_type": "code",
   "execution_count": null,
   "id": "8d722de0",
   "metadata": {},
   "outputs": [],
   "source": [
    "import json\n",
    "\n",
    "# Save the training history\n",
    "with open('D:/DATASET/Models/inflammation_history.json', 'w') as file:\n",
    "    json.dump(history.history, file)"
   ]
  },
  {
   "cell_type": "code",
   "execution_count": null,
   "id": "cd32f5a3",
   "metadata": {},
   "outputs": [],
   "source": [
    "# Function to plot validation loss\n",
    "def plot_validation_loss(history, model_name):\n",
    "    plt.plot(history['val_loss'], label=f'{model_name} Validation Loss')\n",
    "    plt.title(f'{model_name} Validation Loss Curve')\n",
    "    plt.xlabel('Epochs')\n",
    "    plt.ylabel('Validation Loss')\n",
    "    plt.legend()\n",
    "    plt.show()"
   ]
  },
  {
   "cell_type": "code",
   "execution_count": null,
   "id": "35c86429",
   "metadata": {},
   "outputs": [],
   "source": [
    "# Plot validation loss for inflammation model\n",
    "with open('D:/DATASET/Models/inflammation_history.json', 'r') as file:\n",
    "    fibrosis_history = json.load(file)\n",
    "\n",
    "plot_validation_loss(fibrosis_history, 'Inflammation')"
   ]
  },
  {
   "cell_type": "code",
   "execution_count": null,
   "id": "00f58468",
   "metadata": {},
   "outputs": [],
   "source": [
    "image_path = \"D:/DATASET/CNN/inflammation/train/1/2_228_75.png\"\n",
    "feature_maps = extract_and_display_image(image_path, feature_model)\n",
    "visualize_feature_maps(feature_maps)"
   ]
  },
  {
   "cell_type": "code",
   "execution_count": null,
   "id": "ac9d4389",
   "metadata": {},
   "outputs": [],
   "source": []
  },
  {
   "cell_type": "code",
   "execution_count": null,
   "id": "682a9a4e",
   "metadata": {},
   "outputs": [],
   "source": []
  },
  {
   "cell_type": "code",
   "execution_count": null,
   "id": "64c7d5b0",
   "metadata": {},
   "outputs": [],
   "source": []
  },
  {
   "cell_type": "code",
   "execution_count": null,
   "id": "639b731d",
   "metadata": {},
   "outputs": [],
   "source": []
  },
  {
   "cell_type": "code",
   "execution_count": null,
   "id": "1cbb8d88",
   "metadata": {},
   "outputs": [],
   "source": [
    "# Create a model for feature map extraction\n",
    "feature_model = Model(inputs=base_model.input, outputs=base_model.get_layer('conv5_block1_out').output)"
   ]
  },
  {
   "cell_type": "code",
   "execution_count": null,
   "id": "f6930e90",
   "metadata": {},
   "outputs": [],
   "source": [
    "image_path = \"D:/DATASET/CNN/inflammation/train/2/168_25_37.png\"\n",
    "feature_maps = extract_and_display_image(image_path, feature_model)\n",
    "visualize_feature_maps(feature_maps)"
   ]
  },
  {
   "cell_type": "code",
   "execution_count": null,
   "id": "4d3eef50",
   "metadata": {},
   "outputs": [],
   "source": [
    "from tensorflow.keras.preprocessing.image import load_img, img_to_array\n",
    "from tensorflow.keras.applications.resnet50 import preprocess_input\n",
    "import numpy as np\n",
    "\n",
    "def prepare_image(image_path):\n",
    "    img = load_img(image_path, target_size=(299, 299))  # Ensure the image is resized\n",
    "    img_array = img_to_array(img)                      # Convert the image to a numpy array\n",
    "    img_array = np.expand_dims(img_array, axis=0)      # Add a dimension to fit the model input: (1, 299, 299, 3)\n",
    "    img_array = preprocess_input(img_array)            # Preprocess the image as required by ResNet50\n",
    "    return img_array\n",
    "\n",
    "\n",
    "image_path = \"D:/DATASET/CNN/inflammation/train/1/2_228_75.png\"\n",
    "img_array = prepare_image(image_path)"
   ]
  },
  {
   "cell_type": "code",
   "execution_count": null,
   "id": "5aa1b35d",
   "metadata": {},
   "outputs": [],
   "source": [
    "for layer in model.layers:\n",
    "    print(layer.name)"
   ]
  },
  {
   "cell_type": "code",
   "execution_count": null,
   "id": "d99372de",
   "metadata": {},
   "outputs": [],
   "source": [
    "from tensorflow.keras.applications.vgg16 import VGG16, preprocess_input, decode_predictions\n",
    "from tensorflow.keras.preprocessing.image import load_img, img_to_array\n",
    "from tensorflow.keras.models import Model\n",
    "import numpy as np\n",
    "import matplotlib.cm as cm\n",
    "import tensorflow as tf\n",
    "\n",
    "def make_gradcam_heatmap(img_array, model, last_conv_layer_name, pred_index=None):\n",
    "    grad_model = tf.keras.models.Model(\n",
    "        [model.inputs], [model.get_layer(last_conv_layer_name).output, model.output]\n",
    "    )\n",
    "\n",
    "    with tf.GradientTape() as tape:\n",
    "        last_conv_layer_output, preds = grad_model(img_array)\n",
    "        if pred_index is None:\n",
    "            pred_index = tf.argmax(preds[0])\n",
    "        class_channel = preds[:, pred_index]\n",
    "\n",
    "    grads = tape.gradient(class_channel, last_conv_layer_output)\n",
    "    pooled_grads = tf.reduce_mean(grads, axis=(0, 1, 2))\n",
    "\n",
    "    last_conv_layer_output = last_conv_layer_output[0]\n",
    "    heatmap = last_conv_layer_output @ pooled_grads[..., tf.newaxis]\n",
    "    heatmap = tf.squeeze(heatmap)\n",
    "    heatmap = tf.maximum(heatmap, 0) / tf.math.reduce_max(heatmap)\n",
    "    return heatmap.numpy()\n",
    "\n",
    "# Use the function\n",
    "# img_array should be your preprocessed image input to the model\n",
    "# 'last_conv_layer' should be the name of the last convolutional layer in your model\n",
    "# model is your trained model\n",
    "heatmap = make_gradcam_heatmap(prepare_image('D:/DATASET/CNN/inflammation/train/1/2_228_75.png'), model, 'conv5_block3_3_conv')\n",
    "plt.matshow(heatmap)\n",
    "plt.show()"
   ]
  },
  {
   "cell_type": "code",
   "execution_count": null,
   "id": "d52234de",
   "metadata": {},
   "outputs": [],
   "source": []
  },
  {
   "cell_type": "code",
   "execution_count": null,
   "id": "0ddc7dee",
   "metadata": {},
   "outputs": [],
   "source": []
  },
  {
   "cell_type": "code",
   "execution_count": null,
   "id": "9843964b",
   "metadata": {},
   "outputs": [],
   "source": []
  },
  {
   "cell_type": "code",
   "execution_count": null,
   "id": "97ae4714",
   "metadata": {},
   "outputs": [],
   "source": [
    "# To use the model later without retraining:\n",
    "# from tensorflow.keras.models import load_model\n",
    "# model = load_model('liver_biopsy_classification_model.h5')"
   ]
  },
  {
   "cell_type": "code",
   "execution_count": null,
   "id": "62f94170",
   "metadata": {},
   "outputs": [],
   "source": [
    "# Improve prediction function as follows\n",
    "def predict_inflammation(image_path, model):\n",
    "    img = Image.open(image_path)\n",
    "    img = img.resize((299, 299), Image.ANTIALIAS)  # Resize the image to match model's input\n",
    "    img_array = np.array(img) / 255.0  # Rescale the image\n",
    "    img_array = img_array[np.newaxis, ...]  # Add batch dimension\n",
    "\n",
    "    # Predict the class\n",
    "    prediction = model.predict(img_array)\n",
    "    predicted_class = np.argmax(prediction)\n",
    "    confidence = np.max(prediction)\n",
    "    return predicted_class, confidence"
   ]
  },
  {
   "cell_type": "code",
   "execution_count": null,
   "id": "d691ba2a",
   "metadata": {},
   "outputs": [],
   "source": [
    "# Example use of the prediction function\n",
    "predicted_class, confidence = predict_inflammation('D:/DATASET/CNN/inflammation/test/1/417_256_91.png', model)\n",
    "print(f'Predicted class: {predicted_class} with probability: {confidence:.2f}')"
   ]
  },
  {
   "cell_type": "code",
   "execution_count": null,
   "id": "487d08f5",
   "metadata": {},
   "outputs": [],
   "source": [
    "def crop_and_predict(image_path, model, size=(299, 299), step_size=299):\n",
    "    img = Image.open(image_path)\n",
    "    width, height = img.size\n",
    "    scores = []\n",
    "\n",
    "    for top in range(0, height - size[1] + 1, step_size):\n",
    "        for left in range(0, width - size[0] + 1, step_size):\n",
    "            # Crop the image\n",
    "            crop = img.crop((left, top, left + size[0], top + size[1]))\n",
    "            # Preprocess and predict\n",
    "            crop_array = np.array(crop) / 255.0\n",
    "            crop_array = crop_array[np.newaxis, ...]\n",
    "            prediction = model.predict(crop_array)\n",
    "            scores.append(np.argmax(prediction))\n",
    "\n",
    "    # Calculate the average score\n",
    "    average_score = np.mean(scores)\n",
    "    return int(round(average_score))"
   ]
  },
  {
   "cell_type": "code",
   "execution_count": null,
   "id": "bd4dc5e7",
   "metadata": {},
   "outputs": [],
   "source": [
    "# Use this function to get an average inflammation score from a large image\n",
    "average_inflammation_score = crop_and_predict(\"D:/Testing (Triya ma'am)/Hematoxylin eosin staining for scoring at 20X and 40x/NASH_40X/x1.jpg\", model)\n",
    "print(f'Average Inflammation Score: {average_inflammation_score}')"
   ]
  },
  {
   "cell_type": "code",
   "execution_count": null,
   "id": "3d11b091",
   "metadata": {},
   "outputs": [],
   "source": []
  }
 ],
 "metadata": {
  "kernelspec": {
   "display_name": "Python 3",
   "language": "python",
   "name": "python3"
  },
  "language_info": {
   "codemirror_mode": {
    "name": "ipython",
    "version": 3
   },
   "file_extension": ".py",
   "mimetype": "text/x-python",
   "name": "python",
   "nbconvert_exporter": "python",
   "pygments_lexer": "ipython3",
   "version": "3.8.8"
  }
 },
 "nbformat": 4,
 "nbformat_minor": 5
}
