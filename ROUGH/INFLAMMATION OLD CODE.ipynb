{
 "cells": [
  {
   "cell_type": "code",
   "execution_count": null,
   "id": "eb1cb535",
   "metadata": {},
   "outputs": [],
   "source": [
    "# Predict on an image\n",
    "sample_image_path = \"D:/Testing (Triya ma'am)/Hematoxylin eosin staining for scoring at 20X and 40x/NASH_40X/4.jpeg\"\n",
    "img = tf.keras.preprocessing.image.load_img(sample_image_path, target_size=(img_width, img_height))\n",
    "img_array = tf.keras.preprocessing.image.img_to_array(img)\n",
    "img_array = np.expand_dims(img_array, axis=0)  # Expand dimensions to match batch size\n",
    "img_array /= 255.  # Normalize image\n",
    "\n",
    "prediction = model.predict(img_array)"
   ]
  },
  {
   "cell_type": "code",
   "execution_count": null,
   "id": "063dfa0f",
   "metadata": {},
   "outputs": [],
   "source": [
    "# Get the index of the class with maximum probability\n",
    "max_prob_index = np.argmax(prediction)\n",
    "    \n",
    "# Define the NASH score mapping\n",
    "nash_scores = {\n",
    "        0: \"0: No foci per 200× field\",\n",
    "        1: \"1: <2 foci or 2-4 foci per 200×field\",\n",
    "        2: \"2: >4 foci per 200×field\"\n",
    "    }\n",
    "    \n",
    "# Get the NASH score corresponding to the maximum probability\n",
    "nash_score = nash_scores[max_prob_index]"
   ]
  },
  {
   "cell_type": "code",
   "execution_count": null,
   "id": "6b9b61bf",
   "metadata": {},
   "outputs": [],
   "source": [
    "# Load the sample image\n",
    "sample_img = cv2.imread(sample_image_path)\n",
    "sample_img = cv2.cvtColor(sample_img, cv2.COLOR_BGR2RGB)\n",
    "\n",
    "# Resize the image to match the model's input size\n",
    "resized_sample_img = cv2.resize(sample_img, (img_width, img_height))\n",
    "\n",
    "# Convert the image to grayscale\n",
    "gray_img = cv2.cvtColor(resized_sample_img, cv2.COLOR_RGB2GRAY)"
   ]
  },
  {
   "cell_type": "code",
   "execution_count": null,
   "id": "4898cadc",
   "metadata": {},
   "outputs": [],
   "source": [
    "# Thresholding\n",
    "_, thresh_img = cv2.threshold(gray_img, 100, 255, cv2.THRESH_BINARY)\n",
    "\n",
    "plt.imshow(thresh_img)\n",
    "\n",
    "# Find contours\n",
    "contours, _ = cv2.findContours(thresh_img, cv2.RETR_EXTERNAL, cv2.CHAIN_APPROX_SIMPLE)\n",
    "\n",
    "# Get the contour with the maximum area\n",
    "max_contour = max(contours, key=cv2.contourArea)\n",
    "\n",
    "# Get the bounding box of the maximum contour\n",
    "x, y, w, h = cv2.boundingRect(max_contour)\n",
    "\n",
    "# Define the size of the 200x area\n",
    "area_size = 200  # Assuming the area is square\n",
    "\n",
    "# Calculate the coordinates for the 200x area\n",
    "x_center, y_center = x + w // 2, y + h // 2\n",
    "x_200x = max(0, x_center - area_size // 2)\n",
    "y_200x = max(0, y_center - area_size // 2)\n",
    "w_200x = min(area_size, resized_sample_img.shape[1] - x_200x)\n",
    "h_200x = min(area_size, resized_sample_img.shape[0] - y_200x)\n",
    "\n",
    "# Overlay predicted NASH score on the image\n",
    "annotated_image = resized_sample_img.copy()\n",
    "cv2.putText(annotated_image, f\"Predicted NASH Score: {nash_score}\", (10, 30),\n",
    "            cv2.FONT_HERSHEY_SIMPLEX, 0.8, (255, 0, 0), 2)\n",
    "\n",
    "# Draw a rectangle around the 200x area\n",
    "cv2.rectangle(annotated_image, (x_200x, y_200x), (x_200x + w_200x, y_200x + h_200x), (0, 255, 0), 2)\n",
    "\n",
    "# Plot the annotated image\n",
    "plt.figure(figsize=(8, 6))\n",
    "plt.imshow(annotated_image)\n",
    "plt.title(\"Image with Annotations\")\n",
    "plt.axis('off')\n",
    "plt.show()\n",
    "\n",
    "# Print the NASH score\n",
    "print(\"Prediction:\", prediction)\n",
    "print('Predicted NASH score:', nash_score)"
   ]
  },
  {
   "cell_type": "code",
   "execution_count": null,
   "id": "a258e7cb",
   "metadata": {},
   "outputs": [],
   "source": []
  },
  {
   "cell_type": "code",
   "execution_count": null,
   "id": "d2c66864",
   "metadata": {},
   "outputs": [],
   "source": []
  }
 ],
 "metadata": {
  "kernelspec": {
   "display_name": "Python 3",
   "language": "python",
   "name": "python3"
  },
  "language_info": {
   "codemirror_mode": {
    "name": "ipython",
    "version": 3
   },
   "file_extension": ".py",
   "mimetype": "text/x-python",
   "name": "python",
   "nbconvert_exporter": "python",
   "pygments_lexer": "ipython3",
   "version": "3.8.8"
  }
 },
 "nbformat": 4,
 "nbformat_minor": 5
}
