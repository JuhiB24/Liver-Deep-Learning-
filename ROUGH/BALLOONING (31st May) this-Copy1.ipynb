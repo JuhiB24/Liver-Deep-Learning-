{
 "cells": [
  {
   "cell_type": "code",
   "execution_count": 1,
   "id": "126806c5",
   "metadata": {},
   "outputs": [
    {
     "data": {
      "image/png": "[encoded data removed]",
      "text/plain": [
       "<Figure size 432x288 with 1 Axes>"
      ]
     },
     "metadata": {
      "needs_background": "light"
     },
     "output_type": "display_data"
    },
    {
     "name": "stdout",
     "output_type": "stream",
     "text": [
      "Found 1273 images belonging to 1 classes.\n"
     ]
    },
    {
     "data": {
      "image/png": "[encoded data removed]",
      "text/plain": [
       "<Figure size 432x288 with 1 Axes>"
      ]
     },
     "metadata": {
      "needs_background": "light"
     },
     "output_type": "display_data"
    }
   ],
   "source": [
    "import os\n",
    "import shutil\n",
    "import numpy as np\n",
    "from tensorflow.keras.preprocessing.image import ImageDataGenerator\n",
    "import matplotlib.pyplot as plt\n",
    "\n",
    "# Paths\n",
    "data_dir = \"D:/DATASET/CNN/ballooning/train\"  # Original dataset directory\n",
    "oversampled_data_dir = 'D:/DATASET/CNN/ballooning/balanced_train'  # Directory for oversampled dataset\n",
    "\n",
    "# Create oversampled_data directory and subdirectories for each class\n",
    "os.makedirs(oversampled_data_dir, exist_ok=True)\n",
    "classes = ['0', '1']  # Ballooning binary classification: 0 and 1\n",
    "for cls in classes:\n",
    "    os.makedirs(os.path.join(oversampled_data_dir, cls), exist_ok=True)\n",
    "\n",
    "def count_images_in_directory(directory):\n",
    "    \"\"\"Counts the images in each subdirectory of a given directory.\"\"\"\n",
    "    return {folder_name: len(os.listdir(os.path.join(directory, folder_name)))\n",
    "            for folder_name in os.listdir(directory) if os.path.isdir(os.path.join(directory, folder_name))}\n",
    "\n",
    "# Count and plot initial distribution\n",
    "initial_counts = count_images_in_directory(data_dir)\n",
    "\n",
    "def plot_distribution(data, title):\n",
    "    \"\"\"Plots the distribution of data classes.\"\"\"\n",
    "    classes = sorted(data.keys())\n",
    "    counts = [data[cls] for cls in classes]\n",
    "    plt.bar(classes, counts, color='blue')\n",
    "    plt.xlabel('Class Labels')\n",
    "    plt.ylabel('Number of Images')\n",
    "    plt.title(title)\n",
    "    plt.show()\n",
    "\n",
    "plot_distribution(initial_counts, 'Initial Distribution of Ballooning Levels')\n",
    "\n",
    "# We want to oversample class '0' to approximately match the number of images in class '1' (6,500 target)\n",
    "target_samples = 6500\n",
    "\n",
    "# Data augmentation setup for oversampling\n",
    "datagen = ImageDataGenerator(\n",
    "    rotation_range=40,\n",
    "    width_shift_range=0.2,\n",
    "    height_shift_range=0.2,\n",
    "    shear_range=0.2,\n",
    "    zoom_range=0.2,\n",
    "    horizontal_flip=True,\n",
    "    fill_mode='nearest'\n",
    ")\n",
    "\n",
    "def resample_class_images(class_id):\n",
    "    \"\"\"Resamples images by class: oversampling or undersampling to target_samples.\"\"\"\n",
    "    class_dir = os.path.join(data_dir, class_id)\n",
    "    target_dir = os.path.join(oversampled_data_dir, class_id)\n",
    "    images = os.listdir(class_dir)\n",
    "    current_count = len(images)\n",
    "\n",
    "    if current_count > target_samples:  # In case we need to undersample (not needed here)\n",
    "        selected_images = np.random.choice(images, target_samples, replace=False)\n",
    "    else:  # Oversampling\n",
    "        selected_images = images  # Include all original images\n",
    "        # Augment data to reach target count\n",
    "        augmentation_count = target_samples - current_count\n",
    "        generator = datagen.flow_from_directory(\n",
    "            directory=data_dir,\n",
    "            classes=[class_id],\n",
    "            target_size=(299, 299),\n",
    "            batch_size=1,\n",
    "            save_to_dir=target_dir,\n",
    "            save_prefix='aug',\n",
    "            save_format='jpeg'\n",
    "        )\n",
    "        for _ in range(augmentation_count):\n",
    "            generator.next()\n",
    "\n",
    "    # Copy selected images to oversampled_data\n",
    "    for img in selected_images:\n",
    "        shutil.copy(os.path.join(class_dir, img), os.path.join(target_dir, img))\n",
    "\n",
    "# Resample only class '0' (the minority class)\n",
    "resample_class_images('0')\n",
    "\n",
    "# Copy class '1' images as is without oversampling\n",
    "for img in os.listdir(os.path.join(data_dir, '1')):\n",
    "    shutil.copy(os.path.join(data_dir, '1', img), os.path.join(oversampled_data_dir, '1', img))\n",
    "\n",
    "# Count and plot balanced distribution\n",
    "balanced_counts = count_images_in_directory(oversampled_data_dir)\n",
    "plot_distribution(balanced_counts, 'Balanced Distribution of Ballooning Levels')\n"
   ]
  },
  {
   "cell_type": "code",
   "execution_count": null,
   "id": "c9fd6e59",
   "metadata": {},
   "outputs": [],
   "source": [
    "from tensorflow.keras.preprocessing.image import ImageDataGenerator\n",
    "from tensorflow.keras.applications import ResNet50\n",
    "from tensorflow.keras.layers import GlobalAveragePooling2D, Dense\n",
    "from tensorflow.keras.models import Model\n",
    "from tensorflow.keras.optimizers import Adam\n",
    "import cv2\n",
    "import numpy as np\n",
    "import os\n",
    "\n",
    "# Define preprocessing function\n",
    "def preprocess_image(image):\n",
    "    # Convert to grayscale (assuming image is loaded in color)\n",
    "    image = cv2.cvtColor(image, cv2.COLOR_BGR2GRAY)\n",
    "    # Apply Gaussian Blur\n",
    "    image = cv2.GaussianBlur(image, (5, 5), 0)\n",
    "    # Expand the dimensions to fit model input\n",
    "    return np.stack((image,)*3, axis=-1)  # Stack grayscale image to have three channels\n",
    "\n",
    "# Configure data generator\n",
    "datagen = ImageDataGenerator(\n",
    "    preprocessing_function=preprocess_image,\n",
    "    rescale=1./255\n",
    ")\n",
    "\n",
    "# Setting up paths and parameters\n",
    "train_data_path = \"D:/DATASET/CNN/ballooning/train\"\n",
    "\n",
    "train_generator = datagen.flow_from_directory(\n",
    "    train_data_path,\n",
    "    target_size=(299, 299),\n",
    "    batch_size=32,\n",
    "    class_mode='binary'\n",
    ")"
   ]
  },
  {
   "cell_type": "code",
   "execution_count": null,
   "id": "c1e20d84",
   "metadata": {},
   "outputs": [],
   "source": [
    "num_threads = 4  # Use all cores available on each node\n",
    "#os.environ['TF_NUM_INTRAOP_THREADS'] = str(num_threads)\n",
    "#os.environ['TF_NUM_INTEROP_THREADS'] = str(num_threads)\n",
    "print(os.cpu_count())"
   ]
  },
  {
   "cell_type": "code",
   "execution_count": null,
   "id": "4fd7287b",
   "metadata": {},
   "outputs": [],
   "source": [
    "# Load ResNet50 base model\n",
    "base_model = ResNet50(weights='imagenet', include_top=False, input_shape=(299, 299, 3))"
   ]
  },
  {
   "cell_type": "code",
   "execution_count": null,
   "id": "4348ec47",
   "metadata": {},
   "outputs": [],
   "source": [
    "# Freeze the convolutional base\n",
    "for layer in base_model.layers:\n",
    "    layer.trainable = False"
   ]
  },
  {
   "cell_type": "code",
   "execution_count": null,
   "id": "66638f75",
   "metadata": {},
   "outputs": [],
   "source": [
    "# Adding custom layers\n",
    "x = base_model.output\n",
    "x = GlobalAveragePooling2D()(x)\n",
    "x = Dense(1, activation='sigmoid')(x)"
   ]
  },
  {
   "cell_type": "code",
   "execution_count": null,
   "id": "0517b962",
   "metadata": {},
   "outputs": [],
   "source": [
    "model = Model(inputs=base_model.input, outputs=x)\n",
    "model.compile(optimizer=Adam(lr=0.0001), loss='binary_crossentropy', metrics=['accuracy'])"
   ]
  },
  {
   "cell_type": "code",
   "execution_count": null,
   "id": "b702a57d",
   "metadata": {},
   "outputs": [],
   "source": [
    "# Train model\n",
    "history = model.fit(train_generator, epochs=5)"
   ]
  },
  {
   "cell_type": "code",
   "execution_count": null,
   "id": "d6c1912d",
   "metadata": {},
   "outputs": [],
   "source": [
    "# Predict on 299x299 dimension images to check the model performance\n",
    "\n",
    "import cv2\n",
    "import numpy as np\n",
    "import matplotlib.pyplot as plt\n",
    "\n",
    "def predict_single_image(image_path, model):\n",
    "    # Load the image\n",
    "    image = cv2.imread(image_path)\n",
    "    \n",
    "    # Preprocess the image\n",
    "    processed_image = preprocess_image(image)\n",
    "    processed_image = np.expand_dims(processed_image, axis=0)  # Add batch dimension\n",
    "    \n",
    "    # Predict the ballooning score\n",
    "    score = model.predict(processed_image)[0]\n",
    "    \n",
    "    # Display the image and its predicted score\n",
    "    plt.imshow(cv2.cvtColor(image, cv2.COLOR_BGR2RGB))  # Convert BGR to RGB for displaying\n",
    "    plt.title(f'Predicted Ballooning Score: {score[0]:.2f}')\n",
    "    plt.axis('off')  # Hide axes\n",
    "    plt.show()\n",
    "    \n",
    "    return score"
   ]
  },
  {
   "cell_type": "code",
   "execution_count": null,
   "id": "84cbf90c",
   "metadata": {},
   "outputs": [],
   "source": [
    "image_path = \"D:/DATASET/CNN/ballooning/train/1/8_179_37.png\"\n",
    "score = predict_single_image(image_path, model)\n",
    "print (\"BALLOONING SCORE: \", score)"
   ]
  },
  {
   "cell_type": "code",
   "execution_count": null,
   "id": "469815a8",
   "metadata": {},
   "outputs": [],
   "source": [
    "# Save the model\n",
    "model.save('D:/DATASET/Models/model_ballooning.h5')"
   ]
  },
  {
   "cell_type": "code",
   "execution_count": null,
   "id": "9c5f0b55",
   "metadata": {},
   "outputs": [],
   "source": [
    "# Predict on Large images 1853x932 dimension\n",
    "\n",
    "import cv2\n",
    "import numpy as np\n",
    "import matplotlib.pyplot as plt\n",
    "\n",
    "def predict_and_visualize(image_path, model):\n",
    "    image = cv2.imread(image_path)\n",
    "    step_size = 299  # Since target size during training is 299x299\n",
    "    scores = []\n",
    "    fig, ax = plt.subplots(nrows=int(np.ceil((image.shape[0]-step_size)/step_size)), ncols=int(np.ceil((image.shape[1]-step_size)/step_size)), figsize=(20, 10))\n",
    "\n",
    "    idx = 0\n",
    "    for y in range(0, image.shape[0] - step_size, step_size):\n",
    "        for x in range(0, image.shape[1] - step_size, step_size):\n",
    "            crop = image[y:y+step_size, x:x+step_size]\n",
    "            processed_crop = preprocess_image(crop)\n",
    "            processed_crop = np.expand_dims(processed_crop, axis=0)\n",
    "            score = model.predict(processed_crop)[0]\n",
    "            scores.append(score)\n",
    "            \n",
    "            # Plotting the crop with its score\n",
    "            ax_idx = np.unravel_index(idx, ax.shape)\n",
    "            ax[ax_idx].imshow(cv2.cvtColor(crop, cv2.COLOR_BGR2RGB))\n",
    "            ax[ax_idx].title.set_text(f'Score: {score[0]:.2f}')\n",
    "            ax[ax_idx].axis('off')\n",
    "            idx += 1\n",
    "\n",
    "    plt.tight_layout()\n",
    "    plt.show()\n",
    "\n",
    "    average_score = np.mean(scores)\n",
    "    print(f'Average ballooning score for the image: {average_score}')\n",
    "\n",
    "    return scores, average_score\n"
   ]
  },
  {
   "cell_type": "code",
   "execution_count": null,
   "id": "0a39e3b1",
   "metadata": {},
   "outputs": [],
   "source": [
    "import matplotlib.pyplot as plt\n",
    "\n",
    "# Plot training accuracy and loss\n",
    "plt.figure(figsize=(10, 5))\n",
    "plt.subplot(1, 2, 1)\n",
    "plt.plot(history.history['accuracy'])\n",
    "plt.title('Model Accuracy')\n",
    "plt.ylabel('Accuracy')\n",
    "plt.xlabel('Epoch')\n",
    "plt.legend(['Train'], loc='upper left')\n",
    "\n",
    "plt.subplot(1, 2, 2)\n",
    "plt.plot(history.history['loss'])\n",
    "plt.title('Model Loss')\n",
    "plt.ylabel('Loss')\n",
    "plt.xlabel('Epoch')\n",
    "plt.legend(['Train'], loc='upper left')\n",
    "plt.show()"
   ]
  },
  {
   "cell_type": "code",
   "execution_count": null,
   "id": "b2812503",
   "metadata": {},
   "outputs": [],
   "source": []
  }
 ],
 "metadata": {
  "kernelspec": {
   "display_name": "Python 3",
   "language": "python",
   "name": "python3"
  },
  "language_info": {
   "codemirror_mode": {
    "name": "ipython",
    "version": 3
   },
   "file_extension": ".py",
   "mimetype": "text/x-python",
   "name": "python",
   "nbconvert_exporter": "python",
   "pygments_lexer": "ipython3",
   "version": "3.8.8"
  }
 },
 "nbformat": 4,
 "nbformat_minor": 5
}
