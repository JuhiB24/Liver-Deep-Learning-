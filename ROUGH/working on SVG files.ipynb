{
 "cells": [
  {
   "cell_type": "code",
   "execution_count": 3,
   "id": "b15c523f",
   "metadata": {},
   "outputs": [
    {
     "name": "stdout",
     "output_type": "stream",
     "text": [
      "No stained regions found with fill colors: ['#ff0000', 'red']\n"
     ]
    }
   ],
   "source": [
    "import svgwrite\n",
    "from lxml import etree\n",
    "\n",
    "def extract_stained_regions(svg_path, output_path, fill_colors):\n",
    "    # Parse the SVG file\n",
    "    tree = etree.parse(svg_path)\n",
    "    root = tree.getroot()\n",
    "\n",
    "    # Define the namespace map\n",
    "    ns = {'svg': 'http://www.w3.org/2000/svg'}\n",
    "\n",
    "    # Create a new SVG drawing for the output\n",
    "    dwg = svgwrite.Drawing(output_path, profile='full')\n",
    "\n",
    "    # Variable to track if any stained regions are found\n",
    "    found_stained_regions = False\n",
    "\n",
    "    # Iterate over all path elements in the SVG\n",
    "    for element in root.findall('.//svg:path', namespaces=ns):\n",
    "        style = element.attrib.get('style', '')\n",
    "        for fill_color in fill_colors:\n",
    "            if f'fill:{fill_color}' in style:\n",
    "                found_stained_regions = True\n",
    "                dwg.add(svgwrite.path.Path(d=element.attrib['d'], style=style))\n",
    "                break\n",
    "\n",
    "    if not found_stained_regions:\n",
    "        print(f\"No stained regions found with fill colors: {fill_colors}\")\n",
    "\n",
    "    # Save the new SVG with only stained regions\n",
    "    dwg.save()\n",
    "\n",
    "# Example usage\n",
    "svg_path = 'D:/PATENT/wsi/WSI_converted.svg'  # Replace with your SVG file path\n",
    "output_path = 'D:/PATENT/wsi/extracted_stained_regions.svg'  # Output path for the extracted SVG\n",
    "\n",
    "# Replace with the actual fill colors identified\n",
    "identified_fill_colors = ['#ff0000', 'red']  # Update this list with the actual fill colors\n",
    "\n",
    "# Extract stained regions\n",
    "extract_stained_regions(svg_path, output_path, identified_fill_colors)\n",
    "\n"
   ]
  },
  {
   "cell_type": "code",
   "execution_count": null,
   "id": "148d6fc9",
   "metadata": {},
   "outputs": [],
   "source": []
  },
  {
   "cell_type": "code",
   "execution_count": null,
   "id": "ede38b1b",
   "metadata": {},
   "outputs": [],
   "source": []
  },
  {
   "cell_type": "code",
   "execution_count": 4,
   "id": "e7202e6c",
   "metadata": {},
   "outputs": [
    {
     "name": "stdout",
     "output_type": "stream",
     "text": [
      "Unique fill colors found in the SVG paths:\n"
     ]
    }
   ],
   "source": [
    "from lxml import etree\n",
    "\n",
    "def identify_fill_colors(svg_path):\n",
    "    # Parse the SVG file\n",
    "    tree = etree.parse(svg_path)\n",
    "    root = tree.getroot()\n",
    "\n",
    "    # Define the namespace map\n",
    "    ns = {'svg': 'http://www.w3.org/2000/svg'}\n",
    "\n",
    "    # Set to store unique fill colors\n",
    "    fill_colors = set()\n",
    "\n",
    "    # Iterate over all path elements in the SVG\n",
    "    for element in root.findall('.//svg:path', namespaces=ns):\n",
    "        style = element.attrib.get('style', '')\n",
    "        for item in style.split(';'):\n",
    "            if item.strip().startswith('fill:'):\n",
    "                fill_color = item.split(':')[1].strip()\n",
    "                fill_colors.add(fill_color)\n",
    "\n",
    "    # Print all unique fill colors found\n",
    "    print(\"Unique fill colors found in the SVG paths:\")\n",
    "    for color in fill_colors:\n",
    "        print(color)\n",
    "\n",
    "# Example usage\n",
    "svg_path = 'D:/PATENT/wsi/WSI_converted.svg'  # Replace with your SVG file path\n",
    "\n",
    "# Identify fill colors in the SVG\n",
    "identify_fill_colors(svg_path)\n"
   ]
  },
  {
   "cell_type": "code",
   "execution_count": 5,
   "id": "dd6d1975",
   "metadata": {},
   "outputs": [
    {
     "name": "stdout",
     "output_type": "stream",
     "text": [
      "No stained regions found with fill colors: ['#ff69b4', '#ff1493']\n"
     ]
    }
   ],
   "source": [
    "import svgwrite\n",
    "from lxml import etree\n",
    "\n",
    "def extract_stained_regions(svg_path, output_path, fill_colors):\n",
    "    # Parse the SVG file\n",
    "    tree = etree.parse(svg_path)\n",
    "    root = tree.getroot()\n",
    "\n",
    "    # Define the namespace map\n",
    "    ns = {'svg': 'http://www.w3.org/2000/svg'}\n",
    "\n",
    "    # Create a new SVG drawing for the output\n",
    "    dwg = svgwrite.Drawing(output_path, profile='full')\n",
    "\n",
    "    # Variable to track if any stained regions are found\n",
    "    found_stained_regions = False\n",
    "\n",
    "    # Iterate over all path elements in the SVG\n",
    "    for element in root.findall('.//svg:path', namespaces=ns):\n",
    "        style = element.attrib.get('style', '')\n",
    "        for fill_color in fill_colors:\n",
    "            if f'fill:{fill_color}' in style:\n",
    "                found_stained_regions = True\n",
    "                dwg.add(svgwrite.path.Path(d=element.attrib['d'], style=style))\n",
    "                break\n",
    "\n",
    "    if not found_stained_regions:\n",
    "        print(f\"No stained regions found with fill colors: {fill_colors}\")\n",
    "\n",
    "    # Save the new SVG with only stained regions\n",
    "    dwg.save()\n",
    "\n",
    "# Example usage\n",
    "svg_path = 'D:/PATENT/wsi/WSI_converted.svg'  # Replace with your SVG file path\n",
    "output_path = 'D:/PATENT/wsi/extracted_stained_regions.svg'  # Output path for the extracted SVG\n",
    "\n",
    "# Replace with the actual fill colors identified\n",
    "identified_fill_colors = ['#ff69b4', '#ff1493']  # Update this list with the actual fill colors\n",
    "\n",
    "# Extract stained regions\n",
    "extract_stained_regions(svg_path, output_path, identified_fill_colors)\n"
   ]
  },
  {
   "cell_type": "code",
   "execution_count": null,
   "id": "fb0603e4",
   "metadata": {},
   "outputs": [],
   "source": []
  },
  {
   "cell_type": "code",
   "execution_count": null,
   "id": "8a552f66",
   "metadata": {},
   "outputs": [],
   "source": []
  },
  {
   "cell_type": "code",
   "execution_count": 6,
   "id": "f65f7fe7",
   "metadata": {},
   "outputs": [
    {
     "name": "stdout",
     "output_type": "stream",
     "text": [
      "Unique fill colors found in the SVG paths:\n"
     ]
    }
   ],
   "source": [
    "from lxml import etree\n",
    "\n",
    "def identify_fill_colors(svg_path):\n",
    "    # Parse the SVG file\n",
    "    tree = etree.parse(svg_path)\n",
    "    root = tree.getroot()\n",
    "\n",
    "    # Define the namespace map\n",
    "    ns = {'svg': 'http://www.w3.org/2000/svg'}\n",
    "\n",
    "    # Set to store unique fill colors\n",
    "    fill_colors = set()\n",
    "\n",
    "    # Iterate over all path elements in the SVG\n",
    "    for element in root.findall('.//svg:path', namespaces=ns):\n",
    "        style = element.attrib.get('style', '')\n",
    "        for item in style.split(';'):\n",
    "            if item.strip().startswith('fill:'):\n",
    "                fill_color = item.split(':')[1].strip()\n",
    "                fill_colors.add(fill_color)\n",
    "\n",
    "    # Print all unique fill colors found\n",
    "    print(\"Unique fill colors found in the SVG paths:\")\n",
    "    for color in fill_colors:\n",
    "        print(color)\n",
    "\n",
    "# Example usage\n",
    "svg_path = 'D:/PATENT/wsi/WSI_converted.svg'  # Replace with your SVG file path\n",
    "\n",
    "# Identify fill colors in the SVG\n",
    "identify_fill_colors(svg_path)\n"
   ]
  },
  {
   "cell_type": "code",
   "execution_count": 7,
   "id": "c686e0e7",
   "metadata": {},
   "outputs": [
    {
     "name": "stdout",
     "output_type": "stream",
     "text": [
      "No stained regions found with fill colors: ['#FFC0CB', '#FFB6C1', '#FF69B4', '#FF1493', '#DB7093', '#FF6347', '#FF0000']\n"
     ]
    }
   ],
   "source": [
    "import svgwrite\n",
    "from lxml import etree\n",
    "\n",
    "def extract_stained_regions(svg_path, output_path, fill_colors):\n",
    "    # Parse the SVG file\n",
    "    tree = etree.parse(svg_path)\n",
    "    root = tree.getroot()\n",
    "\n",
    "    # Define the namespace map\n",
    "    ns = {'svg': 'http://www.w3.org/2000/svg'}\n",
    "\n",
    "    # Create a new SVG drawing for the output\n",
    "    dwg = svgwrite.Drawing(output_path, profile='full')\n",
    "\n",
    "    # Variable to track if any stained regions are found\n",
    "    found_stained_regions = False\n",
    "\n",
    "    # Iterate over all path elements in the SVG\n",
    "    for element in root.findall('.//svg:path', namespaces=ns):\n",
    "        style = element.attrib.get('style', '')\n",
    "        for fill_color in fill_colors:\n",
    "            if f'fill:{fill_color}' in style:\n",
    "                found_stained_regions = True\n",
    "                dwg.add(svgwrite.path.Path(d=element.attrib['d'], style=style))\n",
    "                break\n",
    "\n",
    "    if not found_stained_regions:\n",
    "        print(f\"No stained regions found with fill colors: {fill_colors}\")\n",
    "\n",
    "    # Save the new SVG with only stained regions\n",
    "    dwg.save()\n",
    "\n",
    "# Example usage\n",
    "svg_path = 'D:/PATENT/wsi/WSI_converted.svg'  # Replace with your SVG file path\n",
    "output_path = 'D:/PATENT/wsi/extracted_stained_regions.svg'  # Output path for the extracted SVG\n",
    "\n",
    "# Replace with the actual fill colors identified\n",
    "# Fill this list with the colors you identified from the previous script\n",
    "identified_fill_colors = ['#FFC0CB', '#FFB6C1', '#FF69B4', '#FF1493', '#DB7093', '#FF6347', '#FF0000']  # Example list of pink hues\n",
    "\n",
    "# Extract stained regions\n",
    "extract_stained_regions(svg_path, output_path, identified_fill_colors)\n"
   ]
  },
  {
   "cell_type": "code",
   "execution_count": null,
   "id": "b0439969",
   "metadata": {},
   "outputs": [],
   "source": []
  },
  {
   "cell_type": "code",
   "execution_count": null,
   "id": "720d19c1",
   "metadata": {},
   "outputs": [],
   "source": []
  },
  {
   "cell_type": "code",
   "execution_count": null,
   "id": "a30101cd",
   "metadata": {},
   "outputs": [],
   "source": []
  },
  {
   "cell_type": "code",
   "execution_count": null,
   "id": "615875bf",
   "metadata": {},
   "outputs": [],
   "source": []
  },
  {
   "cell_type": "code",
   "execution_count": null,
   "id": "1952d965",
   "metadata": {},
   "outputs": [],
   "source": []
  },
  {
   "cell_type": "code",
   "execution_count": null,
   "id": "48e77088",
   "metadata": {},
   "outputs": [],
   "source": []
  },
  {
   "cell_type": "code",
   "execution_count": null,
   "id": "027950e3",
   "metadata": {},
   "outputs": [],
   "source": []
  }
 ],
 "metadata": {
  "kernelspec": {
   "display_name": "Python 3",
   "language": "python",
   "name": "python3"
  },
  "language_info": {
   "codemirror_mode": {
    "name": "ipython",
    "version": 3
   },
   "file_extension": ".py",
   "mimetype": "text/x-python",
   "name": "python",
   "nbconvert_exporter": "python",
   "pygments_lexer": "ipython3",
   "version": "3.8.8"
  }
 },
 "nbformat": 4,
 "nbformat_minor": 5
}
