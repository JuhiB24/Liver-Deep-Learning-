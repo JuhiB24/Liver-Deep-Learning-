{
 "cells": [
  {
   "cell_type": "code",
   "execution_count": 1,
   "id": "d77bb144",
   "metadata": {},
   "outputs": [
    {
     "data": {
      "image/png": "[encoded data removed]",
      "text/plain": [
       "<Figure size 432x288 with 1 Axes>"
      ]
     },
     "metadata": {
      "needs_background": "light"
     },
     "output_type": "display_data"
    }
   ],
   "source": [
    "import os\n",
    "import shutil\n",
    "from tensorflow.keras.preprocessing.image import ImageDataGenerator\n",
    "import matplotlib.pyplot as plt\n",
    "from tensorflow.keras.applications import ResNet50\n",
    "from tensorflow.keras.layers import GlobalAveragePooling2D, Dense\n",
    "from tensorflow.keras.models import Model\n",
    "from tensorflow.keras.optimizers import Adam\n",
    "from tensorflow.keras.preprocessing import image\n",
    "import numpy as np\n",
    "from tensorflow.keras.utils import plot_model\n",
    "\n",
    "# Paths\n",
    "data_dir = 'D:/DATASET/CNN/steatosis/train'  # Original dataset directory\n",
    "balanced_data_dir = 'D:/DATASET/CNN/steatosis/balanced_data'  # Target directory for balanced dataset\n",
    "\n",
    "# Create balanced_data directory and subdirectories for each class\n",
    "os.makedirs(balanced_data_dir, exist_ok=True)\n",
    "classes = ['0', '1', '2', '3']\n",
    "for cls in classes:\n",
    "    os.makedirs(os.path.join(balanced_data_dir, cls), exist_ok=True)\n",
    "\n",
    "def count_images_in_directory(directory):\n",
    "    \"\"\" Counts the images in each subdirectory of a given directory. \"\"\"\n",
    "    return {folder_name: len(os.listdir(os.path.join(directory, folder_name)))\n",
    "            for folder_name in os.listdir(directory) if os.path.isdir(os.path.join(directory, folder_name))}\n",
    "\n",
    "# Count and plot initial distribution\n",
    "initial_counts = count_images_in_directory(data_dir)\n",
    "\n",
    "def plot_distribution(data, title):\n",
    "    \"\"\" Plots the distribution of data classes. \"\"\"\n",
    "    classes = sorted(data.keys())\n",
    "    counts = [data[cls] for cls in classes]\n",
    "    plt.bar(classes, counts, color='blue')\n",
    "    plt.xlabel('Class Labels')\n",
    "    plt.ylabel('Number of Images')\n",
    "    plt.title(title)\n",
    "    plt.show()\n",
    "\n",
    "plot_distribution(initial_counts, 'Initial Distribution of Steatosis Levels')"
   ]
  },
  {
   "cell_type": "code",
   "execution_count": 2,
   "id": "adbb3571",
   "metadata": {},
   "outputs": [
    {
     "name": "stdout",
     "output_type": "stream",
     "text": [
      "Found 0 images belonging to 0 classes.\n",
      "Found 0 images belonging to 0 classes.\n"
     ]
    },
    {
     "data": {
      "image/png": "[encoded data removed]",
      "text/plain": [
       "<Figure size 432x288 with 1 Axes>"
      ]
     },
     "metadata": {
      "needs_background": "light"
     },
     "output_type": "display_data"
    }
   ],
   "source": [
    "target_samples = 4000\n",
    "\n",
    "# Data augmentation setup for oversampling\n",
    "datagen = ImageDataGenerator(\n",
    "    rotation_range=40,\n",
    "    width_shift_range=0.2,\n",
    "    height_shift_range=0.2,\n",
    "    shear_range=0.2,\n",
    "    zoom_range=0.2,\n",
    "    horizontal_flip=True,\n",
    "    fill_mode='nearest'\n",
    ")\n",
    "\n",
    "def resample_class_images(class_id):\n",
    "    \"\"\" Resamples images by class: oversampling or undersampling to target_samples. \"\"\"\n",
    "    class_dir = os.path.join(data_dir, class_id)\n",
    "    target_dir = os.path.join(balanced_data_dir, class_id)\n",
    "    images = os.listdir(class_dir)\n",
    "    current_count = len(images)\n",
    "\n",
    "    if current_count > target_samples:  # Undersampling\n",
    "        selected_images = np.random.choice(images, target_samples, replace=False)\n",
    "    else:  # Oversampling\n",
    "        selected_images = images  # Include all original images\n",
    "        # Augment data to reach target count\n",
    "        augmentation_count = target_samples - current_count\n",
    "        generator = datagen.flow_from_directory(\n",
    "            directory=class_dir,\n",
    "            target_size=(299, 299),\n",
    "            batch_size=1,\n",
    "            save_to_dir=target_dir,\n",
    "            save_prefix='aug',\n",
    "            save_format='jpeg'\n",
    "        )\n",
    "        for _ in range(augmentation_count):\n",
    "            generator.next()\n",
    "\n",
    "    # Copy selected images to balanced_data\n",
    "    for img in selected_images:\n",
    "        shutil.copy(os.path.join(class_dir, img), os.path.join(target_dir, img))\n",
    "\n",
    "# Resample each class\n",
    "for class_id in classes:\n",
    "    resample_class_images(class_id)\n",
    "\n",
    "# Count and plot balanced distribution\n",
    "balanced_counts = count_images_in_directory(balanced_data_dir)\n",
    "plot_distribution(balanced_counts, 'Balanced Distribution of Steatosis Levels')"
   ]
  },
  {
   "cell_type": "code",
   "execution_count": null,
   "id": "d827cad5",
   "metadata": {},
   "outputs": [],
   "source": [
    "# Load ResNet50 base model\n",
    "base_model = ResNet50(weights='imagenet', include_top=False, input_shape=(299, 299, 3))\n",
    "x = base_model.output\n",
    "x = GlobalAveragePooling2D()(x)\n",
    "x = Dense(4, activation='softmax')(x)\n",
    "model = Model(inputs=base_model.input, outputs=x)\n",
    "model.compile(optimizer=Adam(lr=0.0001), loss='categorical_crossentropy', metrics=['accuracy'])"
   ]
  },
  {
   "cell_type": "code",
   "execution_count": null,
   "id": "fced6697",
   "metadata": {},
   "outputs": [],
   "source": [
    "# Visualize the model architecture\n",
    "plot_model(model, to_file='D:/DATASET/steatosis_model_architecture.png', show_shapes=True, show_layer_names=True)"
   ]
  },
  {
   "cell_type": "code",
   "execution_count": null,
   "id": "d4744795",
   "metadata": {},
   "outputs": [],
   "source": [
    "# Create a model for feature map extraction\n",
    "feature_model = Model(inputs=base_model.input, outputs=base_model.get_layer('conv5_block3_out').output)"
   ]
  },
  {
   "cell_type": "code",
   "execution_count": null,
   "id": "96b3a04b",
   "metadata": {},
   "outputs": [],
   "source": [
    "def extract_and_display_image(image_path, feature_model):\n",
    "    img = Image.open(image_path)\n",
    "    img_resized = img.resize((299, 299), Image.ANTIALIAS)\n",
    "    img_array = np.array(img_resized) / 255.0\n",
    "    img_array = img_array[np.newaxis, ...]\n",
    "\n",
    "    # Display the original image\n",
    "    plt.imshow(img)\n",
    "    plt.title(\"Original Image\")\n",
    "    plt.axis('off')\n",
    "    plt.show()\n",
    "\n",
    "    # Get the feature maps\n",
    "    feature_maps = feature_model.predict(img_array)[0]\n",
    "    return feature_maps"
   ]
  },
  {
   "cell_type": "code",
   "execution_count": null,
   "id": "a7e81f6e",
   "metadata": {},
   "outputs": [],
   "source": [
    "def visualize_feature_maps(feature_maps, num_features=15):\n",
    "    # Display the first 'num_features' feature maps\n",
    "    fig, axes = plt.subplots(nrows=int(np.sqrt(num_features)), ncols=int(np.sqrt(num_features)), figsize=(10, 10))\n",
    "    for i, ax in enumerate(axes.flat):\n",
    "        if i < num_features:\n",
    "            ax.imshow(feature_maps[:, :, i], cmap='viridis')\n",
    "            ax.axis('off')\n",
    "    plt.show()"
   ]
  },
  {
   "cell_type": "code",
   "execution_count": null,
   "id": "d3ef4f55",
   "metadata": {},
   "outputs": [],
   "source": [
    "# Prepare data generator for training\n",
    "train_datagen = ImageDataGenerator(rescale=1./255)\n",
    "train_generator = train_datagen.flow_from_directory(\n",
    "    balanced_data_dir,\n",
    "    target_size=(299, 299),\n",
    "    batch_size=32,\n",
    "    class_mode='categorical'\n",
    ")"
   ]
  },
  {
   "cell_type": "code",
   "execution_count": null,
   "id": "628a1422",
   "metadata": {},
   "outputs": [],
   "source": [
    "# Train the model\n",
    "history = model.fit(train_generator, epochs=10)\n",
    "\n",
    "# Save the trained model\n",
    "model.save('D:/DATASET/Models/model_steatosis.h5')"
   ]
  },
  {
   "cell_type": "code",
   "execution_count": null,
   "id": "b3c4aba4",
   "metadata": {},
   "outputs": [],
   "source": [
    "import json\n",
    "\n",
    "# Save the training history\n",
    "with open('D:/DATASET/Models/steatosis_history.json', 'w') as file:\n",
    "    json.dump(history.history, file)"
   ]
  },
  {
   "cell_type": "code",
   "execution_count": null,
   "id": "88def06a",
   "metadata": {},
   "outputs": [],
   "source": [
    "# Function to plot validation loss\n",
    "def plot_validation_loss(history, model_name):\n",
    "    plt.plot(history['val_loss'], label=f'{model_name} Validation Loss')\n",
    "    plt.title(f'{model_name} Validation Loss Curve')\n",
    "    plt.xlabel('Epochs')\n",
    "    plt.ylabel('Validation Loss')\n",
    "    plt.legend()\n",
    "    plt.show()"
   ]
  },
  {
   "cell_type": "code",
   "execution_count": null,
   "id": "166818e1",
   "metadata": {},
   "outputs": [],
   "source": [
    "# Plot validation loss for steatosis model\n",
    "with open('D:/DATASET/Models/steatosis_history.json', 'r') as file:\n",
    "    fibrosis_history = json.load(file)\n",
    "\n",
    "plot_validation_loss(fibrosis_history, 'Steatosis')"
   ]
  },
  {
   "cell_type": "code",
   "execution_count": null,
   "id": "e5c8bd88",
   "metadata": {},
   "outputs": [],
   "source": []
  },
  {
   "cell_type": "code",
   "execution_count": null,
   "id": "9bc6b961",
   "metadata": {},
   "outputs": [],
   "source": []
  },
  {
   "cell_type": "code",
   "execution_count": null,
   "id": "420e4689",
   "metadata": {},
   "outputs": [],
   "source": []
  },
  {
   "cell_type": "code",
   "execution_count": null,
   "id": "a524efea",
   "metadata": {},
   "outputs": [],
   "source": [
    "from PIL import Image\n",
    "\n",
    "image_path = \"D:/DATASET/CNN/steatosis/train/2/14_178_99.png\"\n",
    "feature_maps = extract_and_display_image(image_path, feature_model)\n",
    "visualize_feature_maps(feature_maps)"
   ]
  },
  {
   "cell_type": "code",
   "execution_count": null,
   "id": "195c2d7a",
   "metadata": {},
   "outputs": [],
   "source": [
    "# Create a model for feature map extraction\n",
    "feature_model = Model(inputs=base_model.input, outputs=base_model.get_layer('conv5_block3_3_conv').output)"
   ]
  },
  {
   "cell_type": "code",
   "execution_count": null,
   "id": "138c7720",
   "metadata": {},
   "outputs": [],
   "source": [
    "image_path = \"D:/DATASET/CNN/steatosis/train/2/14_178_99.png\"\n",
    "feature_maps = extract_and_display_image(image_path, feature_model)\n",
    "visualize_feature_maps(feature_maps)"
   ]
  },
  {
   "cell_type": "code",
   "execution_count": null,
   "id": "b435f5dd",
   "metadata": {},
   "outputs": [],
   "source": []
  },
  {
   "cell_type": "code",
   "execution_count": null,
   "id": "aa9aacf3",
   "metadata": {},
   "outputs": [],
   "source": [
    "def predict_new_image(image_path, model_path='steatosis_classification_model.h5'):\n",
    "    \"\"\" Load an image, preprocess it, and use a trained model to predict the steatosis level. \"\"\"\n",
    "\n",
    "    # Load and preprocess the image\n",
    "    img = image.load_img(image_path, target_size=(299, 299))\n",
    "    img_array = image.img_to_array(img)\n",
    "    img_array = np.expand_dims(img_array, axis=0)  # Create a batch\n",
    "    img_array /= 255.0  # Normalize the image\n",
    "\n",
    "    # Predict the steatosis level\n",
    "    probabilities = model.predict(img_array)\n",
    "    predicted_class = np.argmax(probabilities)\n",
    "\n",
    "    # Show the image and the prediction\n",
    "    plt.imshow(img)\n",
    "    plt.title(f'Predicted Steatosis Level: {predicted_class}')\n",
    "    plt.axis('off')\n",
    "    plt.show()\n",
    "\n",
    "    return predicted_class"
   ]
  },
  {
   "cell_type": "code",
   "execution_count": null,
   "id": "ec5d57a7",
   "metadata": {},
   "outputs": [],
   "source": [
    "# Assuming you have a test image \n",
    "image_path = 'D:/DATASET/CNN/steatosis/train/2/5_42_24.png'\n",
    "predicted_class = predict_new_image(image_path)"
   ]
  },
  {
   "cell_type": "code",
   "execution_count": null,
   "id": "d22954a2",
   "metadata": {},
   "outputs": [],
   "source": []
  },
  {
   "cell_type": "code",
   "execution_count": null,
   "id": "4fa1e094",
   "metadata": {},
   "outputs": [],
   "source": [
    "def crop_and_predict_large_image(image_path, model_path):\n",
    "    # Load the pre-trained model\n",
    "    model = load_model(model_path)\n",
    "    \n",
    "    # Load the image\n",
    "    img = Image.open(image_path)\n",
    "\n",
    "    # Define crop size and step size for the original desired crop dimensions\n",
    "    crop_width, crop_height = 185, 93\n",
    "    model_input_size = (299, 299)  # Model's expected input size\n",
    "\n",
    "    # Initialize a list to store scores and prepare for cropping\n",
    "    scores = []\n",
    "    num_rows = (img.height // crop_height)\n",
    "    num_cols = (img.width // crop_width)\n",
    "    fig, axs = plt.subplots(nrows=num_rows, ncols=num_cols, figsize=(20, 10))\n",
    "\n",
    "    # Crop the image and predict for each crop\n",
    "    for i in range(0, img.height - crop_height + 1, crop_height):\n",
    "        for j in range(0, img.width - crop_width + 1, crop_width):\n",
    "            crop = img.crop((j, i, j + crop_width, i + crop_height))\n",
    "            crop = crop.resize(model_input_size)  # Resize the crop to match the model's input size\n",
    "            crop_array = np.array(crop) / 255.0  # Normalize the image data\n",
    "            crop_array = np.expand_dims(crop_array, axis=0)  # Add batch dimension\n",
    "\n",
    "            # Predict the class and store the score\n",
    "            prediction = model.predict(crop_array)\n",
    "            predicted_class = np.argmax(prediction)\n",
    "            scores.append(predicted_class)\n",
    "\n",
    "            # Plot each crop\n",
    "            ax_idx = (i // crop_height, j // crop_width)\n",
    "            axs[ax_idx].imshow(crop)\n",
    "            axs[ax_idx].title.set_text(f'Score: {predicted_class}')\n",
    "            axs[ax_idx].axis('off')\n",
    "\n",
    "    # Calculate the average score of all crops\n",
    "    average_score = np.mean(scores)\n",
    "    print(f'Average Steatosis Score for the image: {average_score:.2f}')\n",
    "\n",
    "    # Show the large image with the average score\n",
    "    plt.figure(figsize=(10, 5))\n",
    "    plt.imshow(img)\n",
    "    plt.title(f'Large Image with Average Score: {average_score:.2f}')\n",
    "    plt.axis('off')\n",
    "    plt.show()\n",
    "\n",
    "    return average_score"
   ]
  },
  {
   "cell_type": "code",
   "execution_count": null,
   "id": "43abd492",
   "metadata": {},
   "outputs": [],
   "source": [
    "model_path = 'D:/DATASET/Models/model_steatosis.h5'\n",
    "image_path = \"D:/scoring/Z_nc40x2.jpg\"\n",
    "average_steatosis_score = crop_and_predict_large_image(image_path, model_path)"
   ]
  },
  {
   "cell_type": "code",
   "execution_count": null,
   "id": "6a554bd2",
   "metadata": {},
   "outputs": [],
   "source": []
  },
  {
   "cell_type": "code",
   "execution_count": null,
   "id": "42f36b67",
   "metadata": {},
   "outputs": [],
   "source": []
  },
  {
   "cell_type": "code",
   "execution_count": null,
   "id": "6761bd19",
   "metadata": {},
   "outputs": [],
   "source": []
  },
  {
   "cell_type": "code",
   "execution_count": null,
   "id": "15acbb45",
   "metadata": {},
   "outputs": [],
   "source": []
  }
 ],
 "metadata": {
  "kernelspec": {
   "display_name": "Python 3",
   "language": "python",
   "name": "python3"
  },
  "language_info": {
   "codemirror_mode": {
    "name": "ipython",
    "version": 3
   },
   "file_extension": ".py",
   "mimetype": "text/x-python",
   "name": "python",
   "nbconvert_exporter": "python",
   "pygments_lexer": "ipython3",
   "version": "3.8.8"
  }
 },
 "nbformat": 4,
 "nbformat_minor": 5
}
