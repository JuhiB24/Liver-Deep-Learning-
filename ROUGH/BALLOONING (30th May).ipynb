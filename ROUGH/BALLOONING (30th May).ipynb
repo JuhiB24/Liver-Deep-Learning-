{
 "cells": [
  {
   "cell_type": "code",
   "execution_count": null,
   "id": "ce12fc71",
   "metadata": {},
   "outputs": [],
   "source": [
    "import numpy as np\n",
    "import matplotlib.pyplot as plt\n",
    "import os\n",
    "import cv2\n",
    "from tensorflow.keras.preprocessing.image import ImageDataGenerator\n",
    "from tensorflow.keras.applications import ResNet50\n",
    "from tensorflow.keras.layers import Dense, GlobalAveragePooling2D\n",
    "from tensorflow.keras.models import Model\n",
    "from tensorflow.keras.optimizers import Adam\n",
    "from tensorflow.keras.preprocessing import image\n",
    "from tensorflow.keras.models import load_model\n",
    "from scipy.ndimage import gaussian_filter, laplace"
   ]
  },
  {
   "cell_type": "code",
   "execution_count": null,
   "id": "d40ca507",
   "metadata": {},
   "outputs": [],
   "source": [
    "# Define paths and parameters\n",
    "base_dir = \"D:/DATASET/CNN/ballooning/train-copy\"\n",
    "val_dir = \"D:/DATASET/CNN/ballooning/val\" \n",
    "target_dir = \"D:/DATASET/CNN/ballooning/balanced_train\"\n",
    "batch_size = 32\n",
    "target_size = (185, 932)  # New target size for cropping"
   ]
  },
  {
   "cell_type": "code",
   "execution_count": null,
   "id": "4dae3ab3",
   "metadata": {},
   "outputs": [],
   "source": [
    "# Function to save balanced dataset\n",
    "def save_balanced_dataset(source_dir, target_dir):\n",
    "    # Create target directory if it does not exist\n",
    "    if not os.path.exists(target_dir):\n",
    "        os.makedirs(target_dir)\n",
    "        os.makedirs(os.path.join(target_dir, '0'))\n",
    "        os.makedirs(os.path.join(target_dir, '1'))\n",
    "\n",
    "    # Load dataset\n",
    "    data_gen = ImageDataGenerator(rescale=1./255)\n",
    "    generator = data_gen.flow_from_directory(\n",
    "        source_dir,\n",
    "        target_size=(224, 224),\n",
    "        batch_size=batch_size,\n",
    "        class_mode='binary',\n",
    "        shuffle=True,\n",
    "        save_to_dir=target_dir,\n",
    "        save_prefix='aug_',\n",
    "        save_format='jpeg'\n",
    "    )\n",
    "\n",
    "    # Balance classes\n",
    "    for _ in range(2000):  # Number of batches to generate\n",
    "        images, labels = next(generator)"
   ]
  },
  {
   "cell_type": "code",
   "execution_count": null,
   "id": "e29d4d5f",
   "metadata": {},
   "outputs": [],
   "source": [
    "# Load and preprocess data\n",
    "def preprocess_data():\n",
    "    train_datagen = ImageDataGenerator(\n",
    "        rescale=1./255,\n",
    "        rotation_range=10,\n",
    "        width_shift_range=0.1,\n",
    "        height_shift_range=0.1,\n",
    "        shear_range=0.1,\n",
    "        zoom_range=0.1,\n",
    "        horizontal_flip=True,\n",
    "        fill_mode='nearest'\n",
    "    )\n",
    "    train_generator = train_datagen.flow_from_directory(\n",
    "        target_dir,\n",
    "        target_size=(224, 224),\n",
    "        batch_size=batch_size,\n",
    "        class_mode='binary'\n",
    "    )\n",
    "    return train_generator"
   ]
  },
  {
   "cell_type": "code",
   "execution_count": null,
   "id": "2086f933",
   "metadata": {},
   "outputs": [],
   "source": [
    "# Load model and add custom layers\n",
    "def build_model():\n",
    "    base_model = ResNet50(weights='imagenet', include_top=False, input_shape=(224, 224, 3))\n",
    "    for layer in base_model.layers:\n",
    "        layer.trainable = False\n",
    "    x = GlobalAveragePooling2D()(base_model.output)\n",
    "    x = Dense(1024, activation='relu')(x)\n",
    "    predictions = Dense(1, activation='sigmoid')(x)\n",
    "    model = Model(inputs=base_model.input, outputs=predictions)\n",
    "    model.compile(optimizer=Adam(lr=0.0001), loss='binary_crossentropy', metrics=['accuracy'])\n",
    "    return model\n"
   ]
  },
  {
   "cell_type": "code",
   "execution_count": null,
   "id": "2e8c3665",
   "metadata": {},
   "outputs": [],
   "source": [
    "# Train model\n",
    "def train_model(model, train_generator):\n",
    "    history = model.fit(train_generator, epochs=5, validation_data=validation_generator)\n",
    "    plt.plot(history.history['accuracy'], label='Train Accuracy')\n",
    "    plt.plot(history.history['val_accuracy'], label='Validation Accuracy')\n",
    "    plt.title('Model Accuracy')\n",
    "    plt.ylabel('Accuracy')\n",
    "    plt.xlabel('Epoch')\n",
    "    plt.legend()\n",
    "    plt.show()\n",
    "    return model"
   ]
  },
  {
   "cell_type": "code",
   "execution_count": null,
   "id": "e119ea26",
   "metadata": {},
   "outputs": [],
   "source": [
    "# Predict using model\n",
    "def predict_image(model, img_path):\n",
    "    # Load and preprocess the image\n",
    "    img = image.load_img(img_path, color_mode='rgb')\n",
    "    img = image.img_to_array(img)\n",
    "    img = cv2.cvtColor(img, cv2.COLOR_BGR2GRAY)  # Convert to grayscale\n",
    "    img = gaussian_filter(img, sigma=1)  # Apply Gaussian filter\n",
    "    img = laplace(img)  # Apply Laplacian filter to highlight features\n",
    "    # Crop and predict for each patch\n",
    "    predictions = []\n",
    "    for y in range(0, img.shape[0], target_size[1]):  # Loop through height\n",
    "        crop = img[y:y+target_size[1], :]\n",
    "        crop = cv2.resize(crop, (224, 224))\n",
    "        crop = np.expand_dims(crop, axis=-1)\n",
    "        crop = np.repeat(crop, 3, axis=-1)  # Make 3 channel for ResNet input\n",
    "        crop = np.expand_dims(crop, axis=0)\n",
    "        prediction = model.predict(crop)[0]\n",
    "        predictions.append(prediction)\n",
    "    average_score = np.mean(predictions)\n",
    "    plt.imshow(img, cmap='gray')\n",
    "    plt.title(f'Processed Image - Average Score: {average_score:.2f}')\n",
    "    plt.show()\n",
    "    return average_score"
   ]
  },
  {
   "cell_type": "code",
   "execution_count": null,
   "id": "c3d47272",
   "metadata": {},
   "outputs": [],
   "source": [
    "model = build_model()"
   ]
  },
  {
   "cell_type": "code",
   "execution_count": null,
   "id": "603a0244",
   "metadata": {},
   "outputs": [],
   "source": [
    "train_generator = preprocess_data()"
   ]
  },
  {
   "cell_type": "code",
   "execution_count": null,
   "id": "07e9dcb4",
   "metadata": {},
   "outputs": [],
   "source": [
    "model = train_model(model, train_generator)"
   ]
  },
  {
   "cell_type": "code",
   "execution_count": null,
   "id": "1d007fc2",
   "metadata": {},
   "outputs": [],
   "source": [
    "img_path = \"D:/DATASET/CNN/ballooning/val/1/97_5_43.png\""
   ]
  },
  {
   "cell_type": "code",
   "execution_count": null,
   "id": "f43e6052",
   "metadata": {},
   "outputs": [],
   "source": [
    "average_score = predict_image(model, img_path)"
   ]
  }
 ],
 "metadata": {
  "kernelspec": {
   "display_name": "Python 3",
   "language": "python",
   "name": "python3"
  },
  "language_info": {
   "codemirror_mode": {
    "name": "ipython",
    "version": 3
   },
   "file_extension": ".py",
   "mimetype": "text/x-python",
   "name": "python",
   "nbconvert_exporter": "python",
   "pygments_lexer": "ipython3",
   "version": "3.8.8"
  }
 },
 "nbformat": 4,
 "nbformat_minor": 5
}
