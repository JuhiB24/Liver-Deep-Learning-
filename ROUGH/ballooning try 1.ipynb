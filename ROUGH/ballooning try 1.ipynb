{
 "cells": [
  {
   "cell_type": "code",
   "execution_count": 1,
   "id": "f144bb06",
   "metadata": {},
   "outputs": [],
   "source": [
    "import numpy as np\n",
    "import pandas as pd\n",
    "import os\n",
    "import cv2\n",
    "from sklearn.model_selection import train_test_split\n",
    "from tensorflow.keras.applications import ResNet50\n",
    "from tensorflow.keras.models import Sequential\n",
    "from tensorflow.keras.layers import Dense, Flatten, Dropout\n",
    "from tensorflow.keras.optimizers import Adam\n",
    "from tensorflow.keras.preprocessing.image import ImageDataGenerator\n",
    "from sklearn.metrics import classification_report, confusion_matrix\n",
    "import matplotlib.pyplot as plt\n"
   ]
  },
  {
   "cell_type": "code",
   "execution_count": null,
   "id": "7a15bc3e",
   "metadata": {
    "scrolled": true
   },
   "outputs": [],
   "source": [
    "# Loop through each class directory\n",
    "for class_name in class_names:\n",
    "    class_path = os.path.join(dataset_path, class_name)\n",
    "    \n",
    "    # Loop through each image in the class directory\n",
    "    for image_file in os.listdir(class_path):\n",
    "        image_path = os.path.join(class_path, image_file)\n",
    "        \n",
    "        # Read and preprocess the image\n",
    "        image = cv2.imread(image_path, cv2.IMREAD_GRAYSCALE)\n",
    "        if image is None:\n",
    "            print(f\"Error: Unable to load image at path: {image_path}\")\n",
    "            continue  # Skip to the next image\n",
    "        if image.size == 0:\n",
    "            print(f\"Error: Empty image at path: {image_path}\")\n",
    "            continue  # Skip to the next image\n",
    "        image = cv2.resize(image, (224, 224))\n",
    "        image = np.expand_dims(image, axis=-1)  # Add channel dimension\n",
    "        images.append(image)\n",
    "        \n",
    "        # Assign the label based on the class directory\n",
    "        label = int(class_name)\n",
    "        labels.append(label)"
   ]
  },
  {
   "cell_type": "code",
   "execution_count": null,
   "id": "36706a2c",
   "metadata": {},
   "outputs": [],
   "source": []
  },
  {
   "cell_type": "code",
   "execution_count": null,
   "id": "99da2349",
   "metadata": {},
   "outputs": [],
   "source": [
    "# Convert lists to numpy arrays\n",
    "images = np.array(images)\n",
    "labels = np.array(labels)\n",
    "\n",
    "# Print the shapes of the images and labels arrays\n",
    "print(\"Images shape:\", images.shape)\n",
    "print(\"Labels shape:\", labels.shape)"
   ]
  },
  {
   "cell_type": "code",
   "execution_count": null,
   "id": "8deddfcd",
   "metadata": {},
   "outputs": [],
   "source": [
    "# Split dataset into train and test sets\n",
    "X_train, X_test, y_train, y_test = train_test_split(images, labels, test_size=0.2, random_state=42)\n",
    "\n",
    "# Convert labels to one-hot encoding\n",
    "y_train = np.eye(2)[y_train]\n",
    "y_test = np.eye(2)[y_test]"
   ]
  },
  {
   "cell_type": "code",
   "execution_count": null,
   "id": "190c5d70",
   "metadata": {},
   "outputs": [],
   "source": [
    "# Data augmentation using ImageDataGenerator\n",
    "train_datagen = ImageDataGenerator(rescale=1./255, rotation_range=20, width_shift_range=0.2, height_shift_range=0.2,\n",
    "                                   shear_range=0.2, zoom_range=0.2, horizontal_flip=True, fill_mode='nearest')\n",
    "\n",
    "test_datagen = ImageDataGenerator(rescale=1./255)\n",
    "\n",
    "# Reshape images to 3D tensors (height, width, channels)\n",
    "X_train = np.expand_dims(X_train, axis=-1)\n",
    "X_test = np.expand_dims(X_test, axis=-1)"
   ]
  },
  {
   "cell_type": "code",
   "execution_count": null,
   "id": "af24f473",
   "metadata": {},
   "outputs": [],
   "source": [
    "# Create ResNet50 model\n",
    "base_model = ResNet50(weights='imagenet', include_top=False, input_shape=(224, 224, 3))\n",
    "\n",
    "# Build your model on top of the base ResNet50 model\n",
    "model = Sequential([\n",
    "    base_model,\n",
    "    Flatten(),\n",
    "    Dense(256, activation='relu'),\n",
    "    Dense(1, activation='sigmoid')  # Assuming binary classification\n",
    "])\n",
    "\n",
    "# Compile the model\n",
    "model.compile(optimizer=Adam(learning_rate=0.0001), loss='binary_crossentropy', metrics=['accuracy'])\n",
    "\n",
    "# Display model summary\n",
    "model.summary()"
   ]
  },
  {
   "cell_type": "code",
   "execution_count": null,
   "id": "f457585c",
   "metadata": {},
   "outputs": [],
   "source": [
    "# Reshape input data to remove extra dimensions\n",
    "X_train = X_train.squeeze()\n",
    "y_train = y_train.squeeze()\n",
    "\n",
    "# Train model\n",
    "history = model.fit(train_datagen.flow(X_train, y_train, batch_size=32), epochs=5, validation_data=(X_test, y_test))\n",
    "\n",
    "model.save('D:/DATASET/Models/model_ballooning')\n",
    "\n",
    "# Evaluate model\n",
    "test_loss, test_acc = model.evaluate(test_datagen.flow(X_test, y_test, batch_size=32))\n",
    "print(\"Test Accuracy:\", test_acc)"
   ]
  },
  {
   "cell_type": "code",
   "execution_count": null,
   "id": "8fe2129e",
   "metadata": {},
   "outputs": [],
   "source": [
    "# Predict on test set\n",
    "y_pred = model.predict(X_test)\n",
    "y_pred = np.argmax(y_pred, axis=1)\n",
    "y_true = np.argmax(y_test, axis=1)"
   ]
  },
  {
   "cell_type": "code",
   "execution_count": null,
   "id": "0f1eca19",
   "metadata": {},
   "outputs": [],
   "source": [
    "# Classification report and confusion matrix\n",
    "print(classification_report(y_true, y_pred))\n",
    "print(confusion_matrix(y_true, y_pred))\n",
    "\n",
    "# Plot training history\n",
    "plt.plot(history.history['accuracy'], label='accuracy')\n",
    "plt.plot(history.history['val_accuracy'], label = 'val_accuracy')\n",
    "plt.xlabel('Epoch')\n",
    "plt.ylabel('Accuracy')\n",
    "plt.ylim([0, 1])\n",
    "plt.legend(loc='lower right')\n",
    "plt.show()"
   ]
  },
  {
   "cell_type": "code",
   "execution_count": null,
   "id": "01735338",
   "metadata": {},
   "outputs": [],
   "source": [
    "import numpy as np\n",
    "import cv2\n",
    "from tensorflow.keras.models import load_model\n",
    "import matplotlib.pyplot as plt\n",
    "import seaborn as sns\n",
    "from sklearn.metrics import confusion_matrix, roc_curve, auc\n",
    "\n",
    "def predict_image(image_path, model):\n",
    "    # Load and preprocess the image\n",
    "    image = cv2.imread(image_path, cv2.IMREAD_GRAYSCALE)\n",
    "    image = cv2.resize(image, (224, 224))\n",
    "    image = np.expand_dims(image, axis=-1)\n",
    "    image = np.expand_dims(image, axis=0) / 255.0\n",
    "\n",
    "    # Predict the score\n",
    "    prediction = model.predict(image)\n",
    "    score = np.argmax(prediction)\n",
    "    \n",
    "    print(\"Predictions: \",prediction)\n",
    "    \n",
    "    # Define the NASH score mapping\n",
    "    nash_scores = {\n",
    "        0: \"0: Ballooning absent\",\n",
    "        1: \"1: Ballooning present\"\n",
    "    }\n",
    "    \n",
    "    # Get the NASH score corresponding to the maximum probability\n",
    "    nash_score = nash_scores[score]\n",
    "    \n",
    "    # Print the NASH score\n",
    "    print('Predicted NASH score:', nash_score)\n",
    "    \n",
    "    return score\n",
    "\n",
    "# Load the model\n",
    "model = load_model('D:/DATASET/Models/model_ballooning.h5')"
   ]
  },
  {
   "cell_type": "code",
   "execution_count": null,
   "id": "234b1a8a",
   "metadata": {},
   "outputs": [],
   "source": [
    "# Plot evaluation graphs for the input image\n",
    "def plot_evaluation(image_path, model):\n",
    "    # Load and preprocess the image\n",
    "    image = cv2.imread(image_path, cv2.IMREAD_GRAYSCALE)\n",
    "    image = cv2.resize(image, (224, 224))\n",
    "    image = np.expand_dims(image, axis=-1)\n",
    "    image = np.expand_dims(image, axis=0) / 255.0\n",
    "\n",
    "    # Predict the score\n",
    "    prediction = model.predict(image)\n",
    "    predicted_score = np.argmax(prediction)\n",
    "\n",
    "    # Plot sample predictions\n",
    "    plt.figure(figsize=(5, 5))\n",
    "    plt.imshow(image.squeeze(), cmap='gray')\n",
    "    plt.title(f\"Predicted Score: {predicted_score}\")\n",
    "    plt.axis('off')\n",
    "    plt.show()\n",
    "\n",
    "    # Confusion matrix\n",
    "    y_true = [0]  # As we are plotting for only one image\n",
    "    predicted_classes = [predicted_score]\n",
    "    conf_matrix = confusion_matrix(y_true, predicted_classes)\n",
    "    plt.figure(figsize=(4, 4))\n",
    "    sns.heatmap(conf_matrix, annot=True, fmt=\"d\", cmap=\"Blues\")\n",
    "    plt.xlabel(\"Predicted label\")\n",
    "    plt.ylabel(\"True label\")\n",
    "    plt.title(\"Confusion Matrix\")\n",
    "    plt.show()\n",
    "\n",
    "    # ROC curve\n",
    "    fpr, tpr, _ = roc_curve(y_true, predicted_classes)\n",
    "    roc_auc = auc(fpr, tpr)\n",
    "\n",
    "    plt.figure()\n",
    "    plt.plot(fpr, tpr, color='darkorange', lw=2, label=f'ROC curve (AUC = {roc_auc:.2f})')\n",
    "    plt.plot([0, 1], [0, 1], color='navy', lw=2, linestyle='--')\n",
    "    plt.xlim([0.0, 1.0])\n",
    "    plt.ylim([0.0, 1.05])\n",
    "    plt.xlabel('False Positive Rate')\n",
    "    plt.ylabel('True Positive Rate')\n",
    "    plt.title('Receiver Operating Characteristic (ROC)')\n",
    "    plt.legend(loc=\"lower right\")\n",
    "    plt.show()"
   ]
  },
  {
   "cell_type": "code",
   "execution_count": null,
   "id": "c31f6b98",
   "metadata": {},
   "outputs": [],
   "source": [
    "# Take input image path from the user\n",
    "image_path = \"D:/DATASET/CNN/ballooning/train/1/8_179_31.png\"\n",
    "\n",
    "# Plot evaluation graphs for the input image\n",
    "plot_evaluation(image_path, model)"
   ]
  },
  {
   "cell_type": "code",
   "execution_count": null,
   "id": "920bd51c",
   "metadata": {},
   "outputs": [],
   "source": []
  }
 ],
 "metadata": {
  "kernelspec": {
   "display_name": "Python 3",
   "language": "python",
   "name": "python3"
  },
  "language_info": {
   "codemirror_mode": {
    "name": "ipython",
    "version": 3
   },
   "file_extension": ".py",
   "mimetype": "text/x-python",
   "name": "python",
   "nbconvert_exporter": "python",
   "pygments_lexer": "ipython3",
   "version": "3.8.8"
  }
 },
 "nbformat": 4,
 "nbformat_minor": 5
}
